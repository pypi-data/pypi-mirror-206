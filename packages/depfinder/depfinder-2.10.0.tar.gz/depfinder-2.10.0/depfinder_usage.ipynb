{
 "cells": [
  {
   "cell_type": "code",
   "execution_count": 20,
   "metadata": {
    "collapsed": false
   },
   "outputs": [
    {
     "name": "stdout",
     "output_type": "stream",
     "text": [
      "{'questionable': {'PyQt4', 'PyQt5'}, 'required': {'numpy'}}\n"
     ]
    }
   ],
   "source": [
    "from pprint import pprint\n",
    "\n",
    "import depfinder\n",
    "code = \"\"\"\n",
    "import numpy\n",
    "try:\n",
    "    import PyQt4\n",
    "except ImportError:\n",
    "    import PyQt5\"\"\"\n",
    "deps = depfinder.get_imported_libs(code)\n",
    "print(deps.describe())"
   ]
  },
  {
   "cell_type": "code",
   "execution_count": 21,
   "metadata": {
    "collapsed": false
   },
   "outputs": [
    {
     "name": "stdout",
     "output_type": "stream",
     "text": [
      "....\n",
      "module_name = setup\n",
      "full_path = /home/edill/dev/python/depfinder/setup.py\n",
      "dependencies\n",
      "{'required': {'setuptools'}}\n",
      "module_name = depfinder\n",
      "full_path = /home/edill/dev/python/depfinder/depfinder.py\n",
      "dependencies\n",
      "{'builtin': {'json', '__future__', 'os', 'collections', 'ast', 'sys'}, 'required': {'stdlib_list'}}\n",
      "module_name = test_with_notebook\n",
      "full_path = /home/edill/dev/python/depfinder/tests/test_with_notebook.py\n",
      "dependencies\n",
      "{'builtin': {'os', 'collections', 'tempfile'}, 'required': {'pytest', 'test_with_code', 'depfinder', 'nbformat'}}\n",
      "module_name = test_with_code\n",
      "full_path = /home/edill/dev/python/depfinder/tests/test_with_code.py\n",
      "dependencies\n",
      "{'required': {'depfinder'}}\n"
     ]
    }
   ],
   "source": [
    "import depfinder\n",
    "import os\n",
    "deps = list(depfinder.iterate_over_library(os.path.dirname(depfinder.__file__)))\n",
    "print()\n",
    "for mod, full_path, catcher in deps:\n",
    "    print('module_name = %s' % mod)\n",
    "    print('full_path = %s' % full_path)\n",
    "    print('dependencies')\n",
    "    print(catcher.describe())"
   ]
  },
  {
   "cell_type": "code",
   "execution_count": 22,
   "metadata": {
    "collapsed": false
   },
   "outputs": [
    {
     "name": "stdout",
     "output_type": "stream",
     "text": [
      "....{'builtin': ['__future__',\n",
      "             'ast',\n",
      "             'collections',\n",
      "             'json',\n",
      "             'os',\n",
      "             'sys',\n",
      "             'tempfile'],\n",
      " 'required': ['depfinder',\n",
      "              'nbformat',\n",
      "              'pytest',\n",
      "              'setuptools',\n",
      "              'stdlib_list',\n",
      "              'test_with_code']}\n"
     ]
    }
   ],
   "source": [
    "import depfinder\n",
    "pprint(depfinder.simple_import_search(os.path.dirname(depfinder.__file__)))"
   ]
  },
  {
   "cell_type": "code",
   "execution_count": 24,
   "metadata": {
    "collapsed": false
   },
   "outputs": [
    {
     "name": "stdout",
     "output_type": "stream",
     "text": [
      "{'builtin': ['os', 'pprint'], 'required': ['depfinder']}\n"
     ]
    }
   ],
   "source": [
    "depfinder.notebook_path_to_dependencies('depfinder_usage.ipynb')"
   ]
  },
  {
   "cell_type": "code",
   "execution_count": null,
   "metadata": {
    "collapsed": true
   },
   "outputs": [],
   "source": []
  }
 ],
 "metadata": {
  "kernelspec": {
   "display_name": "Python 3",
   "language": "python",
   "name": "python3"
  },
  "language_info": {
   "codemirror_mode": {
    "name": "ipython",
    "version": 3
   },
   "file_extension": ".py",
   "mimetype": "text/x-python",
   "name": "python",
   "nbconvert_exporter": "python",
   "pygments_lexer": "ipython3",
   "version": "3.4.3"
  }
 },
 "nbformat": 4,
 "nbformat_minor": 0
}
