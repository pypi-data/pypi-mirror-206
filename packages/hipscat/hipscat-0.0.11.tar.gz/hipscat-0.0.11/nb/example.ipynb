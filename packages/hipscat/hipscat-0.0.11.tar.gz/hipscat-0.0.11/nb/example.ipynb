{
 "cells": [
  {
   "cell_type": "code",
   "execution_count": null,
   "metadata": {},
   "outputs": [],
   "source": [
    "a = 2 + 2"
   ]
  }
 ],
 "metadata": {
  "kernelspec": {
   "display_name": "copier_test",
   "language": "python",
   "name": "python3"
  },
  "language_info": {
   "name": "python",
   "version": "3.10.8 | packaged by conda-forge | (main, Nov 22 2022, 08:25:29) [Clang 14.0.6 ]"
  },
  "orig_nbformat": 4,
  "vscode": {
   "interpreter": {
    "hash": "49ec39369c99805342b11327ac0d7c4ce794e7071ab73521f56ecad9648013da"
   }
  }
 },
 "nbformat": 4,
 "nbformat_minor": 2
}
