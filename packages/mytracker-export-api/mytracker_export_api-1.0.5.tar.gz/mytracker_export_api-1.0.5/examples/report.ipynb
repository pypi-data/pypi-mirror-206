{
 "cells": [
  {
   "cell_type": "markdown",
   "id": "6c0d046c-94f2-4d5d-9768-ab8c9a8aa636",
   "metadata": {},
   "source": [
    "## Report"
   ]
  },
  {
   "cell_type": "code",
   "execution_count": 1,
   "id": "3c1ac6a4-11e4-4232-ba6b-d8b138141c33",
   "metadata": {},
   "outputs": [
    {
     "data": {
      "text/html": [
       "<div>\n",
       "<style scoped>\n",
       "    .dataframe tbody tr th:only-of-type {\n",
       "        vertical-align: middle;\n",
       "    }\n",
       "\n",
       "    .dataframe tbody tr th {\n",
       "        vertical-align: top;\n",
       "    }\n",
       "\n",
       "    .dataframe thead th {\n",
       "        text-align: right;\n",
       "    }\n",
       "</style>\n",
       "<table border=\"1\" class=\"dataframe\">\n",
       "  <thead>\n",
       "    <tr style=\"text-align: right;\">\n",
       "      <th></th>\n",
       "      <th>Дата</th>\n",
       "      <th>Партнёр</th>\n",
       "      <th>Стоимость кампании</th>\n",
       "    </tr>\n",
       "  </thead>\n",
       "  <tbody>\n",
       "    <tr>\n",
       "      <th>0</th>\n",
       "      <td>2022-06-01</td>\n",
       "      <td>Google Ads (AdWords)</td>\n",
       "      <td>33097.9940</td>\n",
       "    </tr>\n",
       "    <tr>\n",
       "      <th>1</th>\n",
       "      <td>2022-06-01</td>\n",
       "      <td>Facebook</td>\n",
       "      <td>7877.1799</td>\n",
       "    </tr>\n",
       "    <tr>\n",
       "      <th>2</th>\n",
       "      <td>2022-06-02</td>\n",
       "      <td>Google Ads (AdWords)</td>\n",
       "      <td>31768.5755</td>\n",
       "    </tr>\n",
       "    <tr>\n",
       "      <th>3</th>\n",
       "      <td>2022-06-02</td>\n",
       "      <td>Facebook</td>\n",
       "      <td>6858.8901</td>\n",
       "    </tr>\n",
       "    <tr>\n",
       "      <th>4</th>\n",
       "      <td>2022-06-03</td>\n",
       "      <td>Google Ads (AdWords)</td>\n",
       "      <td>30292.7189</td>\n",
       "    </tr>\n",
       "  </tbody>\n",
       "</table>\n",
       "</div>"
      ],
      "text/plain": [
       "         Дата               Партнёр  Стоимость кампании\n",
       "0  2022-06-01  Google Ads (AdWords)          33097.9940\n",
       "1  2022-06-01              Facebook           7877.1799\n",
       "2  2022-06-02  Google Ads (AdWords)          31768.5755\n",
       "3  2022-06-02              Facebook           6858.8901\n",
       "4  2022-06-03  Google Ads (AdWords)          30292.7189"
      ]
     },
     "execution_count": 1,
     "metadata": {},
     "output_type": "execute_result"
    }
   ],
   "source": [
    "from mytracker_export_api import MyTracker\n",
    "\n",
    "# How to get authentication data see on https://tracker.my.com/docs/api/export-api/access\n",
    "API_USER_ID = 123\n",
    "API_SECRET_KEY = 'AaBbCc'\n",
    "\n",
    "# Params for Report export see on https://tracker.my.com/docs/api/export-api/report/create\n",
    "# - settings[selectors] see on https://tracker.my.com/docs/api/export-api/dictionary/report-selectors\n",
    "params = {\n",
    "    'settings[selectors]': 'date,idPartner,sumCampaignCost',\n",
    "    'settings[filter][date][from]': '2022-06-01',\n",
    "    'settings[filter][date][to]': '2022-06-10',\n",
    "    'settings[filter][dimension][idApp][value][]': [1, 2, 3],\n",
    "    'settings[filter][dimension][idPartner][value][]': [10006, 10008],\n",
    "    'settings[idCurrency]': 840,\n",
    "    'settings[tz]': 'Europe/Moscow',\n",
    "    'settings[precision]': 5,\n",
    "    'settings[retIndent]': 3600,\n",
    "}\n",
    "\n",
    "client = MyTracker(api_user_id=API_USER_ID, api_secret_key=API_SECRET_KEY)\n",
    "report = client.get_report(params)  # returns a Pandas DataFrame\n",
    "report.head()"
   ]
  },
  {
   "cell_type": "markdown",
   "id": "0e2afc14-ad5b-47f5-a88f-2ca59e6b9e51",
   "metadata": {},
   "source": [
    "If you want to save the file on your computer:"
   ]
  },
  {
   "cell_type": "code",
   "execution_count": 2,
   "id": "477ffa1a-4de1-4694-8184-1c225c740abd",
   "metadata": {},
   "outputs": [],
   "source": [
    "report.to_csv('report.csv', index=False)"
   ]
  },
  {
   "cell_type": "markdown",
   "id": "3ce5e8ef-a5dd-444a-a112-248fee97add4",
   "metadata": {},
   "source": [
    "if you want to get a dictionary with the response from the server:"
   ]
  },
  {
   "cell_type": "code",
   "execution_count": 3,
   "id": "b2ed6b4e-124f-4876-ae52-a6f58ad1cc45",
   "metadata": {},
   "outputs": [
    {
     "name": "stdout",
     "output_type": "stream",
     "text": [
      "{'code': 200, 'data': {'idReportFile': '1394792', 'status': 'Success!', 'files': [{'link': 'https://rawdata.hb.bizmrg.com/report/2022.06.22/1394792.7c0c7ff09234d74da2017f9b6cf372a4.csv.gz', 'timestampExpires': '1655977002'}]}, 'message': 'Ok'}\n"
     ]
    }
   ],
   "source": [
    "response = client.get_report(params, return_df=False)\n",
    "print(response)"
   ]
  }
 ],
 "metadata": {
  "kernelspec": {
   "display_name": "Python 3 (ipykernel)",
   "language": "python",
   "name": "python3"
  },
  "language_info": {
   "codemirror_mode": {
    "name": "ipython",
    "version": 3
   },
   "file_extension": ".py",
   "mimetype": "text/x-python",
   "name": "python",
   "nbconvert_exporter": "python",
   "pygments_lexer": "ipython3",
   "version": "3.8.12"
  }
 },
 "nbformat": 4,
 "nbformat_minor": 5
}