{
 "cells": [
  {
   "cell_type": "markdown",
   "metadata": {},
   "source": [
    "# Using PhysicalQuantites in Python"
   ]
  },
  {
   "cell_type": "code",
   "execution_count": 54,
   "metadata": {
    "collapsed": false
   },
   "outputs": [],
   "source": [
    "%precision 2\n",
    "from PhysicalQuantities import q"
   ]
  },
  {
   "cell_type": "markdown",
   "metadata": {},
   "source": [
    "## The convenience class 'q' can be used to specify units:"
   ]
  },
  {
   "cell_type": "code",
   "execution_count": 11,
   "metadata": {
    "collapsed": false
   },
   "outputs": [
    {
     "data": {
      "text/plain": [
       "(1 mm, 1 m, 1 km)"
      ]
     },
     "execution_count": 11,
     "metadata": {},
     "output_type": "execute_result"
    }
   ],
   "source": [
    "q.mm, q.m, q.km"
   ]
  },
  {
   "cell_type": "code",
   "execution_count": 14,
   "metadata": {
    "collapsed": false
   },
   "outputs": [
    {
     "data": {
      "text/latex": [
       "2 $\\text{mm}^{2}$"
      ],
      "text/plain": [
       "2 mm^2"
      ]
     },
     "execution_count": 14,
     "metadata": {},
     "output_type": "execute_result"
    }
   ],
   "source": [
    "2 * q.mm**2"
   ]
  },
  {
   "cell_type": "code",
   "execution_count": 17,
   "metadata": {
    "collapsed": false
   },
   "outputs": [
    {
     "data": {
      "text/latex": [
       "108.00 $\\frac{\\text{km}}{\\text{h}}$"
      ],
      "text/plain": [
       "108.00 km/h"
      ]
     },
     "execution_count": 17,
     "metadata": {},
     "output_type": "execute_result"
    }
   ],
   "source": [
    "v = 30 * q.m / q.s\n",
    "v.to('km/h')"
   ]
  },
  {
   "cell_type": "code",
   "execution_count": 48,
   "metadata": {
    "collapsed": false
   },
   "outputs": [],
   "source": [
    "p = 20*q.dBm + 3*q.dB"
   ]
  },
  {
   "cell_type": "code",
   "execution_count": 49,
   "metadata": {
    "collapsed": false
   },
   "outputs": [
    {
     "data": {
      "text/plain": [
       "(23 dBm, 0.20 W)"
      ]
     },
     "execution_count": 49,
     "metadata": {},
     "output_type": "execute_result"
    }
   ],
   "source": [
    "p, p.W"
   ]
  },
  {
   "cell_type": "markdown",
   "metadata": {},
   "source": [
    "## List of defined units"
   ]
  },
  {
   "cell_type": "code",
   "execution_count": 24,
   "metadata": {
    "collapsed": false
   },
   "outputs": [
    {
     "data": {
      "text/plain": [
       "{'A': <PhysicalUnit A>,\n",
       " 'C': <PhysicalUnit C>,\n",
       " 'F': <PhysicalUnit F>,\n",
       " 'GA': <PhysicalUnit GA>,\n",
       " 'GC': <PhysicalUnit GC>,\n",
       " 'GF': <PhysicalUnit GF>,\n",
       " 'GH': <PhysicalUnit GH>,\n",
       " 'GHz': <PhysicalUnit GHz>,\n",
       " 'GJ': <PhysicalUnit GJ>,\n",
       " 'GK': <PhysicalUnit GK>,\n",
       " 'GN': <PhysicalUnit GN>,\n",
       " 'GOhm': <PhysicalUnit GOhm>,\n",
       " 'GPa': <PhysicalUnit GPa>,\n",
       " 'GS': <PhysicalUnit GS>,\n",
       " 'GT': <PhysicalUnit GT>,\n",
       " 'GV': <PhysicalUnit GV>,\n",
       " 'GW': <PhysicalUnit GW>,\n",
       " 'GWb': <PhysicalUnit GWb>,\n",
       " 'Gcd': <PhysicalUnit Gcd>,\n",
       " 'Gg': <PhysicalUnit Gg>,\n",
       " 'Glm': <PhysicalUnit Glm>,\n",
       " 'Glx': <PhysicalUnit Glx>,\n",
       " 'Gm': <PhysicalUnit Gm>,\n",
       " 'Gmol': <PhysicalUnit Gmol>,\n",
       " 'Grad': <PhysicalUnit Grad>,\n",
       " 'Gs': <PhysicalUnit Gs>,\n",
       " 'Gsr': <PhysicalUnit Gsr>,\n",
       " 'H': <PhysicalUnit H>,\n",
       " 'Hz': <PhysicalUnit Hz>,\n",
       " 'J': <PhysicalUnit J>,\n",
       " 'K': <PhysicalUnit K>,\n",
       " 'MA': <PhysicalUnit MA>,\n",
       " 'MC': <PhysicalUnit MC>,\n",
       " 'MF': <PhysicalUnit MF>,\n",
       " 'MH': <PhysicalUnit MH>,\n",
       " 'MHz': <PhysicalUnit MHz>,\n",
       " 'MJ': <PhysicalUnit MJ>,\n",
       " 'MK': <PhysicalUnit MK>,\n",
       " 'MN': <PhysicalUnit MN>,\n",
       " 'MOhm': <PhysicalUnit MOhm>,\n",
       " 'MPa': <PhysicalUnit MPa>,\n",
       " 'MS': <PhysicalUnit MS>,\n",
       " 'MT': <PhysicalUnit MT>,\n",
       " 'MV': <PhysicalUnit MV>,\n",
       " 'MW': <PhysicalUnit MW>,\n",
       " 'MWb': <PhysicalUnit MWb>,\n",
       " 'Mcd': <PhysicalUnit Mcd>,\n",
       " 'Mg': <PhysicalUnit Mg>,\n",
       " 'Mlm': <PhysicalUnit Mlm>,\n",
       " 'Mlx': <PhysicalUnit Mlx>,\n",
       " 'Mm': <PhysicalUnit Mm>,\n",
       " 'Mmol': <PhysicalUnit Mmol>,\n",
       " 'Mrad': <PhysicalUnit Mrad>,\n",
       " 'Ms': <PhysicalUnit Ms>,\n",
       " 'Msr': <PhysicalUnit Msr>,\n",
       " 'N': <PhysicalUnit N>,\n",
       " 'Ohm': <PhysicalUnit Ohm>,\n",
       " 'Pa': <PhysicalUnit Pa>,\n",
       " 'S': <PhysicalUnit S>,\n",
       " 'T': <PhysicalUnit T>,\n",
       " 'TA': <PhysicalUnit TA>,\n",
       " 'TC': <PhysicalUnit TC>,\n",
       " 'TF': <PhysicalUnit TF>,\n",
       " 'TH': <PhysicalUnit TH>,\n",
       " 'THz': <PhysicalUnit THz>,\n",
       " 'TJ': <PhysicalUnit TJ>,\n",
       " 'TK': <PhysicalUnit TK>,\n",
       " 'TN': <PhysicalUnit TN>,\n",
       " 'TOhm': <PhysicalUnit TOhm>,\n",
       " 'TPa': <PhysicalUnit TPa>,\n",
       " 'TS': <PhysicalUnit TS>,\n",
       " 'TT': <PhysicalUnit TT>,\n",
       " 'TV': <PhysicalUnit TV>,\n",
       " 'TW': <PhysicalUnit TW>,\n",
       " 'TWb': <PhysicalUnit TWb>,\n",
       " 'Tcd': <PhysicalUnit Tcd>,\n",
       " 'Tg': <PhysicalUnit Tg>,\n",
       " 'Tlm': <PhysicalUnit Tlm>,\n",
       " 'Tlx': <PhysicalUnit Tlx>,\n",
       " 'Tm': <PhysicalUnit Tm>,\n",
       " 'Tmol': <PhysicalUnit Tmol>,\n",
       " 'Trad': <PhysicalUnit Trad>,\n",
       " 'Ts': <PhysicalUnit Ts>,\n",
       " 'Tsr': <PhysicalUnit Tsr>,\n",
       " 'V': <PhysicalUnit V>,\n",
       " 'W': <PhysicalUnit W>,\n",
       " 'Wb': <PhysicalUnit Wb>,\n",
       " 'aA': <PhysicalUnit aA>,\n",
       " 'aC': <PhysicalUnit aC>,\n",
       " 'aF': <PhysicalUnit aF>,\n",
       " 'aH': <PhysicalUnit aH>,\n",
       " 'aHz': <PhysicalUnit aHz>,\n",
       " 'aJ': <PhysicalUnit aJ>,\n",
       " 'aK': <PhysicalUnit aK>,\n",
       " 'aN': <PhysicalUnit aN>,\n",
       " 'aOhm': <PhysicalUnit aOhm>,\n",
       " 'aPa': <PhysicalUnit aPa>,\n",
       " 'aS': <PhysicalUnit aS>,\n",
       " 'aT': <PhysicalUnit aT>,\n",
       " 'aV': <PhysicalUnit aV>,\n",
       " 'aW': <PhysicalUnit aW>,\n",
       " 'aWb': <PhysicalUnit aWb>,\n",
       " 'acd': <PhysicalUnit acd>,\n",
       " 'ag': <PhysicalUnit ag>,\n",
       " 'alm': <PhysicalUnit alm>,\n",
       " 'alx': <PhysicalUnit alx>,\n",
       " 'am': <PhysicalUnit am>,\n",
       " 'amol': <PhysicalUnit amol>,\n",
       " 'arad': <PhysicalUnit arad>,\n",
       " 'arcmin': <PhysicalUnit arcmin>,\n",
       " 'arcsec': <PhysicalUnit arcsec>,\n",
       " 'as': <PhysicalUnit as>,\n",
       " 'asr': <PhysicalUnit asr>,\n",
       " 'cA': <PhysicalUnit cA>,\n",
       " 'cC': <PhysicalUnit cC>,\n",
       " 'cF': <PhysicalUnit cF>,\n",
       " 'cH': <PhysicalUnit cH>,\n",
       " 'cHz': <PhysicalUnit cHz>,\n",
       " 'cJ': <PhysicalUnit cJ>,\n",
       " 'cK': <PhysicalUnit cK>,\n",
       " 'cN': <PhysicalUnit cN>,\n",
       " 'cOhm': <PhysicalUnit cOhm>,\n",
       " 'cPa': <PhysicalUnit cPa>,\n",
       " 'cS': <PhysicalUnit cS>,\n",
       " 'cT': <PhysicalUnit cT>,\n",
       " 'cV': <PhysicalUnit cV>,\n",
       " 'cW': <PhysicalUnit cW>,\n",
       " 'cWb': <PhysicalUnit cWb>,\n",
       " 'ccd': <PhysicalUnit ccd>,\n",
       " 'cd': <PhysicalUnit cd>,\n",
       " 'cg': <PhysicalUnit cg>,\n",
       " 'clm': <PhysicalUnit clm>,\n",
       " 'clx': <PhysicalUnit clx>,\n",
       " 'cm': <PhysicalUnit cm>,\n",
       " 'cmol': <PhysicalUnit cmol>,\n",
       " 'crad': <PhysicalUnit crad>,\n",
       " 'cs': <PhysicalUnit cs>,\n",
       " 'csr': <PhysicalUnit csr>,\n",
       " 'dB': 1 dB,\n",
       " 'dBA': 1 dBA,\n",
       " 'dBV': 1 dBV,\n",
       " 'dBW': 1 dBW,\n",
       " 'dBd': 1 dBd,\n",
       " 'dBi': 1 dBi,\n",
       " 'dBm': 1 dBm,\n",
       " 'dBmA': 1 dBmA,\n",
       " 'dBmV': 1 dBmV,\n",
       " 'dBnA': 1 dBnA,\n",
       " 'dBnV': 1 dBnV,\n",
       " 'dBsm': 1 dBsm,\n",
       " 'dBuA': 1 dBuA,\n",
       " 'dBuV': 1 dBuV,\n",
       " 'deg': <PhysicalUnit deg>,\n",
       " 'fA': <PhysicalUnit fA>,\n",
       " 'fC': <PhysicalUnit fC>,\n",
       " 'fF': <PhysicalUnit fF>,\n",
       " 'fH': <PhysicalUnit fH>,\n",
       " 'fHz': <PhysicalUnit fHz>,\n",
       " 'fJ': <PhysicalUnit fJ>,\n",
       " 'fK': <PhysicalUnit fK>,\n",
       " 'fN': <PhysicalUnit fN>,\n",
       " 'fOhm': <PhysicalUnit fOhm>,\n",
       " 'fPa': <PhysicalUnit fPa>,\n",
       " 'fS': <PhysicalUnit fS>,\n",
       " 'fT': <PhysicalUnit fT>,\n",
       " 'fV': <PhysicalUnit fV>,\n",
       " 'fW': <PhysicalUnit fW>,\n",
       " 'fWb': <PhysicalUnit fWb>,\n",
       " 'fcd': <PhysicalUnit fcd>,\n",
       " 'fg': <PhysicalUnit fg>,\n",
       " 'flm': <PhysicalUnit flm>,\n",
       " 'flx': <PhysicalUnit flx>,\n",
       " 'fm': <PhysicalUnit fm>,\n",
       " 'fmol': <PhysicalUnit fmol>,\n",
       " 'frad': <PhysicalUnit frad>,\n",
       " 'fs': <PhysicalUnit fs>,\n",
       " 'fsr': <PhysicalUnit fsr>,\n",
       " 'g': <PhysicalUnit g>,\n",
       " 'h': <PhysicalUnit h>,\n",
       " 'kA': <PhysicalUnit kA>,\n",
       " 'kC': <PhysicalUnit kC>,\n",
       " 'kF': <PhysicalUnit kF>,\n",
       " 'kH': <PhysicalUnit kH>,\n",
       " 'kHz': <PhysicalUnit kHz>,\n",
       " 'kJ': <PhysicalUnit kJ>,\n",
       " 'kK': <PhysicalUnit kK>,\n",
       " 'kN': <PhysicalUnit kN>,\n",
       " 'kOhm': <PhysicalUnit kOhm>,\n",
       " 'kPa': <PhysicalUnit kPa>,\n",
       " 'kS': <PhysicalUnit kS>,\n",
       " 'kT': <PhysicalUnit kT>,\n",
       " 'kV': <PhysicalUnit kV>,\n",
       " 'kW': <PhysicalUnit kW>,\n",
       " 'kWb': <PhysicalUnit kWb>,\n",
       " 'kcd': <PhysicalUnit kcd>,\n",
       " 'kg': <PhysicalUnit kg>,\n",
       " 'klm': <PhysicalUnit klm>,\n",
       " 'klx': <PhysicalUnit klx>,\n",
       " 'km': <PhysicalUnit km>,\n",
       " 'kmol': <PhysicalUnit kmol>,\n",
       " 'krad': <PhysicalUnit krad>,\n",
       " 'ks': <PhysicalUnit ks>,\n",
       " 'ksr': <PhysicalUnit ksr>,\n",
       " 'lm': <PhysicalUnit lm>,\n",
       " 'lx': <PhysicalUnit lx>,\n",
       " 'm': <PhysicalUnit m>,\n",
       " 'mA': <PhysicalUnit mA>,\n",
       " 'mC': <PhysicalUnit mC>,\n",
       " 'mF': <PhysicalUnit mF>,\n",
       " 'mH': <PhysicalUnit mH>,\n",
       " 'mHz': <PhysicalUnit mHz>,\n",
       " 'mJ': <PhysicalUnit mJ>,\n",
       " 'mK': <PhysicalUnit mK>,\n",
       " 'mN': <PhysicalUnit mN>,\n",
       " 'mOhm': <PhysicalUnit mOhm>,\n",
       " 'mPa': <PhysicalUnit mPa>,\n",
       " 'mS': <PhysicalUnit mS>,\n",
       " 'mT': <PhysicalUnit mT>,\n",
       " 'mV': <PhysicalUnit mV>,\n",
       " 'mW': <PhysicalUnit mW>,\n",
       " 'mWb': <PhysicalUnit mWb>,\n",
       " 'mcd': <PhysicalUnit mcd>,\n",
       " 'mg': <PhysicalUnit mg>,\n",
       " 'min': <PhysicalUnit min>,\n",
       " 'mlm': <PhysicalUnit mlm>,\n",
       " 'mlx': <PhysicalUnit mlx>,\n",
       " 'mm': <PhysicalUnit mm>,\n",
       " 'mmol': <PhysicalUnit mmol>,\n",
       " 'mol': <PhysicalUnit mol>,\n",
       " 'mrad': <PhysicalUnit mrad>,\n",
       " 'ms': <PhysicalUnit ms>,\n",
       " 'msr': <PhysicalUnit msr>,\n",
       " 'nA': <PhysicalUnit nA>,\n",
       " 'nC': <PhysicalUnit nC>,\n",
       " 'nF': <PhysicalUnit nF>,\n",
       " 'nH': <PhysicalUnit nH>,\n",
       " 'nHz': <PhysicalUnit nHz>,\n",
       " 'nJ': <PhysicalUnit nJ>,\n",
       " 'nK': <PhysicalUnit nK>,\n",
       " 'nN': <PhysicalUnit nN>,\n",
       " 'nOhm': <PhysicalUnit nOhm>,\n",
       " 'nPa': <PhysicalUnit nPa>,\n",
       " 'nS': <PhysicalUnit nS>,\n",
       " 'nT': <PhysicalUnit nT>,\n",
       " 'nV': <PhysicalUnit nV>,\n",
       " 'nW': <PhysicalUnit nW>,\n",
       " 'nWb': <PhysicalUnit nWb>,\n",
       " 'ncd': <PhysicalUnit ncd>,\n",
       " 'ng': <PhysicalUnit ng>,\n",
       " 'nlm': <PhysicalUnit nlm>,\n",
       " 'nlx': <PhysicalUnit nlx>,\n",
       " 'nm': <PhysicalUnit nm>,\n",
       " 'nmol': <PhysicalUnit nmol>,\n",
       " 'nrad': <PhysicalUnit nrad>,\n",
       " 'ns': <PhysicalUnit ns>,\n",
       " 'nsr': <PhysicalUnit nsr>,\n",
       " 'pA': <PhysicalUnit pA>,\n",
       " 'pC': <PhysicalUnit pC>,\n",
       " 'pF': <PhysicalUnit pF>,\n",
       " 'pH': <PhysicalUnit pH>,\n",
       " 'pHz': <PhysicalUnit pHz>,\n",
       " 'pJ': <PhysicalUnit pJ>,\n",
       " 'pK': <PhysicalUnit pK>,\n",
       " 'pN': <PhysicalUnit pN>,\n",
       " 'pOhm': <PhysicalUnit pOhm>,\n",
       " 'pPa': <PhysicalUnit pPa>,\n",
       " 'pS': <PhysicalUnit pS>,\n",
       " 'pT': <PhysicalUnit pT>,\n",
       " 'pV': <PhysicalUnit pV>,\n",
       " 'pW': <PhysicalUnit pW>,\n",
       " 'pWb': <PhysicalUnit pWb>,\n",
       " 'pcd': <PhysicalUnit pcd>,\n",
       " 'pg': <PhysicalUnit pg>,\n",
       " 'plm': <PhysicalUnit plm>,\n",
       " 'plx': <PhysicalUnit plx>,\n",
       " 'pm': <PhysicalUnit pm>,\n",
       " 'pmol': <PhysicalUnit pmol>,\n",
       " 'prad': <PhysicalUnit prad>,\n",
       " 'ps': <PhysicalUnit ps>,\n",
       " 'psr': <PhysicalUnit psr>,\n",
       " 'rad': <PhysicalUnit rad>,\n",
       " 's': <PhysicalUnit s>,\n",
       " 'sr': <PhysicalUnit sr>,\n",
       " 'uA': <PhysicalUnit uA>,\n",
       " 'uC': <PhysicalUnit uC>,\n",
       " 'uF': <PhysicalUnit uF>,\n",
       " 'uH': <PhysicalUnit uH>,\n",
       " 'uHz': <PhysicalUnit uHz>,\n",
       " 'uJ': <PhysicalUnit uJ>,\n",
       " 'uK': <PhysicalUnit uK>,\n",
       " 'uN': <PhysicalUnit uN>,\n",
       " 'uOhm': <PhysicalUnit uOhm>,\n",
       " 'uPa': <PhysicalUnit uPa>,\n",
       " 'uS': <PhysicalUnit uS>,\n",
       " 'uT': <PhysicalUnit uT>,\n",
       " 'uV': <PhysicalUnit uV>,\n",
       " 'uW': <PhysicalUnit uW>,\n",
       " 'uWb': <PhysicalUnit uWb>,\n",
       " 'ucd': <PhysicalUnit ucd>,\n",
       " 'ug': <PhysicalUnit ug>,\n",
       " 'ulm': <PhysicalUnit ulm>,\n",
       " 'ulx': <PhysicalUnit ulx>,\n",
       " 'um': <PhysicalUnit um>,\n",
       " 'umol': <PhysicalUnit umol>,\n",
       " 'urad': <PhysicalUnit urad>,\n",
       " 'us': <PhysicalUnit us>,\n",
       " 'usr': <PhysicalUnit usr>}"
      ]
     },
     "execution_count": 24,
     "metadata": {},
     "output_type": "execute_result"
    }
   ],
   "source": [
    "q.table"
   ]
  },
  {
   "cell_type": "code",
   "execution_count": null,
   "metadata": {
    "collapsed": true
   },
   "outputs": [],
   "source": []
  }
 ],
 "metadata": {
  "kernelspec": {
   "display_name": "Python 3",
   "language": "python",
   "name": "python3"
  },
  "language_info": {
   "codemirror_mode": {
    "name": "ipython",
    "version": 3
   },
   "file_extension": ".py",
   "mimetype": "text/x-python",
   "name": "python",
   "nbconvert_exporter": "python",
   "pygments_lexer": "ipython3",
   "version": "3.4.3"
  }
 },
 "nbformat": 4,
 "nbformat_minor": 0
}
