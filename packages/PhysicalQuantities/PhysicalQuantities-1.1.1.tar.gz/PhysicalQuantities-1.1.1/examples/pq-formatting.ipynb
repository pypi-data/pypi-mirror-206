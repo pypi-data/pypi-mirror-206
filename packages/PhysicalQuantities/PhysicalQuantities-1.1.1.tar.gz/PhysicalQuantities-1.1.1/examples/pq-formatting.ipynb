{
 "cells": [
  {
   "cell_type": "markdown",
   "metadata": {},
   "source": [
    "# Output Formatting in IPython"
   ]
  },
  {
   "cell_type": "markdown",
   "metadata": {},
   "source": [
    "Sometimes numerical calculation results don't look too pretty:"
   ]
  },
  {
   "cell_type": "code",
   "execution_count": 1,
   "metadata": {
    "collapsed": false
   },
   "outputs": [
    {
     "data": {
      "text/latex": [
       "2.3333333333333335 $\\frac{1}{\\text{m}}$"
      ],
      "text/markdown": [
       "2.3333333333333335 $\\frac{1}{\\text{m}}$"
      ],
      "text/plain": [
       "2.3333333333333335 1/m"
      ]
     },
     "execution_count": 1,
     "metadata": {},
     "output_type": "execute_result"
    }
   ],
   "source": [
    "a = 7./3 m \n",
    "a"
   ]
  },
  {
   "cell_type": "markdown",
   "metadata": {},
   "source": [
    "## IPython Magic"
   ]
  },
  {
   "cell_type": "markdown",
   "metadata": {},
   "source": [
    "Using the IPython `%precision` magic, the displayed result can be made prettier:"
   ]
  },
  {
   "cell_type": "code",
   "execution_count": 2,
   "metadata": {
    "collapsed": false
   },
   "outputs": [
    {
     "data": {
      "text/latex": [
       "2.3 $\\frac{1}{\\text{m}}$"
      ],
      "text/markdown": [
       "2.3 $\\frac{1}{\\text{m}}$"
      ],
      "text/plain": [
       "2.3 1/m"
      ]
     },
     "execution_count": 2,
     "metadata": {},
     "output_type": "execute_result"
    }
   ],
   "source": [
    "%precision 1\n",
    "a"
   ]
  },
  {
   "cell_type": "markdown",
   "metadata": {},
   "source": [
    "The magic also works for Numpy arrays:"
   ]
  },
  {
   "cell_type": "code",
   "execution_count": 3,
   "metadata": {
    "collapsed": false,
    "run_control": {
     "breakpoint": false
    }
   },
   "outputs": [
    {
     "data": {
      "text/plain": [
       "array([ 1.2,  3.5])"
      ]
     },
     "execution_count": 3,
     "metadata": {},
     "output_type": "execute_result"
    }
   ],
   "source": [
    "b = np.array([1.234, 3.456])\n",
    "b"
   ]
  },
  {
   "cell_type": "markdown",
   "metadata": {},
   "source": [
    "The documentation for the `%precision` magic can be found here: [link](http://ipython.org/ipython-doc/dev/api/generated/IPython.core.magics.basic.html#IPython.core.magics.basic.BasicMagics.precision)"
   ]
  },
  {
   "cell_type": "markdown",
   "metadata": {},
   "source": [
    "## Custom Formatting"
   ]
  },
  {
   "cell_type": "markdown",
   "metadata": {},
   "source": [
    "The `%precision` magic can be overridden individually for float quantities, using the `.format` property of the `PhysicalQuantity` class.\n",
    "**Attention** The `format` property is taking Python `formatter` arguments."
   ]
  },
  {
   "cell_type": "code",
   "execution_count": 4,
   "metadata": {
    "collapsed": false,
    "run_control": {
     "breakpoint": false
    }
   },
   "outputs": [
    {
     "data": {
      "text/plain": [
       "''"
      ]
     },
     "execution_count": 4,
     "metadata": {},
     "output_type": "execute_result"
    }
   ],
   "source": [
    "a.format # default"
   ]
  },
  {
   "cell_type": "code",
   "execution_count": 5,
   "metadata": {
    "collapsed": false,
    "run_control": {
     "breakpoint": false
    }
   },
   "outputs": [
    {
     "data": {
      "text/latex": [
       "2.333 $\\frac{1}{\\text{m}}$"
      ],
      "text/markdown": [
       "2.333 $\\frac{1}{\\text{m}}$"
      ],
      "text/plain": [
       "2.333 1/m"
      ]
     },
     "execution_count": 5,
     "metadata": {},
     "output_type": "execute_result"
    }
   ],
   "source": [
    "a.format = '.3f'\n",
    "a"
   ]
  },
  {
   "cell_type": "markdown",
   "metadata": {},
   "source": [
    "## Printing Output with Quantities"
   ]
  },
  {
   "cell_type": "code",
   "execution_count": 6,
   "metadata": {
    "collapsed": false,
    "run_control": {
     "breakpoint": false
    }
   },
   "outputs": [
    {
     "name": "stdout",
     "output_type": "stream",
     "text": [
      "1.2 mm\n",
      "1.235 mm\n",
      "1.2 mm\n",
      "0.001235\n",
      "1.23\n"
     ]
    }
   ],
   "source": [
    "a=1.23456 mm\n",
    "print(a)\n",
    "print(\"{:.3f}\".format(a))\n",
    "print(\"%s\" % a)\n",
    "print(\"%f\" % a) # this returns base unit: m\n",
    "print(\"%.2f\" % a.mm_)"
   ]
  },
  {
   "cell_type": "markdown",
   "metadata": {},
   "source": [
    "Another way to display quantities is using the `Latex` function. Unfortunately, mixing math equations and Python's `.format()` needs a little trick because of the `{}`brackets."
   ]
  },
  {
   "cell_type": "code",
   "execution_count": 7,
   "metadata": {
    "collapsed": false,
    "run_control": {
     "breakpoint": false
    }
   },
   "outputs": [
    {
     "data": {
      "text/latex": [
       "$v_{min}$ is 1.2 m"
      ],
      "text/plain": [
       "<IPython.core.display.Latex object>"
      ]
     },
     "metadata": {},
     "output_type": "display_data"
    },
    {
     "data": {
      "text/latex": [
       "$v_{min}$ is 1.23 m"
      ],
      "text/plain": [
       "<IPython.core.display.Latex object>"
      ]
     },
     "metadata": {},
     "output_type": "display_data"
    },
    {
     "data": {
      "text/latex": [
       "$v_{min}$ is 1.23 m"
      ],
      "text/plain": [
       "<IPython.core.display.Latex object>"
      ]
     },
     "metadata": {},
     "output_type": "display_data"
    }
   ],
   "source": [
    "from IPython.display import display, Math, Latex\n",
    "def disp(str):\n",
    "    display(Latex(str))    \n",
    "v = 1.234567 m\n",
    "disp(\"$v_{min}$ is %s\" %v)\n",
    "disp(\"$v_{min}$ is \"+\"{:.2f}\".format(v))\n",
    "disp(\"$v_{min}$ is %s\" % (\"{:.2f}\".format(v))) # Alternatively"
   ]
  },
  {
   "cell_type": "code",
   "execution_count": null,
   "metadata": {
    "collapsed": true
   },
   "outputs": [],
   "source": []
  }
 ],
 "metadata": {
  "kernelspec": {
   "display_name": "Python 3",
   "language": "python",
   "name": "python3"
  },
  "language_info": {
   "codemirror_mode": {
    "name": "ipython",
    "version": 3
   },
   "file_extension": ".py",
   "mimetype": "text/x-python",
   "name": "python",
   "nbconvert_exporter": "python",
   "pygments_lexer": "ipython3",
   "version": "3.4.4"
  }
 },
 "nbformat": 4,
 "nbformat_minor": 1
}
