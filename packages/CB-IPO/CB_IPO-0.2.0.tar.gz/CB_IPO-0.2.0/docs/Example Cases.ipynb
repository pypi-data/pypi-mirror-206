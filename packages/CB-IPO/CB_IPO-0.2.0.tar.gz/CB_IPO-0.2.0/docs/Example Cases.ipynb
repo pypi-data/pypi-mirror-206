{
 "cells": [
  {
   "attachments": {},
   "cell_type": "markdown",
   "metadata": {},
   "source": [
    "### Importing"
   ]
  },
  {
   "cell_type": "code",
   "execution_count": 11,
   "metadata": {},
   "outputs": [],
   "source": [
    "from CB_IPO import scrape"
   ]
  },
  {
   "attachments": {},
   "cell_type": "markdown",
   "metadata": {},
   "source": [
    "### Initializing"
   ]
  },
  {
   "cell_type": "code",
   "execution_count": 12,
   "metadata": {},
   "outputs": [],
   "source": [
    "scraper = scrape()"
   ]
  },
  {
   "attachments": {},
   "cell_type": "markdown",
   "metadata": {},
   "source": [
    "### Scraping for recent IPO filings (S-1)"
   ]
  },
  {
   "cell_type": "code",
   "execution_count": 16,
   "metadata": {},
   "outputs": [
    {
     "name": "stdout",
     "output_type": "stream",
     "text": [
      "['Allarity Therapeutics, Inc.  (ALLR) ', 'Greenwave Technology Solutions, Inc.  (GWAV) ', 'APPlife Digital Solutions Inc  (ALDS) ', 'MAIA Biotechnology, Inc.  (MAIA) ', 'Neolara Corp. ']\n",
      "['2023-04-04', '2023-04-04', '2023-04-04', '2023-04-04', '2023-04-04']\n",
      "{'S-1/A'}\n"
     ]
    }
   ],
   "source": [
    "company_names, file_dates, form_types = scraper.edgar_scrape(5)\n",
    "print(company_names)\n",
    "print(file_dates)\n",
    "print(form_types)\n"
   ]
  },
  {
   "attachments": {},
   "cell_type": "markdown",
   "metadata": {},
   "source": [
    "### Formatting into Dataframe"
   ]
  },
  {
   "cell_type": "code",
   "execution_count": 17,
   "metadata": {},
   "outputs": [
    {
     "name": "stdout",
     "output_type": "stream",
     "text": [
      "                                           names filing date\n",
      "0           Allarity Therapeutics, Inc.  (ALLR)   2023-04-04\n",
      "1  Greenwave Technology Solutions, Inc.  (GWAV)   2023-04-04\n",
      "2         APPlife Digital Solutions Inc  (ALDS)   2023-04-04\n",
      "3              MAIA Biotechnology, Inc.  (MAIA)   2023-04-04\n",
      "4                                 Neolara Corp.   2023-04-04\n"
     ]
    }
   ],
   "source": [
    "df = scraper.generate_df(5,1)\n",
    "print(df)"
   ]
  },
  {
   "attachments": {},
   "cell_type": "markdown",
   "metadata": {},
   "source": [
    "### Modifying Search Dates"
   ]
  },
  {
   "cell_type": "code",
   "execution_count": 20,
   "metadata": {},
   "outputs": [
    {
     "name": "stdout",
     "output_type": "stream",
     "text": [
      "['2023-03-31', '2023-03-31', '2023-03-31', '2023-03-31', '2023-03-31']\n",
      "                                               names filing date\n",
      "0           Intuitive Machines, Inc.  (LUNR, LUNRW)   2023-03-31\n",
      "1                     Nuburu, Inc.  (BURU, BURU-WT)   2023-03-31\n",
      "2                           SOLIGENIX, INC.  (SNGX)   2023-03-31\n",
      "3              NovaBay Pharmaceuticals, Inc.  (NBY)   2023-03-31\n",
      "4  Artificial Intelligence Technology Solutions I...  2023-03-31\n"
     ]
    }
   ],
   "source": [
    "scraper.set_search_date(\"2021-01-01\", \"2023-03-31\")\n",
    "\n",
    "company_names, file_dates, form_types = scraper.edgar_scrape(5)\n",
    "print (file_dates)\n",
    "\n",
    "df = scraper.generate_df(5,1)\n",
    "print(df)"
   ]
  },
  {
   "attachments": {},
   "cell_type": "markdown",
   "metadata": {},
   "source": [
    "### Modifying Form Types"
   ]
  },
  {
   "cell_type": "code",
   "execution_count": 19,
   "metadata": {},
   "outputs": [
    {
     "name": "stdout",
     "output_type": "stream",
     "text": [
      "{'10-Q', '10-K'}\n",
      "                                               names filing date\n",
      "0  Compute Health Acquisition Corp.  (CPUH, CPUH-...  2023-04-04\n",
      "1                     DARDEN RESTAURANTS INC  (DRI)   2023-04-04\n",
      "2                               LINDSAY CORP  (LNN)   2023-04-04\n",
      "3                SMART Global Holdings, Inc.  (SGH)   2023-04-04\n",
      "4  ACCRETION ACQUISITION CORP.  (ENER, ENERR, ENE...  2023-04-04\n"
     ]
    }
   ],
   "source": [
    "scraper.reset_url()\n",
    "scraper.add_forms(['10-K', '10-Q'])\n",
    "\n",
    "company_names, file_dates, form_types = scraper.edgar_scrape(5)\n",
    "print (form_types)\n",
    "\n",
    "df = scraper.generate_df(5,1)\n",
    "print(df)"
   ]
  },
  {
   "attachments": {},
   "cell_type": "markdown",
   "metadata": {},
   "source": [
    "### Generating Reference Codes and Accession Numbers"
   ]
  },
  {
   "cell_type": "code",
   "execution_count": 30,
   "metadata": {},
   "outputs": [
    {
     "name": "stdout",
     "output_type": "stream",
     "text": [
      "['000007800323000024', '000007800322000027', '000007800321000038']\n",
      "['pfe-20221231.htm', 'pfe-20211231.htm', 'pfe-20201231.htm']\n",
      "PFIZER INC  (PFE) \n"
     ]
    }
   ],
   "source": [
    "#This is the cik that identifies Pfizer\n",
    "cik = '0000078003'\n",
    "\n",
    "#This will yield all references and the name of a company tied to a cik\n",
    "references, name = scraper.get_refs(cik,3)\n",
    "\n",
    "#This will yield all accession numbers tied to a cik\n",
    "accession_numbers = scraper.get_anums(cik,3)\n",
    "\n",
    "print(references)\n",
    "print(name)"
   ]
  },
  {
   "attachments": {},
   "cell_type": "markdown",
   "metadata": {},
   "source": [
    "### Finding xbrl Links for a Company"
   ]
  },
  {
   "cell_type": "code",
   "execution_count": 39,
   "metadata": {},
   "outputs": [
    {
     "name": "stdout",
     "output_type": "stream",
     "text": [
      "['000007800323000024', '000007800322000027', '000007800321000038']\n",
      "https://www.sec.gov/ix?doc=/Archives/edgar/data/0000078003/000007800323000024/pfe-20221231.htm\n",
      "https://www.sec.gov/ix?doc=/Archives/edgar/data/0000078003/000007800322000027/pfe-20211231.htm\n",
      "https://www.sec.gov/ix?doc=/Archives/edgar/data/0000078003/000007800321000038/pfe-20201231.htm\n"
     ]
    }
   ],
   "source": [
    "links,c_name = scraper.create_links(cik, 3)\n",
    "\n",
    "for link in links:\n",
    "    print(link)"
   ]
  },
  {
   "attachments": {},
   "cell_type": "markdown",
   "metadata": {},
   "source": [
    "### Scraping Link for Financial Info"
   ]
  },
  {
   "cell_type": "code",
   "execution_count": 40,
   "metadata": {},
   "outputs": [
    {
     "name": "stdout",
     "output_type": "stream",
     "text": [
      "Assets:  197,205\n",
      "Liabilities:  101,288\n",
      "NI:  31,407\n",
      "\n",
      "Assets:  181,476\n",
      "Liabilities:  104,013\n",
      "NI:  22,025\n",
      "\n",
      "Assets:  154,229\n",
      "Liabilities:  90,756\n",
      "NI:  9,652\n",
      "\n"
     ]
    }
   ],
   "source": [
    "for link in links:\n",
    "    total_assets, total_liabilities, net_income = scraper.scrape_xbrl(link)\n",
    "    print('Assets: ',total_assets)\n",
    "    print('Liabilities: ',total_liabilities)\n",
    "    print('NI: ',net_income) \n",
    "    print()"
   ]
  }
 ],
 "metadata": {
  "kernelspec": {
   "display_name": "Python 3",
   "language": "python",
   "name": "python3"
  },
  "language_info": {
   "codemirror_mode": {
    "name": "ipython",
    "version": 3
   },
   "file_extension": ".py",
   "mimetype": "text/x-python",
   "name": "python",
   "nbconvert_exporter": "python",
   "pygments_lexer": "ipython3",
   "version": "3.9.6"
  },
  "orig_nbformat": 4
 },
 "nbformat": 4,
 "nbformat_minor": 2
}
