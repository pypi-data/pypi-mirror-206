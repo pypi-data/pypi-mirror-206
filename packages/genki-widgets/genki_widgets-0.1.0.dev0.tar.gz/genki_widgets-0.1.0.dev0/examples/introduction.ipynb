{
 "cells": [
  {
   "cell_type": "markdown",
   "metadata": {},
   "source": [
    "# Introduction"
   ]
  },
  {
   "cell_type": "code",
   "execution_count": 1,
   "metadata": {},
   "outputs": [],
   "source": [
    "%load_ext autoreload\n",
    "%autoreload 2"
   ]
  },
  {
   "cell_type": "code",
   "execution_count": 2,
   "metadata": {},
   "outputs": [],
   "source": [
    "from genki_widgets import Dashboard, Line, Spectrogram, Trace, Bar"
   ]
  },
  {
   "cell_type": "code",
   "execution_count": 3,
   "metadata": {},
   "outputs": [],
   "source": [
    "import numpy as np\n",
    "\n",
    "# data = {\n",
    "#     'timestamp': np.arange(0, 1000, 1),\n",
    "#     'random': np.random.randn(2, 1000)\n",
    "# }\n",
    "\n",
    "data = {\n",
    "    'timestamp': np.arange(0, 10, 1),\n",
    "    'random': [[0.1, -0.3, 0.2, 0.4, 0.5, 0.6, 0.7, 0.8, 0.9, 1.0]],\n",
    "    'mouse_position': np.random.randn(2, 10)*1000\n",
    "}\n",
    "    \n",
    "    "
   ]
  },
  {
   "cell_type": "code",
   "execution_count": 4,
   "metadata": {},
   "outputs": [
    {
     "data": {
      "application/vnd.jupyter.widget-view+json": {
       "model_id": "f9f487c7130b42d6ae5bb6ece2ed63cf",
       "version_major": 2,
       "version_minor": 0
      },
      "text/plain": [
       "Line(sig_x={'key': 'timestamp', 'idx': 0, 'name': ''}, sig_y=[{'key': 'random', 'idx': 0, 'name': ''}])"
      ]
     },
     "metadata": {},
     "output_type": "display_data"
    }
   ],
   "source": [
    "l1 = Line(('timestamp', 0), ('random', 0))\n",
    "l1"
   ]
  },
  {
   "cell_type": "code",
   "execution_count": 5,
   "metadata": {},
   "outputs": [],
   "source": [
    "l1.update(data)"
   ]
  },
  {
   "cell_type": "code",
   "execution_count": 6,
   "metadata": {},
   "outputs": [],
   "source": [
    "l1.y_axis_align = \"right\""
   ]
  },
  {
   "cell_type": "code",
   "execution_count": 7,
   "metadata": {},
   "outputs": [
    {
     "data": {
      "application/vnd.jupyter.widget-view+json": {
       "model_id": "9e9da534aab6474892d81e76b03bfc97",
       "version_major": 2,
       "version_minor": 0
      },
      "text/plain": [
       "Trace(sig_x={'key': 'mouse_position', 'idx': 0, 'name': ''}, sig_y=[{'key': 'mouse_position', 'idx': 1, 'name'…"
      ]
     },
     "metadata": {},
     "output_type": "display_data"
    }
   ],
   "source": [
    "t1 = Trace((\"mouse_position\", 0), (\"mouse_position\", 1))\n",
    "t1"
   ]
  },
  {
   "cell_type": "code",
   "execution_count": 8,
   "metadata": {},
   "outputs": [],
   "source": [
    "t1.update(data)"
   ]
  },
  {
   "cell_type": "code",
   "execution_count": 9,
   "metadata": {},
   "outputs": [
    {
     "data": {
      "application/vnd.jupyter.widget-view+json": {
       "model_id": "6366ce2ea12d49ca95b70a67ffb9ba9b",
       "version_major": 2,
       "version_minor": 0
      },
      "text/plain": [
       "Bar(sig_x={'key': '', 'idx': 0, 'name': ''}, sig_y=[{'key': 'mouse_position', 'idx': 0, 'name': 'x'}, {'key': …"
      ]
     },
     "metadata": {},
     "output_type": "display_data"
    }
   ],
   "source": [
    "b1 = Bar([(\"mouse_position\", 0, \"x\"), (\"mouse_position\", 1, \"y\")])\n",
    "b1"
   ]
  },
  {
   "cell_type": "code",
   "execution_count": 10,
   "metadata": {},
   "outputs": [],
   "source": [
    "b1.update(data)"
   ]
  },
  {
   "cell_type": "code",
   "execution_count": 12,
   "metadata": {
    "scrolled": false
   },
   "outputs": [
    {
     "data": {
      "application/vnd.jupyter.widget-view+json": {
       "model_id": "76e6b5a904fe4e6b89c6ffea93912c09",
       "version_major": 2,
       "version_minor": 0
      },
      "text/plain": [
       "Spectrogram(sig_x={'key': '', 'idx': 0, 'name': ''}, sig_y=[{'key': 'mouse_position', 'idx': 0, 'name': ''}])"
      ]
     },
     "metadata": {},
     "output_type": "display_data"
    }
   ],
   "source": [
    "s1 = Spectrogram((\"mouse_position\", 0))\n",
    "s1"
   ]
  },
  {
   "cell_type": "code",
   "execution_count": 13,
   "metadata": {},
   "outputs": [],
   "source": [
    "s1.update(data)"
   ]
  },
  {
   "cell_type": "code",
   "execution_count": 25,
   "metadata": {},
   "outputs": [
    {
     "data": {
      "application/vnd.jupyter.widget-view+json": {
       "model_id": "46069fcf9b9b47278a58e63c3ef05bfe",
       "version_major": 2,
       "version_minor": 0
      },
      "text/plain": [
       "Dashboard(plot_widgets=[Line(data={'timestamp': [[0, 1, 2, 3, 4, 5, 6, 7, 8, 9]], 'random': [[0.1, -0.3, 0.2, …"
      ]
     },
     "metadata": {},
     "output_type": "display_data"
    }
   ],
   "source": [
    "l = Line(('timestamp', 0), ('random', 0))\n",
    "d = Dashboard(plot_widgets=[l1, l])\n",
    "d"
   ]
  },
  {
   "cell_type": "code",
   "execution_count": 26,
   "metadata": {
    "scrolled": true
   },
   "outputs": [],
   "source": [
    "d.update(data)"
   ]
  },
  {
   "cell_type": "code",
   "execution_count": 16,
   "metadata": {},
   "outputs": [],
   "source": [
    "l1.y_axis_visible = True"
   ]
  },
  {
   "cell_type": "code",
   "execution_count": null,
   "metadata": {},
   "outputs": [],
   "source": []
  }
 ],
 "metadata": {
  "kernelspec": {
   "display_name": "Python 3 (ipykernel)",
   "language": "python",
   "name": "python3"
  },
  "language_info": {
   "codemirror_mode": {
    "name": "ipython",
    "version": 3
   },
   "file_extension": ".py",
   "mimetype": "text/x-python",
   "name": "python",
   "nbconvert_exporter": "python",
   "pygments_lexer": "ipython3",
   "version": "3.9.12"
  }
 },
 "nbformat": 4,
 "nbformat_minor": 2
}
