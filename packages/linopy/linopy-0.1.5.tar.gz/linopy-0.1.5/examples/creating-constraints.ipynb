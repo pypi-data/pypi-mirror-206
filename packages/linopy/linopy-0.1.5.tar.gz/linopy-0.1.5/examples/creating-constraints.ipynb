{
 "cells": [
  {
   "cell_type": "markdown",
   "id": "e8249281",
   "metadata": {},
   "source": [
    "# Creating constraints\n",
    "\n",
    "Constraints are created and at the same time assigned to the model using the function \n",
    "\n",
    "```\n",
    "model.add_constraints\n",
    "```\n",
    "where `model` is a `linopy.Model` instance. Again, we want to understand this function and its argument. So, let's create a model first."
   ]
  },
  {
   "cell_type": "code",
   "execution_count": null,
   "id": "e0c196e4",
   "metadata": {},
   "outputs": [],
   "source": [
    "from linopy import Model\n",
    "import numpy as np\n",
    "import pandas as pd\n",
    "import xarray as xr\n",
    "m = Model()"
   ]
  },
  {
   "cell_type": "markdown",
   "id": "043c0b06",
   "metadata": {},
   "source": [
    "`linopy` follows the convention that all variables stand on the left-hand-side (lhs) of a constraint. In contrast, constant values are on the right-hand-side (rhs). Given a variable `x` which has to by lower than 10/3, the constraint would be formulated as \n",
    "\n",
    "$$ x \\le \\frac{10}{3} $$\n",
    "\n",
    "or\n",
    "\n",
    "$$ 3 x \\le 10 $$\n",
    " \n",
    "and **not** as \n",
    "\n",
    "$$ x - \\frac{3}{10} \\le 0 $$"
   ]
  },
  {
   "cell_type": "markdown",
   "id": "6c6420a7",
   "metadata": {},
   "source": [
    "## Using arithmetic operations\n",
    "\n",
    "Typically the lhs is given as a linear expression built by an arithmetic linear combination of variables, e.g.  "
   ]
  },
  {
   "cell_type": "code",
   "execution_count": null,
   "id": "6b496b92",
   "metadata": {},
   "outputs": [],
   "source": [
    "x = m.add_variables()"
   ]
  },
  {
   "cell_type": "code",
   "execution_count": null,
   "id": "4c8aba7e",
   "metadata": {},
   "outputs": [],
   "source": [
    "lhs = 3 * x\n",
    "lhs"
   ]
  },
  {
   "cell_type": "markdown",
   "id": "ffe7dc45",
   "metadata": {},
   "source": [
    "When applying one of the operators `<=`, `>=`, `==` to the expression, an anomymous constraint is built:"
   ]
  },
  {
   "cell_type": "code",
   "execution_count": null,
   "id": "0301876e",
   "metadata": {},
   "outputs": [],
   "source": [
    "con = lhs <= 10\n",
    "con"
   ]
  },
  {
   "cell_type": "markdown",
   "id": "0d75781d",
   "metadata": {},
   "source": [
    "Why is it anonymous? Because it is not yet added to the model. We can inspect the elements of the anonymous constraint: "
   ]
  },
  {
   "cell_type": "code",
   "execution_count": null,
   "id": "01f182b5",
   "metadata": {},
   "outputs": [],
   "source": [
    "con.lhs"
   ]
  },
  {
   "cell_type": "code",
   "execution_count": null,
   "id": "783287b3",
   "metadata": {},
   "outputs": [],
   "source": [
    "con.rhs"
   ]
  },
  {
   "cell_type": "markdown",
   "id": "aac468c3",
   "metadata": {},
   "source": [
    "The attributes of the `AnonymousConstraint` are immutable, thus `con.rhs = 20` would raise an error. \n",
    "\n",
    "We can now add the constraint to the model by passing the `AnonymousConstraint` to the `.add_constraint` function.  "
   ]
  },
  {
   "cell_type": "code",
   "execution_count": null,
   "id": "0adf929b",
   "metadata": {},
   "outputs": [],
   "source": [
    "c = m.add_constraints(con, name='my-constraint')\n",
    "c"
   ]
  },
  {
   "cell_type": "markdown",
   "id": "e78c2635",
   "metadata": {},
   "source": [
    "Note the same output would be generated if passing lhs, sign and rhs as separate arguments to the function:"
   ]
  },
  {
   "cell_type": "code",
   "execution_count": null,
   "id": "c084adec",
   "metadata": {},
   "outputs": [],
   "source": [
    "m.add_constraints(lhs, \"<=\", 10, name='the-same-constraint')"
   ]
  },
  {
   "cell_type": "markdown",
   "id": "2b4db4d5",
   "metadata": {},
   "source": [
    "Note that the return value of the operation is a `Constraint` which contains the reference labels to the constraints in the optimization model. Also is redirects to its lhs, sign and rhs, for example we can call"
   ]
  },
  {
   "cell_type": "code",
   "execution_count": null,
   "id": "ea6e990c",
   "metadata": {},
   "outputs": [],
   "source": [
    "c.lhs"
   ]
  },
  {
   "cell_type": "markdown",
   "id": "e6ae2a19",
   "metadata": {},
   "source": [
    "to inspect the lhs of a defined constraint."
   ]
  },
  {
   "cell_type": "markdown",
   "id": "ab947d1a",
   "metadata": {},
   "source": [
    "### Multiplication with arrays\n",
    "\n",
    "When multiplying variables with coefficients, the dimension handling follows the convention of `xarray`. That is, non-overlapping dimensions are spanned and broadcasted. For example, let's multiply `x` with an array going from 0 to 5: "
   ]
  },
  {
   "cell_type": "code",
   "execution_count": null,
   "id": "c73df0dd",
   "metadata": {
    "scrolled": true
   },
   "outputs": [],
   "source": [
    "coeff = xr.DataArray(np.arange(5), coords={'my-dim': pd.RangeIndex(5)})\n",
    "coeff * x"
   ]
  },
  {
   "cell_type": "markdown",
   "id": "f3437499",
   "metadata": {},
   "source": [
    "Now, an expression of shape 5 with one term is created. \n",
    "\n",
    "**Note:** It is strongly recommended to use `xarray.DataArray`'s for multiplying coefficients with `Variable`'s. It is also possible to use numpy arrays, however these are less secure considering the dimension handling. It is not recommended to use `pandas` objects, as these do not preserve the `linopy` types.  "
   ]
  },
  {
   "cell_type": "markdown",
   "id": "f34b3e54",
   "metadata": {},
   "source": [
    "## Using tuples\n",
    "\n",
    "For long expression, it can be more performant to create linear expressions with tuples instead of arithmetic operations, as the latter are calculated iteratively. Therefore, the model's `.linexpr` combines the expression parallelly and also ensures the correct conversion of data types. Let's create two other variables first"
   ]
  },
  {
   "cell_type": "code",
   "execution_count": null,
   "id": "be747a85",
   "metadata": {},
   "outputs": [],
   "source": [
    "y = m.add_variables()\n",
    "z = m.add_variables()"
   ]
  },
  {
   "cell_type": "markdown",
   "id": "96f26023",
   "metadata": {},
   "source": [
    "and a expression using the `.linexpr` function. Here, the convention is to pass pair of coefficients and variables for each term:"
   ]
  },
  {
   "cell_type": "code",
   "execution_count": null,
   "id": "4b4b059b",
   "metadata": {},
   "outputs": [],
   "source": [
    "tuples = (3, x), (-2, y), (6, z)\n",
    "expr = m.linexpr(*tuples)\n",
    "expr"
   ]
  },
  {
   "cell_type": "markdown",
   "id": "6920549e",
   "metadata": {},
   "source": [
    "We can now use this expression in the `add_constraints` function."
   ]
  },
  {
   "cell_type": "code",
   "execution_count": null,
   "id": "5f1ed8f8",
   "metadata": {},
   "outputs": [],
   "source": [
    "con = m.add_constraints(expr >= 30)"
   ]
  },
  {
   "cell_type": "markdown",
   "id": "f73f148b",
   "metadata": {},
   "source": [
    "Again, combining variables with arrays of coefficients is possible and more secure with the usage of tuples. "
   ]
  },
  {
   "cell_type": "code",
   "execution_count": null,
   "id": "28418010",
   "metadata": {},
   "outputs": [],
   "source": [
    "coeff = xr.DataArray(range(3), {'additional-dim': pd.RangeIndex(3)})\n",
    "tuples = (coeff, x), (-2, y), (6, z)\n",
    "expr = m.linexpr(*tuples)\n",
    "expr"
   ]
  },
  {
   "cell_type": "markdown",
   "id": "6d85d87b",
   "metadata": {},
   "source": [
    "Moreover, the usage of pandas objects as coefficients is possible. However in most cases, these have to have explicit dimension names, otherwise it will raise an error.  "
   ]
  },
  {
   "cell_type": "code",
   "execution_count": null,
   "id": "9ea726f2",
   "metadata": {},
   "outputs": [],
   "source": [
    "coeff = pd.Series(range(3))\n",
    "tuples = (coeff, x), (-2, y), (6, z)\n",
    "\n",
    "try:\n",
    "    expr = m.linexpr(*tuples)\n",
    "except ValueError as e:\n",
    "    print(\"This raises an error:\", e)"
   ]
  },
  {
   "cell_type": "markdown",
   "id": "d7b48d11",
   "metadata": {},
   "source": [
    "Correct would be:"
   ]
  },
  {
   "cell_type": "code",
   "execution_count": null,
   "id": "f9e60919",
   "metadata": {},
   "outputs": [],
   "source": [
    "coeff = coeff.rename_axis('additional-dim')\n",
    "tuples = (coeff, x), (-2, y), (6, z)\n",
    "m.linexpr(*tuples)"
   ]
  },
  {
   "cell_type": "markdown",
   "id": "9898f0c1",
   "metadata": {},
   "source": [
    "## Using rules \n",
    "\n",
    "Similar to the implementation in Pyomo, expressions and constraints can be created using a combination of a function and a set of coordinates to iterate over. For creating expressions, the function itself has to return a `ScalarLinearExpression` which can be obtained by selecting single values of the variables are combining them: "
   ]
  },
  {
   "cell_type": "code",
   "execution_count": null,
   "id": "a6125df8",
   "metadata": {},
   "outputs": [],
   "source": [
    "x[0]"
   ]
  },
  {
   "cell_type": "markdown",
   "id": "4f8bfddf",
   "metadata": {},
   "source": [
    "For example"
   ]
  },
  {
   "cell_type": "code",
   "execution_count": null,
   "id": "ff76bbab",
   "metadata": {},
   "outputs": [],
   "source": [
    "coords = pd.RangeIndex(10), [\"a\", \"b\"]\n",
    "b = m.add_variables(0, 100, coords)\n",
    "\n",
    "def bound(m, i, j):\n",
    "     if i % 2:\n",
    "         return (i / 2) * b[i, j]\n",
    "     else:\n",
    "         return i * b[i, j]\n",
    "\n",
    "expr = m.linexpr(bound, coords)\n",
    "expr"
   ]
  },
  {
   "cell_type": "markdown",
   "id": "e6d3b069",
   "metadata": {},
   "source": [
    "Note that the function's first argument has to be the model itself, even though it might not be used in the function."
   ]
  },
  {
   "cell_type": "markdown",
   "id": "cf42a9e3",
   "metadata": {},
   "source": [
    "This functionality is also supported by the `.add_constraints` function. When passing a function as a first argument, `.add_constraints` expects `coords` to by non-empty. The function itself has to return a `AnonymousScalarConstraint`, as done by "
   ]
  },
  {
   "cell_type": "code",
   "execution_count": null,
   "id": "c993ba4b",
   "metadata": {},
   "outputs": [],
   "source": [
    "x[0] <= 3"
   ]
  },
  {
   "cell_type": "markdown",
   "id": "e9b76d72",
   "metadata": {},
   "source": [
    "For example"
   ]
  },
  {
   "cell_type": "code",
   "execution_count": null,
   "id": "9f572cfc",
   "metadata": {},
   "outputs": [],
   "source": [
    "coords = pd.RangeIndex(10), [\"a\", \"b\"]\n",
    "b = m.add_variables(0, 100, coords)\n",
    "\n",
    "def bound(m, i, j):\n",
    "     if i % 2:\n",
    "         return (i / 2) * b[i, j] >= i\n",
    "     else:\n",
    "         return i * b[i, j]  == 0.\n",
    "\n",
    "con = m.add_constraints(bound, coords=coords)\n",
    "con"
   ]
  },
  {
   "cell_type": "code",
   "execution_count": null,
   "id": "d918f41c",
   "metadata": {},
   "outputs": [],
   "source": []
  }
 ],
 "metadata": {
  "@webio": {
   "lastCommId": null,
   "lastKernelId": null
  },
  "kernelspec": {
   "display_name": "Python 3",
   "language": "python",
   "name": "python3"
  },
  "language_info": {
   "codemirror_mode": {
    "name": "ipython",
    "version": 3
   },
   "file_extension": ".py",
   "mimetype": "text/x-python",
   "name": "python",
   "nbconvert_exporter": "python",
   "pygments_lexer": "ipython3",
   "version": "3.10.6"
  }
 },
 "nbformat": 4,
 "nbformat_minor": 5
}
