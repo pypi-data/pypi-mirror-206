{
 "cells": [
  {
   "cell_type": "markdown",
   "id": "3e9b7866-a164-4ea5-9db4-61e64ce975c1",
   "metadata": {},
   "source": [
    "## Raw Data"
   ]
  },
  {
   "cell_type": "code",
   "execution_count": 1,
   "id": "23658d36-f65b-4265-af8a-657e11370bb6",
   "metadata": {},
   "outputs": [
    {
     "data": {
      "text/html": [
       "<div>\n",
       "<style scoped>\n",
       "    .dataframe tbody tr th:only-of-type {\n",
       "        vertical-align: middle;\n",
       "    }\n",
       "\n",
       "    .dataframe tbody tr th {\n",
       "        vertical-align: top;\n",
       "    }\n",
       "\n",
       "    .dataframe thead th {\n",
       "        text-align: right;\n",
       "    }\n",
       "</style>\n",
       "<table border=\"1\" class=\"dataframe\">\n",
       "  <thead>\n",
       "    <tr style=\"text-align: right;\">\n",
       "      <th></th>\n",
       "      <th>idAdEventTypeTitle</th>\n",
       "      <th>tsClick</th>\n",
       "      <th>tsView</th>\n",
       "      <th>dtEvent</th>\n",
       "      <th>tsEvent</th>\n",
       "      <th>idPartnerTitle</th>\n",
       "      <th>advertisingId</th>\n",
       "    </tr>\n",
       "  </thead>\n",
       "  <tbody>\n",
       "    <tr>\n",
       "      <th>0</th>\n",
       "      <td>Неизвестно</td>\n",
       "      <td>0</td>\n",
       "      <td>0</td>\n",
       "      <td>2022-05-31</td>\n",
       "      <td>1654002324</td>\n",
       "      <td>Organic</td>\n",
       "      <td>00000000-0000-0000-0000-000000000000</td>\n",
       "    </tr>\n",
       "    <tr>\n",
       "      <th>1</th>\n",
       "      <td>Неизвестно</td>\n",
       "      <td>0</td>\n",
       "      <td>0</td>\n",
       "      <td>2022-05-30</td>\n",
       "      <td>1653900090</td>\n",
       "      <td>Organic</td>\n",
       "      <td>00000000-0000-0000-0000-000000000000</td>\n",
       "    </tr>\n",
       "    <tr>\n",
       "      <th>2</th>\n",
       "      <td>Неизвестно</td>\n",
       "      <td>0</td>\n",
       "      <td>0</td>\n",
       "      <td>2022-05-31</td>\n",
       "      <td>1654026356</td>\n",
       "      <td>Organic</td>\n",
       "      <td>00000000-0000-0000-0000-000000000000</td>\n",
       "    </tr>\n",
       "    <tr>\n",
       "      <th>3</th>\n",
       "      <td>Неизвестно</td>\n",
       "      <td>0</td>\n",
       "      <td>0</td>\n",
       "      <td>2022-05-14</td>\n",
       "      <td>1652517297</td>\n",
       "      <td>Organic</td>\n",
       "      <td>00000000-0000-0000-0000-000000000000</td>\n",
       "    </tr>\n",
       "    <tr>\n",
       "      <th>4</th>\n",
       "      <td>Неизвестно</td>\n",
       "      <td>0</td>\n",
       "      <td>0</td>\n",
       "      <td>2022-05-29</td>\n",
       "      <td>1653849794</td>\n",
       "      <td>Organic</td>\n",
       "      <td>00000000-0000-0000-0000-000000000000</td>\n",
       "    </tr>\n",
       "  </tbody>\n",
       "</table>\n",
       "</div>"
      ],
      "text/plain": [
       "  idAdEventTypeTitle  tsClick  tsView     dtEvent     tsEvent idPartnerTitle  \\\n",
       "0         Неизвестно        0       0  2022-05-31  1654002324        Organic   \n",
       "1         Неизвестно        0       0  2022-05-30  1653900090        Organic   \n",
       "2         Неизвестно        0       0  2022-05-31  1654026356        Organic   \n",
       "3         Неизвестно        0       0  2022-05-14  1652517297        Organic   \n",
       "4         Неизвестно        0       0  2022-05-29  1653849794        Organic   \n",
       "\n",
       "                          advertisingId  \n",
       "0  00000000-0000-0000-0000-000000000000  \n",
       "1  00000000-0000-0000-0000-000000000000  \n",
       "2  00000000-0000-0000-0000-000000000000  \n",
       "3  00000000-0000-0000-0000-000000000000  \n",
       "4  00000000-0000-0000-0000-000000000000  "
      ]
     },
     "execution_count": 1,
     "metadata": {},
     "output_type": "execute_result"
    }
   ],
   "source": [
    "from mytracker_export_api import MyTracker\n",
    "\n",
    "# How to get authentication data see on https://tracker.my.com/docs/api/export-api/access\n",
    "API_USER_ID = 123\n",
    "API_SECRET_KEY = 'AaBbCc'\n",
    "\n",
    "# Params for Raw Data export see on https://tracker.my.com/docs/api/export-api/raw/create\n",
    "# - event see on https://tracker.my.com/docs/api/export-api/dictionary/events\n",
    "# - selectors see on https://tracker.my.com/docs/api/export-api/dictionary/selectors\n",
    "params = {\n",
    "    'dateFrom': '2022-05-01',\n",
    "    'dateTo': '2022-05-31',\n",
    "    'selectors': 'idAdEventTypeTitle,tsClick,tsView,dtEvent,tsEvent,idPartnerTitle,advertisingId',\n",
    "    'idApp': 2,\n",
    "    'event': 'installs'\n",
    "}\n",
    "\n",
    "client = MyTracker(api_user_id=API_USER_ID, api_secret_key=API_SECRET_KEY)\n",
    "raw_data = client.get_raw_data(params)  # returns a Pandas DataFrame\n",
    "raw_data.head()"
   ]
  },
  {
   "cell_type": "markdown",
   "id": "5ab86442-6677-46b5-8cb3-b078a976d964",
   "metadata": {},
   "source": [
    "If you want to save the file on your computer:"
   ]
  },
  {
   "cell_type": "code",
   "execution_count": 2,
   "id": "c42942ef-cbcc-4f37-b220-499e42273747",
   "metadata": {},
   "outputs": [],
   "source": [
    "raw_data.to_csv('raw_data.csv', index=False)"
   ]
  },
  {
   "cell_type": "markdown",
   "id": "04850283-cf40-4d46-a4f5-b7803bfbf3ce",
   "metadata": {},
   "source": [
    "if you want to get a dictionary with the response from the server:"
   ]
  },
  {
   "cell_type": "code",
   "execution_count": 3,
   "id": "98d50e5d-4311-494d-8893-2aef187c4cf2",
   "metadata": {},
   "outputs": [
    {
     "name": "stdout",
     "output_type": "stream",
     "text": [
      "{'code': 200, 'data': {'idRawExport': '11040581', 'status': 'Success!', 'files': [{'link': 'https://rawdata.hb.bizmrg.com/rawdata/2022.06.22/11040581.installs.d55f479f4ed44d4f786daed1b392ccb7.0.csv.gz', 'timestampExpires': '1655975434'}]}, 'message': 'Ok'}\n"
     ]
    }
   ],
   "source": [
    "response = client.get_raw_data(params, return_df=False)\n",
    "print(response)"
   ]
  }
 ],
 "metadata": {
  "kernelspec": {
   "display_name": "Python 3 (ipykernel)",
   "language": "python",
   "name": "python3"
  },
  "language_info": {
   "codemirror_mode": {
    "name": "ipython",
    "version": 3
   },
   "file_extension": ".py",
   "mimetype": "text/x-python",
   "name": "python",
   "nbconvert_exporter": "python",
   "pygments_lexer": "ipython3",
   "version": "3.8.12"
  }
 },
 "nbformat": 4,
 "nbformat_minor": 5
}
