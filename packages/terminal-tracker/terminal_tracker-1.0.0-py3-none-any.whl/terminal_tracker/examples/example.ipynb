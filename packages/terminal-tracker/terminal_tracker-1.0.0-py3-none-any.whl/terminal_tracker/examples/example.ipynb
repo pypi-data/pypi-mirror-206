{
 "cells": [
  {
   "cell_type": "code",
   "execution_count": 5,
   "metadata": {},
   "outputs": [],
   "source": [
    "from terminal_tracker import FrequencyFile\n",
    "ff = FrequencyFile(\"../history_files/zsh_history.txt\", timeframe=False, shell=\"zsh\")"
   ]
  },
  {
   "cell_type": "code",
   "execution_count": 9,
   "metadata": {},
   "outputs": [
    {
     "name": "stdout",
     "output_type": "stream",
     "text": [
      "Most frequent start command: dune\n",
      "Most frequent command: dune exec -- bin/main.exe -l lib/test.mc > output\n"
     ]
    }
   ],
   "source": [
    "most_frequent_start_command = ff.find_most_frequent_start()\n",
    "print(\"Most frequent start command: \" + str(most_frequent_start_command))\n",
    "most_frequent_command = ff.find_most_frequent()\n",
    "print(\"Most frequent command: \" + str(most_frequent_command))"
   ]
  },
  {
   "cell_type": "code",
   "execution_count": 11,
   "metadata": {},
   "outputs": [
    {
     "name": "stdout",
     "output_type": "stream",
     "text": [
      "Freq: 164 -> dune exec -- bin/main.exe -l lib/test.mc > output\n",
      "Freq: 135 -> lli output\n",
      "Freq: 87 -> dune build bin/main.exe\n",
      "Freq: 51 -> git status\n",
      "Freq: 44 -> python testPendulum.py\n"
     ]
    }
   ],
   "source": [
    "ff.print_top(type=\"full\", N=5)"
   ]
  },
  {
   "cell_type": "code",
   "execution_count": 28,
   "metadata": {},
   "outputs": [
    {
     "name": "stdout",
     "output_type": "stream",
     "text": [
      "dune exec -- bin/main.exe -l lib/test.mc > output 164\n",
      "lli output 135\n",
      "dune build bin/main.exe 87\n",
      "git status 51\n",
      "python testPendulum.py 44\n",
      "python trigram_model.py hw1_data/brown_train.txt hw1_data/brown_test.txt #NLP 21\n",
      "git log 19\n",
      "python multi_mdp.py 18\n",
      "git checkout main 15\n",
      "ls 14\n",
      "dune exec -- bin/main.exe -l lib/test.mc > output\n"
     ]
    }
   ],
   "source": [
    "alias_command = ff.recommend_alias()\n",
    "print(alias_command)"
   ]
  },
  {
   "cell_type": "code",
   "execution_count": null,
   "metadata": {},
   "outputs": [],
   "source": []
  }
 ],
 "metadata": {
  "kernelspec": {
   "display_name": "Python 3.9.12 ('tt')",
   "language": "python",
   "name": "python3"
  },
  "language_info": {
   "codemirror_mode": {
    "name": "ipython",
    "version": 3
   },
   "file_extension": ".py",
   "mimetype": "text/x-python",
   "name": "python",
   "nbconvert_exporter": "python",
   "pygments_lexer": "ipython3",
   "version": "3.9.16"
  },
  "orig_nbformat": 4,
  "vscode": {
   "interpreter": {
    "hash": "e3cb1af12c634faa4c2dea035ecaf265a1d750b1eeeede4c2dcabacc708f2945"
   }
  }
 },
 "nbformat": 4,
 "nbformat_minor": 2
}
