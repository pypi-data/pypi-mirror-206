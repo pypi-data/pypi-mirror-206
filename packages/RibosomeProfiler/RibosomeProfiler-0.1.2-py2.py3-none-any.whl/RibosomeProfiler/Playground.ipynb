{
 "cells": [
  {
   "cell_type": "code",
   "execution_count": 1,
   "metadata": {},
   "outputs": [],
   "source": [
    "from file_parser import parse_bam\n",
    "from modules import *\n",
    "from plots import *"
   ]
  },
  {
   "cell_type": "code",
   "execution_count": 15,
   "metadata": {},
   "outputs": [],
   "source": [
    "from jinja2 import Environment, PackageLoader, select_autoescape\n",
    "env = Environment(\n",
    "    loader=PackageLoader(\"RibosomeProfiler\"),\n",
    "    #autoescape=select_autoescape())\n",
    "    autoescape=False)"
   ]
  },
  {
   "cell_type": "code",
   "execution_count": 2,
   "metadata": {},
   "outputs": [
    {
     "name": "stdout",
     "output_type": "stream",
     "text": [
      "Running samtools view /home/lukas/projects/riboseq-data-processing/3-bowtie/SRR2954348.bam_sorted.bam\n",
      "Processing reads...\n",
      "Processed 10000 reads of 10000 (100.0%)999999999%))\r"
     ]
    }
   ],
   "source": [
    "read_df = parse_bam(\"/home/lukas/projects/riboseq-data-processing/3-bowtie/SRR2954348.bam_sorted.bam\", 10000)"
   ]
  },
  {
   "cell_type": "code",
   "execution_count": 4,
   "metadata": {},
   "outputs": [],
   "source": [
    "read_length_dict = read_length_distribution(read_df)\n",
    "read_length_fig = plot_read_length_distribution(read_length_dict,dict())\n",
    "ligation_bias_dict = ligation_bias_distribution(read_df)\n",
    "ligation_bias_fig = plot_ligation_bias_distribution(ligation_bias_dict,dict())"
   ]
  },
  {
   "cell_type": "code",
   "execution_count": 13,
   "metadata": {},
   "outputs": [],
   "source": [
    "plots = [\n",
    "    {\"name\":\"Read Length Distribution\",\n",
    "     \"description\":\"A plot showcasing the read length distribution of the reads\",\n",
    "     \"fig\":plotly.io.to_html(read_length_fig, full_html=False)},\n",
    "     {\"name\":\"Ligation Bias Distribution\",\n",
    "     \"description\":\"A plot showcasing the ligation bias distribution of the reads\",\n",
    "     \"fig\":plotly.io.to_html(ligation_bias_fig, full_html=False)}\n",
    "     ]"
   ]
  },
  {
   "cell_type": "code",
   "execution_count": 21,
   "metadata": {},
   "outputs": [],
   "source": [
    "template = env.get_template(\"base.html\")\n",
    "out = \"/home/lukas/projects/RibosomeProfiler/test_files/base_result.html\"\n",
    "context = {\n",
    "    \"plots\":plots\n",
    "    }\n",
    "with open(out, mode=\"w\", encoding=\"utf-8\") as f:\n",
    "    f.write(template.render(context))"
   ]
  }
 ],
 "metadata": {
  "kernelspec": {
   "display_name": "RibosomeProfiler",
   "language": "python",
   "name": "python3"
  },
  "language_info": {
   "codemirror_mode": {
    "name": "ipython",
    "version": 3
   },
   "file_extension": ".py",
   "mimetype": "text/x-python",
   "name": "python",
   "nbconvert_exporter": "python",
   "pygments_lexer": "ipython3",
   "version": "3.11.3"
  },
  "orig_nbformat": 4
 },
 "nbformat": 4,
 "nbformat_minor": 2
}
