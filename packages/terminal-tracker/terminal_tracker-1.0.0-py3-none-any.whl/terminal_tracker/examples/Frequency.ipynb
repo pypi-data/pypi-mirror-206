{
 "cells": [
  {
   "cell_type": "code",
   "execution_count": null,
   "metadata": {},
   "outputs": [],
   "source": [
    "!pip install terminal-tracker"
   ]
  },
  {
   "cell_type": "code",
   "execution_count": 5,
   "metadata": {},
   "outputs": [
    {
     "ename": "ImportError",
     "evalue": "attempted relative import with no known parent package",
     "output_type": "error",
     "traceback": [
      "\u001b[0;31m---------------------------------------------------------------------------\u001b[0m",
      "\u001b[0;31mImportError\u001b[0m                               Traceback (most recent call last)",
      "\u001b[1;32m/Users/miloniatal/Desktop/Main/Courses/Columbia Courses/SPRING 2023/Open Source Dev/terminal-tracker/terminal_tracker/examples/Frequency.ipynb Cell 1\u001b[0m in \u001b[0;36m<cell line: 1>\u001b[0;34m()\u001b[0m\n\u001b[0;32m----> <a href='vscode-notebook-cell:/Users/miloniatal/Desktop/Main/Courses/Columbia%20Courses/SPRING%202023/Open%20Source%20Dev/terminal-tracker/terminal_tracker/examples/Frequency.ipynb#W1sZmlsZQ%3D%3D?line=0'>1</a>\u001b[0m \u001b[39mfrom\u001b[39;00m \u001b[39m.\u001b[39;00m\u001b[39mterminal_tracker\u001b[39;00m \u001b[39mimport\u001b[39;00m FrequencyFile\n\u001b[1;32m      <a href='vscode-notebook-cell:/Users/miloniatal/Desktop/Main/Courses/Columbia%20Courses/SPRING%202023/Open%20Source%20Dev/terminal-tracker/terminal_tracker/examples/Frequency.ipynb#W1sZmlsZQ%3D%3D?line=1'>2</a>\u001b[0m ff \u001b[39m=\u001b[39m FrequencyFile(\u001b[39m\"\u001b[39m\u001b[39m../history_files/zsh_history.txt\u001b[39m\u001b[39m\"\u001b[39m, timeframe\u001b[39m=\u001b[39m\u001b[39mFalse\u001b[39;00m, shell\u001b[39m=\u001b[39m\u001b[39m\"\u001b[39m\u001b[39mzsh\u001b[39m\u001b[39m\"\u001b[39m)\n",
      "\u001b[0;31mImportError\u001b[0m: attempted relative import with no known parent package"
     ]
    }
   ],
   "source": [
    "from terminal_tracker import FrequencyFile\n",
    "ff = FrequencyFile(\"../history_files/zsh_history.txt\", timeframe=False, shell=\"zsh\")"
   ]
  },
  {
   "cell_type": "code",
   "execution_count": 3,
   "metadata": {},
   "outputs": [
    {
     "name": "stdout",
     "output_type": "stream",
     "text": [
      "Most frequent start command: dune\n",
      "Most frequent command: dune exec -- bin/main.exe -l lib/test.mc > output\n"
     ]
    }
   ],
   "source": [
    "most_frequent_start_command = ff.find_most_frequent_start()\n",
    "print(\"Most frequent start command: \" + str(most_frequent_start_command))\n",
    "most_frequent_command = ff.find_most_frequent()\n",
    "print(\"Most frequent command: \" + str(most_frequent_command))"
   ]
  },
  {
   "cell_type": "code",
   "execution_count": 4,
   "metadata": {},
   "outputs": [
    {
     "name": "stdout",
     "output_type": "stream",
     "text": [
      "Freq: 164 -> dune exec -- bin/main.exe -l lib/test.mc > output\n",
      "Freq: 135 -> lli output\n",
      "Freq: 87 -> dune build bin/main.exe\n",
      "Freq: 51 -> git status\n",
      "Freq: 44 -> python testPendulum.py\n"
     ]
    }
   ],
   "source": [
    "ff.print_top(type=\"full\", N=5)"
   ]
  },
  {
   "cell_type": "code",
   "execution_count": 6,
   "metadata": {},
   "outputs": [
    {
     "name": "stdout",
     "output_type": "stream",
     "text": [
      "dune exec -- bin/main.exe -l lib/test.mc > output 164\n",
      "lli output 135\n",
      "dune build bin/main.exe 87\n",
      "git status 51\n",
      "python testPendulum.py 44\n",
      "python trigram_model.py hw1_data/brown_train.txt hw1_data/brown_test.txt #NLP 21\n",
      "git log 19\n",
      "python multi_mdp.py 18\n",
      "git checkout main 15\n",
      "ls 14\n",
      "dune exec -- bin/main.exe -l lib/test.mc > output\n"
     ]
    }
   ],
   "source": [
    "from IPython.utils import io\n",
    "\n",
    "with io.capture_output() as captured:\n",
    "    alias_command = ff.recommend_alias(weight_freq=0.5, weight_len=0.5)\n",
    "print(alias_command)"
   ]
  },
  {
   "cell_type": "code",
   "execution_count": null,
   "metadata": {},
   "outputs": [],
   "source": []
  }
 ],
 "metadata": {
  "kernelspec": {
   "display_name": "Python 3.9.12 ('base')",
   "language": "python",
   "name": "python3"
  },
  "language_info": {
   "codemirror_mode": {
    "name": "ipython",
    "version": 3
   },
   "file_extension": ".py",
   "mimetype": "text/x-python",
   "name": "python",
   "nbconvert_exporter": "python",
   "pygments_lexer": "ipython3",
   "version": "3.9.12"
  },
  "orig_nbformat": 4,
  "vscode": {
   "interpreter": {
    "hash": "bc18c4434ef79a9e109b03887c72545f896b56f238edb7d9b0f0df76d12bcf46"
   }
  }
 },
 "nbformat": 4,
 "nbformat_minor": 2
}
