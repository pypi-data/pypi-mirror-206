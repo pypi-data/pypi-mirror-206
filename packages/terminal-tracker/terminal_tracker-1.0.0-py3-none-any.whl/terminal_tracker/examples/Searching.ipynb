{
 "cells": [
  {
   "cell_type": "code",
   "execution_count": null,
   "metadata": {},
   "outputs": [],
   "source": [
    "!pip install terminal-tracker"
   ]
  },
  {
   "cell_type": "code",
   "execution_count": 1,
   "metadata": {},
   "outputs": [],
   "source": [
    "from terminal_tracker import SearchFile\n",
    "sf = SearchFile(\"../history_files/bash_history.txt\")"
   ]
  },
  {
   "cell_type": "code",
   "execution_count": 13,
   "metadata": {},
   "outputs": [
    {
     "name": "stdout",
     "output_type": "stream",
     "text": [
      "docker cp repo:/git/getting-started/ .\n",
      "docker run --name repo alpine/git clone https://github.com/docker/getting-started.git\n"
     ]
    }
   ],
   "source": [
    "# Search for \"name\", get the list of commands\n",
    "command_list = sf.find(\"git\")\n",
    "\n",
    "for c in set(command_list):\n",
    "    print(c)\n"
   ]
  },
  {
   "cell_type": "code",
   "execution_count": 11,
   "metadata": {},
   "outputs": [
    {
     "name": "stdout",
     "output_type": "stream",
     "text": [
      "docker cp repo:/git/getting-started/ .\n"
     ]
    }
   ],
   "source": [
    "# Search for \"name\", get the latest command\n",
    "command = sf.latest(\"git\")\n",
    "\n",
    "print(command)"
   ]
  },
  {
   "cell_type": "code",
   "execution_count": 12,
   "metadata": {},
   "outputs": [
    {
     "name": "stdout",
     "output_type": "stream",
     "text": [
      "docker cp repo:/git/getting-started/ .\n",
      "docker run --name repo alpine/git clone https://github.com/docker/getting-started.git\n"
     ]
    }
   ],
   "source": [
    "# Using the latest iterator\n",
    "for command in sf.latest_iterator(\"git\"):\n",
    "   print(command)"
   ]
  }
 ],
 "metadata": {
  "kernelspec": {
   "display_name": "Python 3.9.12 ('base')",
   "language": "python",
   "name": "python3"
  },
  "language_info": {
   "codemirror_mode": {
    "name": "ipython",
    "version": 3
   },
   "file_extension": ".py",
   "mimetype": "text/x-python",
   "name": "python",
   "nbconvert_exporter": "python",
   "pygments_lexer": "ipython3",
   "version": "3.9.12"
  },
  "orig_nbformat": 4,
  "vscode": {
   "interpreter": {
    "hash": "bc18c4434ef79a9e109b03887c72545f896b56f238edb7d9b0f0df76d12bcf46"
   }
  }
 },
 "nbformat": 4,
 "nbformat_minor": 2
}
