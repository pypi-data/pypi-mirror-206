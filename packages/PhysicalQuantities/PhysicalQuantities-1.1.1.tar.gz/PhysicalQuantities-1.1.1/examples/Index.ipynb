{
 "cells": [
  {
   "cell_type": "markdown",
   "metadata": {},
   "source": [
    "# Physical Quantities"
   ]
  },
  {
   "cell_type": "markdown",
   "metadata": {},
   "source": [
    "PhysicalQuantities is a python module that allows calculations to be aware of physical units. Built-in unit conversion ensures that calculations will result in the correct unit.\n",
    "\n",
    "The module also contains an extension for IPython. This allows much simplified usage by typing in physical quantities as number and unit:"
   ]
  },
  {
   "cell_type": "code",
   "execution_count": 1,
   "metadata": {
    "run_control": {
     "breakpoint": false
    }
   },
   "outputs": [
    {
     "name": "stdout",
     "output_type": "stream",
     "text": [
      "a= 1 m , b= 1 s , a/b= 1.0 m/s\n"
     ]
    }
   ],
   "source": [
    "a = 1m ; b = 1s\n",
    "print(\"a=\", a, \", b=\",b,\", a/b=\", a/b)"
   ]
  },
  {
   "cell_type": "markdown",
   "metadata": {},
   "source": [
    "The Github repository for this module can be found here: https://github.com/juhasch/PhysicalQuantities\n",
    "\n",
    "This module is based on the IPython extension by Georg Brandl: https://bitbucket.org/birkenfeld/ipython-physics.\n",
    "It was converted into a standalone Python module and extended heavily to be as flexible as possible."
   ]
  },
  {
   "cell_type": "markdown",
   "metadata": {},
   "source": [
    "## Example Notebooks"
   ]
  },
  {
   "cell_type": "markdown",
   "metadata": {},
   "source": [
    "* [Basics and Installation](pq-basics.ipynb)\n",
    "* [Using Physical Quantities in IPython](pq-ipython.ipynb)\n",
    "* [Output Formatting](pq-formatting.ipynb)\n",
    "* [Doing dB Calculations](pq-dbquantity.ipynb)\n",
    "* [Using Numpy Arrays](pq-numpy.ipynb)\n",
    "* [Autoscaling](pq-autoscale.ipynb)\n",
    "* [SymPy](pq-sympy.ipynb)\n",
    "* [Uncertainties](pq-uncertainties.ipynb)\n",
    "* [Practical Example - Calculate a RC Circuit](pq-example.ipynb)\n"
   ]
  },
  {
   "cell_type": "code",
   "execution_count": null,
   "metadata": {
    "collapsed": true
   },
   "outputs": [],
   "source": []
  }
 ],
 "metadata": {
  "kernelspec": {
   "display_name": "Python 3",
   "language": "python",
   "name": "python3"
  },
  "language_info": {
   "codemirror_mode": {
    "name": "ipython",
    "version": 3
   },
   "file_extension": ".py",
   "mimetype": "text/x-python",
   "name": "python",
   "nbconvert_exporter": "python",
   "pygments_lexer": "ipython3",
   "version": "3.6.6"
  }
 },
 "nbformat": 4,
 "nbformat_minor": 1
}
