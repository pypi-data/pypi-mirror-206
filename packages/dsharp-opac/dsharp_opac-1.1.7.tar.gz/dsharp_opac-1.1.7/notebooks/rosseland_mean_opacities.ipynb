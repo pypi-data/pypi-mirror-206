{
 "cells": [
  {
   "cell_type": "markdown",
   "id": "614a2e59-a741-4394-a90a-2d9093b6e8e8",
   "metadata": {},
   "source": [
    "# Compute Rosseland Mean Opacity with `dsharp_opac`"
   ]
  },
  {
   "cell_type": "code",
   "execution_count": null,
   "id": "9b60c0ac-e532-4258-bb79-4ee71130faf0",
   "metadata": {},
   "outputs": [],
   "source": [
    "import dsharp_opac as opacity\n",
    "import numpy as np\n",
    "import matplotlib.pyplot as plt"
   ]
  },
  {
   "cell_type": "markdown",
   "id": "22a75cf8-7b53-4a0c-8153-a03b098d74f2",
   "metadata": {
    "tags": []
   },
   "source": [
    "## Calculate mean opacities for all temperatures\n",
    "\n",
    "For the Rosseland Mean, we need the *extinction opacity*\n",
    "\n",
    "$$\n",
    "\\kappa_\\nu^\\mathrm{ext}(a) = \\kappa_\\nu^{abs}(a) + (1-g)\\,\\kappa_\\nu^{sca}(a)\n",
    "$$\n",
    "\n",
    "then the total opacity of the size distribution is given by\n",
    "\n",
    "$$\n",
    "\\kappa_\\nu^\\mathrm{abs,tot} = \\frac{\\int_0^{a_\\mathrm{max}} n(a)\\,m\\,\\kappa_\\nu^\\mathrm{abs}(a) \\,\\mathrm{d}a}{\\int_0^{a_\\mathrm{max}} n(a)\\,m \\,\\mathrm{d}a}\n",
    "$$\n",
    "\n",
    "The Planck mean opacity is \n",
    "\n",
    "$$\n",
    "\\bar \\kappa_\\mathrm{P}(T) = \\frac{\\int_0^\\infty \\kappa_\\nu^\\mathrm{abs,tot}\\, B_\\nu(T)\\,\\mathrm{d}\\nu}{\\int_0^\\infty  B_\\nu(T)\\,\\mathrm{d}\\nu}\n",
    "$$\n",
    "\n",
    "and the Rosseland mean opacity is\n",
    "\n",
    "$$\n",
    "\\bar \\kappa_\\mathrm{R}(T) = \\left( \\frac{\\int_0^\\infty \\frac{1}{\\kappa_\\nu^\\mathrm{ext,tot}} \\, \\frac{\\mathrm{d}B_\\nu(T)}{\\mathrm{d}T}\\,\\mathrm{d}\\nu}{\\int_0^\\infty  \\frac{\\mathrm{d}B_\\nu(T)}{\\mathrm{d}T}\\,\\mathrm{d}\\nu}\\right)^{-1}\n",
    "$$"
   ]
  },
  {
   "cell_type": "code",
   "execution_count": null,
   "id": "415862ae-1366-4209-b7b2-960890dd020e",
   "metadata": {},
   "outputs": [],
   "source": [
    "with np.load(opacity.get_datafile('default_opacities_smooth.npz')) as d:\n",
    "    a      = d['a']\n",
    "    g      = d['g']\n",
    "    lam    = d['lam']\n",
    "    k_abs  = d['k_abs']\n",
    "    k_sca  = d['k_sca']"
   ]
  },
  {
   "cell_type": "code",
   "execution_count": null,
   "id": "a2fa1186-3fb5-472d-9640-8dcfde87b484",
   "metadata": {},
   "outputs": [],
   "source": [
    "def planck_dBnu_dT(freq, T):\n",
    "    \"\"\"This function computes the temperature derivative of the blackbody function\n",
    "\n",
    "            dB_nu(T)        2 h^2 nu^4      exp(h nu / kT)        1\n",
    "            --------   =    ---------- ------------------------  ---\n",
    "               dT            k c^2    [ exp(h nu / kT) - 1 ]^2  T^2\n",
    "\n",
    "    Arguments\n",
    "    ---------\n",
    "\n",
    "    freq : float or array\n",
    "        frequency [in Hz or with astropy.units]\n",
    "\n",
    "    temp : float or array\n",
    "        temperature [in K or with astropy.units]\n",
    "\n",
    "    Returns:\n",
    "    --------\n",
    "    dBdT: the temperature derivative of the planck spectrum\n",
    "        units are using astropy.units if the input values use those, otherwise\n",
    "        cgs units: erg/(K*s*sr*cm**2*Hz)\n",
    "\n",
    "    \"\"\"\n",
    "    if isinstance(T, u.quantity.Quantity):\n",
    "        use_units = True\n",
    "    else:\n",
    "        T = T * u.K\n",
    "        use_units = False\n",
    "\n",
    "    if not isinstance(freq, u.quantity.Quantity):\n",
    "        freq = freq * u.Hz\n",
    "\n",
    "    T = np.array(T.value, ndmin=1) * T.unit\n",
    "    freq = np.array(freq.value, ndmin=1) * freq.unit\n",
    "\n",
    "    f_ov_T = freq[np.newaxis, :] / T[:, np.newaxis]\n",
    "    mx = np.floor(np.log(np.finfo(f_ov_T.ravel()[0].value).max))\n",
    "    exp = np.minimum(f_ov_T * c.h / c.k_B, mx)\n",
    "    exp = np.maximum(exp, -mx)\n",
    "    exp = np.exp(exp)\n",
    "\n",
    "    dBdT = 2 * c.h**2 * freq[np.newaxis, :]**4 / (c.k_B * c.c**2 * T[:, np.newaxis]**2) * \\\n",
    "        1. / (exp * (1. - 1. / exp)**2) / u.sr\n",
    "\n",
    "    cgsunit = 'erg/(s*Hz*sr*cm**2*K)'\n",
    "    if use_units:\n",
    "        return dBdT.to(cgsunit).squeeze()\n",
    "    else:\n",
    "        return dBdT.to(cgsunit).value.squeeze()"
   ]
  },
  {
   "cell_type": "markdown",
   "id": "a7774020-f790-4655-8c14-5612783fefb9",
   "metadata": {},
   "source": [
    "**here you should interpolate onto your dustpy size grid**"
   ]
  },
  {
   "cell_type": "code",
   "execution_count": null,
   "id": "da66ed97-de91-4f4e-8855-513959414cba",
   "metadata": {},
   "outputs": [],
   "source": [
    "# define temperature and wavelength arrays\n",
    "\n",
    "T_array = np.logspace(0, np.log10(1500), 250)\n",
    "nu = c.c.cgs.value / lam\n",
    "\n",
    "# calculate the planck function and their derivatives for all those temperatures and wavelength\n",
    "\n",
    "dBnudT = np.array([planck_dBnu_dT(nu, T) for T in T_array])"
   ]
  },
  {
   "cell_type": "code",
   "execution_count": null,
   "id": "a1165078-389f-4e7d-a7de-cd2dbb997a63",
   "metadata": {},
   "outputs": [],
   "source": [
    "k_ext = k_abs + (1 - g) * k_sca"
   ]
  },
  {
   "cell_type": "markdown",
   "id": "9c2a7dea-c44f-484a-8a24-7658212f8c9b",
   "metadata": {},
   "source": [
    "**here we use a power-law, replace it with dustpy size distribution**\n",
    "make sure to normalize it"
   ]
  },
  {
   "cell_type": "code",
   "execution_count": null,
   "id": "dcca5607-b808-4d83-aa82-680546755aeb",
   "metadata": {},
   "outputs": [],
   "source": [
    "q = 3.5\n",
    "amax = 0.1\n",
    "power_law = a**(4 - q)\n",
    "power_law[a > amax] = 0\n",
    "power_law = power_law / power_law.sum()"
   ]
  },
  {
   "cell_type": "code",
   "execution_count": null,
   "id": "6ccaf2e7-37b6-4a95-8a5b-b8428277b2c5",
   "metadata": {},
   "outputs": [],
   "source": [
    "k_R_p  = np.zeros_like(T_array)\n",
    "\n",
    "# for each temperature ...\n",
    "\n",
    "for it, T in enumerate(T_array):\n",
    "    \n",
    "    # sum the absorption opacity\n",
    "\n",
    "    k_abs_p = (k_abs * power_law[:, None]).sum(0)\n",
    "\n",
    "    # sum the EXTINCTION opacity\n",
    "\n",
    "    k_ext_p = (k_ext * power_law[:, None]).sum(0)\n",
    "    \n",
    "    # calculate Rosseland opacity for the fit and the power-law\n",
    "    \n",
    "    B   = np.trapz(dBnudT[it, :], x=nu)\n",
    "    k_R_p[it]  = B / np.trapz(dBnudT[it, :].T / k_ext_p, x=nu)"
   ]
  },
  {
   "cell_type": "code",
   "execution_count": null,
   "id": "eedf0f15-2830-45c4-a556-726e7468ca89",
   "metadata": {},
   "outputs": [],
   "source": [
    "f, ax = plt.subplots()\n",
    "ax.loglog(T_array, k_R_p)\n",
    "ax.set_xlabel('T [K]')\n",
    "ax.set_xlabel('$\\kappa_R$ [cm$^2$/g]');"
   ]
  }
 ],
 "metadata": {
  "kernelspec": {
   "display_name": "Python 3 (ipykernel)",
   "language": "python",
   "name": "python3"
  },
  "language_info": {
   "codemirror_mode": {
    "name": "ipython",
    "version": 3
   },
   "file_extension": ".py",
   "mimetype": "text/x-python",
   "name": "python",
   "nbconvert_exporter": "python",
   "pygments_lexer": "ipython3",
   "version": "3.9.15"
  }
 },
 "nbformat": 4,
 "nbformat_minor": 5
}
