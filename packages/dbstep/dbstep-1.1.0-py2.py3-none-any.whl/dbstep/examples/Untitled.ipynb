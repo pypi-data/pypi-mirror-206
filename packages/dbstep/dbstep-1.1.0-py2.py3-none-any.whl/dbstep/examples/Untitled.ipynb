{
 "cells": [
  {
   "cell_type": "code",
   "execution_count": 1,
   "id": "f7cd2558-2462-4a62-a8d6-6fdd709f3ffa",
   "metadata": {},
   "outputs": [],
   "source": [
    "import math"
   ]
  },
  {
   "cell_type": "code",
   "execution_count": 15,
   "id": "0a1008ae-2dd6-4df9-abb9-3dffe18843bc",
   "metadata": {},
   "outputs": [
    {
     "data": {
      "text/plain": [
       "(3.5, 2.5)"
      ]
     },
     "execution_count": 15,
     "metadata": {},
     "output_type": "execute_result"
    }
   ],
   "source": [
    "R=3.0\n",
    "strip_width = 1.0\n",
    "\n",
    "R_pos = R + 0.5 * strip_width\n",
    "if R < strip_width: \n",
    "    R_neg = 0.0\n",
    "else:\n",
    "    R_neg = R - 0.5 * strip_width\n",
    "R_pos,R_neg"
   ]
  },
  {
   "cell_type": "code",
   "execution_count": 16,
   "id": "b3f3c3ca-f0c2-477f-b7aa-699c66f1b6a2",
   "metadata": {},
   "outputs": [],
   "source": [
    "shell_vol = 4 / 3 * math.pi * ((R + 0.5 * strip_width) ** 3 - (R - 0.5 * strip_width) ** 3)\n",
    "s1 = 4 / 3 * math.pi * (R_pos)**3\n",
    "s2 = 4 / 3 * math.pi * (R_neg)**3"
   ]
  },
  {
   "cell_type": "code",
   "execution_count": 14,
   "id": "fb3f3e74-7a1b-4222-9ab4-41efcb7d0b4d",
   "metadata": {},
   "outputs": [
    {
     "data": {
      "text/plain": [
       "(179.59438003021648, 65.44984694978736, 114.14453308042913, 114.14453308042914)"
      ]
     },
     "execution_count": 14,
     "metadata": {},
     "output_type": "execute_result"
    }
   ],
   "source": [
    "s1,s2,s1-s2, shell_vol"
   ]
  },
  {
   "cell_type": "code",
   "execution_count": 17,
   "id": "d856a6db-a29f-45c2-88f8-07274d9b6467",
   "metadata": {},
   "outputs": [
    {
     "data": {
      "text/plain": [
       "(179.59438003021648, 65.44984694978736, 114.14453308042913, 114.14453308042914)"
      ]
     },
     "execution_count": 17,
     "metadata": {},
     "output_type": "execute_result"
    }
   ],
   "source": [
    "s1,s2,s1-s2, shell_vol"
   ]
  },
  {
   "cell_type": "markdown",
   "id": "fc068c4b-58e2-4590-af23-c7dcddc5230e",
   "metadata": {},
   "source": [
    "# grid 0.05"
   ]
  },
  {
   "cell_type": "code",
   "execution_count": 32,
   "id": "e2a4cb9b-7632-41bd-8d44-9012fcef7668",
   "metadata": {},
   "outputs": [
    {
     "data": {
      "text/plain": [
       "24.073333333333334"
      ]
     },
     "execution_count": 32,
     "metadata": {},
     "output_type": "execute_result"
    }
   ],
   "source": [
    "(33.24+22.55+16.43)/3"
   ]
  },
  {
   "cell_type": "code",
   "execution_count": 33,
   "id": "3ac8b8e8-97dd-40dd-b673-2ab48e474beb",
   "metadata": {},
   "outputs": [
    {
     "data": {
      "text/plain": [
       "22.51"
      ]
     },
     "execution_count": 33,
     "metadata": {},
     "output_type": "execute_result"
    }
   ],
   "source": [
    "22.51"
   ]
  },
  {
   "cell_type": "code",
   "execution_count": 28,
   "id": "bdad93bd-e7d9-4d4e-95aa-8d5947c91a89",
   "metadata": {},
   "outputs": [
    {
     "data": {
      "text/plain": [
       "-0.0049999999999954525"
      ]
     },
     "execution_count": 28,
     "metadata": {},
     "output_type": "execute_result"
    }
   ],
   "source": [
    "#total vol\n",
    "100.60950000000003+77.14950000000002+ 56.64012500000001 - 234.40412500000005"
   ]
  },
  {
   "cell_type": "code",
   "execution_count": 29,
   "id": "996a2f69-7dbf-4df8-82f6-de03d141732d",
   "metadata": {},
   "outputs": [
    {
     "data": {
      "text/plain": [
       "-0.0018750000000054001"
      ]
     },
     "execution_count": 29,
     "metadata": {},
     "output_type": "execute_result"
    }
   ],
   "source": [
    "#shell occ vol\n",
    "18.828000000000003 + 17.396500000000003 + 16.527625000000004 - 52.75400000000001"
   ]
  },
  {
   "cell_type": "markdown",
   "id": "f9fee540-e6f7-470c-9804-7a9b3c5c28b4",
   "metadata": {},
   "source": [
    "# grid 0.025"
   ]
  },
  {
   "cell_type": "code",
   "execution_count": 34,
   "id": "39382c8a-0dee-460d-a2ff-97cfb30585f7",
   "metadata": {},
   "outputs": [
    {
     "data": {
      "text/plain": [
       "24.073333333333334"
      ]
     },
     "execution_count": 34,
     "metadata": {},
     "output_type": "execute_result"
    }
   ],
   "source": [
    "(33.25+22.54+16.43)/3"
   ]
  },
  {
   "cell_type": "code",
   "execution_count": 35,
   "id": "a608c68e-727c-4fb0-9756-7ed509b6978d",
   "metadata": {},
   "outputs": [
    {
     "data": {
      "text/plain": [
       "22.5"
      ]
     },
     "execution_count": 35,
     "metadata": {},
     "output_type": "execute_result"
    }
   ],
   "source": [
    "22.50"
   ]
  },
  {
   "cell_type": "code",
   "execution_count": 36,
   "id": "f7afe1b7-a697-444c-8e5b-9a32c148fd66",
   "metadata": {},
   "outputs": [
    {
     "data": {
      "text/plain": [
       "-0.00043750000000386535"
      ]
     },
     "execution_count": 36,
     "metadata": {},
     "output_type": "execute_result"
    }
   ],
   "source": [
    "56.66993750000001 + 77.12129687500001 + 100.63982812500002 - 234.43150000000006"
   ]
  },
  {
   "cell_type": "code",
   "execution_count": 37,
   "id": "2c4c80b3-8e4a-4a7a-b06f-342daf0dc9ef",
   "metadata": {},
   "outputs": [
    {
     "data": {
      "text/plain": [
       "-0.0005937499999930651"
      ]
     },
     "execution_count": 37,
     "metadata": {},
     "output_type": "execute_result"
    }
   ],
   "source": [
    "18.842015625000005 + 17.384890625000004 +  16.531234375000004 - 52.75873437500001"
   ]
  },
  {
   "cell_type": "code",
   "execution_count": null,
   "id": "2f4fe607-0641-4313-9766-8c8c4afc2ad3",
   "metadata": {},
   "outputs": [],
   "source": []
  }
 ],
 "metadata": {
  "kernelspec": {
   "display_name": "Python [conda env:datasci] *",
   "language": "python",
   "name": "conda-env-datasci-py"
  },
  "language_info": {
   "codemirror_mode": {
    "name": "ipython",
    "version": 3
   },
   "file_extension": ".py",
   "mimetype": "text/x-python",
   "name": "python",
   "nbconvert_exporter": "python",
   "pygments_lexer": "ipython3",
   "version": "3.9.12"
  }
 },
 "nbformat": 4,
 "nbformat_minor": 5
}
