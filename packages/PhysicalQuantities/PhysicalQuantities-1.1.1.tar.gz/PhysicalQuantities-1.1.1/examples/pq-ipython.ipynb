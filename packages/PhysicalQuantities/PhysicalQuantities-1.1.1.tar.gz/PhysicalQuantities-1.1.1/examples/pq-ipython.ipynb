{
 "cells": [
  {
   "cell_type": "markdown",
   "metadata": {},
   "source": [
    "Back to [Index](Index.ipynb)"
   ]
  },
  {
   "cell_type": "markdown",
   "metadata": {},
   "source": [
    "# Using PhysicalQuantities in IPython"
   ]
  },
  {
   "cell_type": "markdown",
   "metadata": {},
   "source": [
    "The IPython extension makes using physical quantities easier. To load the extension use:"
   ]
  },
  {
   "cell_type": "code",
   "execution_count": 1,
   "metadata": {
    "collapsed": false,
    "run_control": {
     "breakpoint": false,
     "read_only": false
    }
   },
   "outputs": [
    {
     "name": "stdout",
     "output_type": "stream",
     "text": [
      "The PhysicalQuantities.ipython extension is already loaded. To reload it, use:\n",
      "  %reload_ext PhysicalQuantities.ipython\n"
     ]
    }
   ],
   "source": [
    "%load_ext PhysicalQuantities.ipython"
   ]
  },
  {
   "cell_type": "markdown",
   "metadata": {},
   "source": [
    "Now entering a physical quantities gets very easy:"
   ]
  },
  {
   "cell_type": "code",
   "execution_count": 2,
   "metadata": {
    "collapsed": false
   },
   "outputs": [],
   "source": [
    "d = 2.3 s**3\n",
    "t = 3 A\n",
    "v = 2.3e3 * d / t"
   ]
  },
  {
   "cell_type": "code",
   "execution_count": 3,
   "metadata": {
    "collapsed": false
   },
   "outputs": [
    {
     "name": "stdout",
     "output_type": "stream",
     "text": [
      "d = 2.3 s^3\n",
      "t = 3 A\n",
      "v = 1763.3333333333333 s^3/A\n"
     ]
    }
   ],
   "source": [
    "print(\"d = %s\" %d)\n",
    "print(\"t = %s\" %t)\n",
    "print(\"v = %s\" %v)"
   ]
  },
  {
   "cell_type": "markdown",
   "metadata": {},
   "source": [
    "## Unit conversion"
   ]
  },
  {
   "cell_type": "markdown",
   "metadata": {},
   "source": [
    "The easiest way to scale a  unit is to use prefix attributes:"
   ]
  },
  {
   "cell_type": "code",
   "execution_count": 4,
   "metadata": {
    "collapsed": false,
    "run_control": {
     "breakpoint": false
    }
   },
   "outputs": [
    {
     "name": "stdout",
     "output_type": "stream",
     "text": [
      "1 V\n",
      "1000.0 mV\n",
      "1000000.0 uV\n"
     ]
    }
   ],
   "source": [
    "u = 1 V\n",
    "print(u)\n",
    "print(u.mV)\n",
    "print(u.uV)"
   ]
  },
  {
   "cell_type": "markdown",
   "metadata": {},
   "source": [
    "To convert between different representations of a unit, `to()` can be used:"
   ]
  },
  {
   "cell_type": "code",
   "execution_count": 5,
   "metadata": {
    "collapsed": false,
    "run_control": {
     "breakpoint": false
    }
   },
   "outputs": [
    {
     "name": "stdout",
     "output_type": "stream",
     "text": [
      "1 m*N\n",
      "1.0 J\n"
     ]
    }
   ],
   "source": [
    "a = 1 N * 1 m\n",
    "print(a)\n",
    "print(a.to('J'))"
   ]
  },
  {
   "cell_type": "markdown",
   "metadata": {},
   "source": [
    "## Using other value types"
   ]
  },
  {
   "cell_type": "markdown",
   "metadata": {},
   "source": [
    "The `PhysicalQuantity` class tries to be a wrapper around the value of a given quantity, i.e. not only single numbers can be used. For examples using Numpy arrays, take a look at the [Using Numpy Arrays](pq-numpy.ipynb) notebook. "
   ]
  },
  {
   "cell_type": "code",
   "execution_count": 6,
   "metadata": {
    "collapsed": false,
    "run_control": {
     "breakpoint": true
    }
   },
   "outputs": [
    {
     "name": "stdout",
     "output_type": "stream",
     "text": [
      "u = (1+1j) V\n",
      "u = [1, 2, 3] V\n"
     ]
    }
   ],
   "source": [
    "u = (1 + 1j) * 1V\n",
    "print(\"u = %s\" %u)\n",
    "u = [1,2,3] * 1V\n",
    "print(\"u = %s\" %u)"
   ]
  },
  {
   "cell_type": "code",
   "execution_count": 7,
   "metadata": {
    "collapsed": false,
    "run_control": {
     "breakpoint": false
    }
   },
   "outputs": [
    {
     "data": {
      "text/latex": [
       "[1, 2, 3] $\\text{V}$"
      ],
      "text/markdown": [
       "[1, 2, 3] $\\text{V}$"
      ],
      "text/plain": [
       "[1, 2, 3] V"
      ]
     },
     "execution_count": 7,
     "metadata": {},
     "output_type": "execute_result"
    }
   ],
   "source": [
    "a = [1, 2, 3] * 1V\n",
    "a"
   ]
  },
  {
   "cell_type": "code",
   "execution_count": 8,
   "metadata": {
    "collapsed": false
   },
   "outputs": [
    {
     "data": {
      "text/plain": [
       "[1, 2, 3]"
      ]
     },
     "execution_count": 8,
     "metadata": {},
     "output_type": "execute_result"
    }
   ],
   "source": [
    "a.value"
   ]
  },
  {
   "cell_type": "code",
   "execution_count": 9,
   "metadata": {
    "collapsed": false
   },
   "outputs": [
    {
     "data": {
      "text/latex": [
       "[1, 2, 3, 1, 2, 3] $\\text{V}$"
      ],
      "text/markdown": [
       "[1, 2, 3, 1, 2, 3] $\\text{V}$"
      ],
      "text/plain": [
       "[1, 2, 3, 1, 2, 3] V"
      ]
     },
     "execution_count": 9,
     "metadata": {},
     "output_type": "execute_result"
    }
   ],
   "source": [
    "2*a"
   ]
  },
  {
   "cell_type": "markdown",
   "metadata": {},
   "source": [
    "## List of all defined Units:"
   ]
  },
  {
   "cell_type": "markdown",
   "metadata": {},
   "source": [
    "All predefined units can be listed using the `list()` or `html_list()` function of a unit:\n",
    "\n",
    "**BUG:** Links for base units are missing"
   ]
  },
  {
   "cell_type": "code",
   "execution_count": 1,
   "metadata": {
    "collapsed": false
   },
   "outputs": [
    {
     "data": {
      "text/html": [
       "<table><tr><th>Name</th><th>Base Unit</th><th>Quantity</th></tr><tr><td>Wb</td><td>1.0 $\\frac{\\text{m}^{2}\\cdot \\text{kg}}{\\text{A}\\cdot \\text{s}^2}$</td><td><a href=\"https://en.wikipedia.org/wiki/Weber_(unit)\" target=\"_blank\">Weber</a></td></tr><tr><td>s</td><td>1.0 $\\text{s}$</td><td><a href=\"https://en.wikipedia.org/wiki/Second\" target=\"_blank\">Second</a></td></tr><tr><td>h</td><td>3600.0 $\\text{s}$</td><td><a href=\"https://en.wikipedia.org/wiki/Hour\" target=\"_blank\">Hour</a></td></tr><tr><td>lx</td><td>1.0 $\\frac{\\text{cd}\\cdot \\text{sr}}{\\text{m}^2}$</td><td><a href=\"https://en.wikipedia.org/wiki/Lux\" target=\"_blank\">Lux</a></td></tr><tr><td>sr</td><td>1.0 $\\text{sr}$</td><td><a href=\"https://en.wikipedia.org/wiki/Steradian\" target=\"_blank\">Streradian</a></td></tr><tr><td>min</td><td>60.0 $\\text{s}$</td><td><a href=\"https://en.wikipedia.org/wiki/Hour\" target=\"_blank\">Minute</a></td></tr><tr><td>J</td><td>1.0 $\\frac{\\text{m}^{2}\\cdot \\text{kg}}{\\text{s}^2}$</td><td><a href=\"https://en.wikipedia.org/wiki/Joule\" target=\"_blank\">Joule</a></td></tr><tr><td>Pa</td><td>1.0 $\\frac{\\text{kg}}{\\text{m}\\cdot \\text{s}^2}$</td><td><a href=\"https://en.wikipedia.org/wiki/Pascal_(unit)\" target=\"_blank\">Pascal</a></td></tr><tr><td>arcsec</td><td>4.84813681109536e-06 $\\text{rad}$</td><td><a href=\"\" target=\"_blank\">seconds of arc</a></td></tr><tr><td>cd</td><td>1.0 $\\text{cd}$</td><td><a href=\"https://en.wikipedia.org/wiki/Candela\" target=\"_blank\">Candela</a></td></tr><tr><td>lm</td><td>1.0 $\\text{cd}\\cdot \\text{sr}$</td><td><a href=\"https://en.wikipedia.org/wiki/Lumen_(unit)\" target=\"_blank\">Lumen</a></td></tr><tr><td>H</td><td>1.0 $\\frac{\\text{m}^{2}\\cdot \\text{kg}}{\\text{A}^2\\cdot \\text{s}^2}$</td><td><a href=\"https://en.wikipedia.org/wiki/Henry_(unit)\" target=\"_blank\">Henry</a></td></tr><tr><td>m</td><td>1.0 $\\text{m}$</td><td><a href=\"https://en.wikipedia.org/wiki/Metre\" target=\"_blank\">Metre</a></td></tr><tr><td>T</td><td>1.0 $\\frac{\\text{kg}}{\\text{A}\\cdot \\text{s}^2}$</td><td><a href=\"https://en.wikipedia.org/wiki/Tesla_(unit)\" target=\"_blank\">Tesla</a></td></tr><tr><td>S</td><td>1.0 $\\frac{\\text{A}^{2}\\cdot \\text{s}^{3}}{\\text{m}^2\\cdot \\text{kg}}$</td><td><a href=\"https://en.wikipedia.org/wiki/Siemens_(unit)\" target=\"_blank\">Siemens</a></td></tr><tr><td>C</td><td>1.0 $\\text{A}\\cdot \\text{s}$</td><td><a href=\"https://en.wikipedia.org/wiki/Coulomb\" target=\"_blank\">Coulomb</a></td></tr><tr><td>deg</td><td>0.017453292519943295 $\\text{rad}$</td><td><a href=\"http://en.wikipedia.org/wiki/Degree_%28angle%29\" target=\"_blank\">Degree</a></td></tr><tr><td>K</td><td>1.0 $\\text{K}$</td><td><a href=\"https://en.wikipedia.org/wiki/Kelvin\" target=\"_blank\">Kelvin</a></td></tr><tr><td>g</td><td>0.001 $\\text{kg}$</td><td><a href=\"https://en.wikipedia.org/wiki/Kilogram\" target=\"_blank\">Gram</a></td></tr><tr><td>kg</td><td>1 $\\text{kg}$</td><td><a href=\"https://en.wikipedia.org/wiki/Kilogram\" target=\"_blank\">Kilogram</a></td></tr><tr><td>F</td><td>1.0 $\\frac{\\text{A}^{2}\\cdot \\text{s}^{4}}{\\text{m}^2\\cdot \\text{kg}}$</td><td><a href=\"https://en.wikipedia.org/wiki/Farad\" target=\"_blank\">Farad</a></td></tr><tr><td>W</td><td>1.0 $\\frac{\\text{m}^{2}\\cdot \\text{kg}}{\\text{s}^3}$</td><td><a href=\"https://en.wikipedia.org/wiki/Watt\" target=\"_blank\">Watt</a></td></tr><tr><td>arcmin</td><td>0.0002908882086657216 $\\text{rad}$</td><td><a href=\"\" target=\"_blank\">minutes of arc</a></td></tr><tr><td>Hz</td><td>1.0 $\\frac{1}{\\text{s}}$</td><td><a href=\"https://en.wikipedia.org/wiki/Hertz\" target=\"_blank\">Hertz</a></td></tr><tr><td>A</td><td>1.0 $\\text{A}$</td><td><a href=\"https://en.wikipedia.org/wiki/Ampere\" target=\"_blank\">Ampere</a></td></tr><tr><td>Ohm</td><td>1.0 $\\frac{\\text{m}^{2}\\cdot \\text{kg}}{\\text{A}^2\\cdot \\text{s}^3}$</td><td><a href=\"https://en.wikipedia.org/wiki/Ohm_(unit)\" target=\"_blank\">Ohm</a></td></tr><tr><td>N</td><td>1.0 $\\frac{\\text{m}\\cdot \\text{kg}}{\\text{s}^2}$</td><td><a href=\"https://en.wikipedia.org/wiki/Newton_(unit)\" target=\"_blank\">Newton</a></td></tr><tr><td>V</td><td>1.0 $\\frac{\\text{m}^{2}\\cdot \\text{kg}}{\\text{A}\\cdot \\text{s}^3}$</td><td><a href=\"https://en.wikipedia.org/wiki/Volt\" target=\"_blank\">Volt</a></td></tr><tr><td>rad</td><td>1.0 $\\text{rad}$</td><td><a href=\"https://en.wikipedia.org/wiki/Radian\" target=\"_blank\">Radian</a></td></tr><tr><td>mol</td><td>1.0 $\\text{mol}$</td><td><a href=\"https://en.wikipedia.org/wiki/Mole_(unit)\" target=\"_blank\">Mol</a></td></tr></table>"
      ],
      "text/plain": [
       "<IPython.core.display.HTML object>"
      ]
     },
     "execution_count": 1,
     "metadata": {},
     "output_type": "execute_result"
    }
   ],
   "source": [
    "from PhysicalQuantities import units_html_list\n",
    "units_html_list()"
   ]
  },
  {
   "cell_type": "code",
   "execution_count": null,
   "metadata": {
    "collapsed": true
   },
   "outputs": [],
   "source": []
  }
 ],
 "metadata": {
  "kernelspec": {
   "display_name": "Python 3",
   "language": "python",
   "name": "python3"
  },
  "language_info": {
   "codemirror_mode": {
    "name": "ipython",
    "version": 3
   },
   "file_extension": ".py",
   "mimetype": "text/x-python",
   "name": "python",
   "nbconvert_exporter": "python",
   "pygments_lexer": "ipython3",
   "version": "3.4.4"
  }
 },
 "nbformat": 4,
 "nbformat_minor": 1
}
