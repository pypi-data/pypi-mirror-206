{
 "cells": [
  {
   "cell_type": "markdown",
   "id": "6c96d2ef-468e-4251-ab59-e6a42f3baad7",
   "metadata": {},
   "source": [
    "## Segment"
   ]
  },
  {
   "cell_type": "code",
   "execution_count": 1,
   "id": "2de4a0b7-189f-480f-9942-e57a5603c1c3",
   "metadata": {},
   "outputs": [
    {
     "name": "stdout",
     "output_type": "stream",
     "text": [
      "{'code': 200, 'data': {'idSegmentExport': '16', 'status': 'Success!', 'files': [{'link': 'https://rawdata.hb.bizmrg.com/segment/2022.06.15/16.1460.072c9ed6a6c9855d695c2529303afa23.csv.gz', 'timestampExpires': '1655392109'}]}, 'message': 'Ok'}\n"
     ]
    }
   ],
   "source": [
    "from mytracker_export_api import MyTracker\n",
    "\n",
    "# How to get authentication data see on https://tracker.my.com/docs/api/export-api/access\n",
    "API_USER_ID = 123\n",
    "API_SECRET_KEY = 'AaBbCc'\n",
    "\n",
    "# Params for Segment export see on https://tracker.my.com/docs/api/export-api/segment/export/create\n",
    "params = {\n",
    "    'idSegment': 1111,\n",
    "    'requestFields': 'idfa,gaid',\n",
    "    'includeHeaderLine': 1,\n",
    "    'registerType': 0,\n",
    "    'hashType': 0\n",
    "}\n",
    "\n",
    "client = MyTracker(api_user_id=API_USER_ID, api_secret_key=API_SECRET_KEY)\n",
    "response = client.get_segment(params)  # get_segment() returns a dict with download links\n",
    "print(response)"
   ]
  }
 ],
 "metadata": {
  "kernelspec": {
   "display_name": "Python 3 (ipykernel)",
   "language": "python",
   "name": "python3"
  },
  "language_info": {
   "codemirror_mode": {
    "name": "ipython",
    "version": 3
   },
   "file_extension": ".py",
   "mimetype": "text/x-python",
   "name": "python",
   "nbconvert_exporter": "python",
   "pygments_lexer": "ipython3",
   "version": "3.8.12"
  }
 },
 "nbformat": 4,
 "nbformat_minor": 5
}
