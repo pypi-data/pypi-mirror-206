{
 "cells": [
  {
   "cell_type": "code",
   "execution_count": 1,
   "id": "9663d2a8-2bfa-427f-baae-c595c636eddc",
   "metadata": {
    "tags": []
   },
   "outputs": [],
   "source": [
    "%load_ext autoreload\n",
    "%autoreload 2"
   ]
  },
  {
   "cell_type": "code",
   "execution_count": 2,
   "id": "fd2c4ac9-b2c4-48d8-ae6a-ea1a401bd857",
   "metadata": {
    "tags": []
   },
   "outputs": [],
   "source": [
    "import gensim\n",
    "import matplotlib.pyplot as plt\n",
    "import numpy as np\n",
    "import pandas as pd\n",
    "import sklearn.metrics as metrics\n",
    "import torch\n",
    "from gensim.corpora import Dictionary\n",
    "from gensim.models import TfidfModel\n",
    "\n",
    "import flippers"
   ]
  },
  {
   "cell_type": "code",
   "execution_count": 3,
   "id": "827b6b3e-26ca-436f-854b-16e85fa29817",
   "metadata": {
    "tags": []
   },
   "outputs": [],
   "source": [
    "# This helper loads any dataset in the wrench benchmarks\n",
    "# and creates monopolar label matrices from their multipolar data\n",
    "def load_wrench_dataset(dataset):\n",
    "    dataset = \"datasets/\" + f\"{dataset}\" + \"/{}.json\"\n",
    "    train = pd.read_json(dataset.format(\"train\")).T\n",
    "    dev = pd.read_json(dataset.format(\"valid\")).T\n",
    "    test = pd.read_json(dataset.format(\"test\")).T\n",
    "\n",
    "    L_train, polarities, polarities_mapping = flippers.multipolar_to_monopolar(\n",
    "        train[\"weak_labels\"].apply(pd.Series)\n",
    "    )\n",
    "    L_dev, _, _ = flippers.multipolar_to_monopolar(\n",
    "        dev[\"weak_labels\"].apply(pd.Series), polarities_mapping\n",
    "    )\n",
    "    L_test, _, _ = flippers.multipolar_to_monopolar(\n",
    "        test[\"weak_labels\"].apply(pd.Series), polarities_mapping\n",
    "    )\n",
    "\n",
    "    return (train, dev, test), (L_train, L_dev, L_test), polarities"
   ]
  },
  {
   "cell_type": "markdown",
   "id": "e753341b-eab4-4fe6-aebc-eab734fce9e0",
   "metadata": {},
   "source": [
    "Choose your dataset here"
   ]
  },
  {
   "cell_type": "code",
   "execution_count": 4,
   "id": "e5a485c4-0389-41a9-b765-31a65d3531e3",
   "metadata": {
    "tags": []
   },
   "outputs": [
    {
     "name": "stderr",
     "output_type": "stream",
     "text": [
      "C:\\Users\\liamt\\Repos\\flippers\\flippers\\_core\\_core.py:132: UserWarning: Polarity mapping if not furnished.\n",
      "Make sure L captures all possible values of each weak labelers.\n",
      "  warnings.warn(\n"
     ]
    }
   ],
   "source": [
    "datasets = [\"cdr\", \"yelp\", \"youtube\", \"census\", \"spouse\", \"basketball\", \"sms\", \"tennis\"]\n",
    "dataset = \"youtube\"\n",
    "\n",
    "data, weak_labels, polarities = load_wrench_dataset(dataset)\n",
    "train, dev, test = data\n",
    "L_train, L_dev, L_test = weak_labels"
   ]
  },
  {
   "cell_type": "code",
   "execution_count": 5,
   "id": "b3ffc40c-3fcc-411c-b327-f9c01909e726",
   "metadata": {
    "tags": []
   },
   "outputs": [
    {
     "data": {
      "text/plain": [
       "[0.5333333333333333, 0.4666666666666667]"
      ]
     },
     "execution_count": 5,
     "metadata": {},
     "output_type": "execute_result"
    }
   ],
   "source": [
    "class_balances = list(\n",
    "    dev[\"label\"].astype(int).value_counts(normalize=True).sort_index()\n",
    ")\n",
    "class_balances"
   ]
  },
  {
   "cell_type": "code",
   "execution_count": 6,
   "id": "80fa2ac5-862b-44c7-bda1-a01c20b30c73",
   "metadata": {
    "tags": []
   },
   "outputs": [],
   "source": [
    "L_train0, L_test0 = L_train.copy(), L_test.copy()"
   ]
  },
  {
   "cell_type": "code",
   "execution_count": 7,
   "id": "232da098-75b3-4099-a3d7-20b4c70ba7d2",
   "metadata": {
    "tags": []
   },
   "outputs": [],
   "source": [
    "text = pd.DataFrame.from_dict(train[\"data\"].tolist())"
   ]
  },
  {
   "cell_type": "code",
   "execution_count": 8,
   "id": "20eeb0cf-f19f-41a0-9aca-2cd08bb86a4c",
   "metadata": {
    "tags": []
   },
   "outputs": [],
   "source": [
    "sentences = list(text[\"text\"])"
   ]
  },
  {
   "cell_type": "code",
   "execution_count": 9,
   "id": "7f8eed0c-933d-495f-b639-1be226b7b873",
   "metadata": {
    "tags": []
   },
   "outputs": [],
   "source": [
    "def preprocess_text(sentences):\n",
    "    # Remove Nones for sentences\n",
    "    sentences = [\"None\" if doc is None else doc for doc in sentences]\n",
    "\n",
    "    import re\n",
    "\n",
    "    for i, sentence in enumerate(sentences):\n",
    "        sentences[i] = sentences[i].replace(\"\\ufeff\", \"\")\n",
    "\n",
    "    # Define regular expression pattern for links\n",
    "    link_pattern = re.compile(r\"http\\S+\")\n",
    "\n",
    "    # Replace links with 'http' in each sentence\n",
    "    for i, sentence in enumerate(sentences):\n",
    "        sentences[i] = re.sub(link_pattern, \"http\", sentence)\n",
    "\n",
    "    # Define regular expression pattern for emojis\n",
    "    emoji_pattern = re.compile(\"[\" \"\\U0001F600-\\U0001F64F\" \"]+\", flags=re.UNICODE)\n",
    "\n",
    "    # Replace emojis in each sentence\n",
    "    for i, sentence in enumerate(sentences):\n",
    "        sentences[i] = re.sub(emoji_pattern, \"emoji\", sentence)\n",
    "\n",
    "    # Define regular expression pattern for special characters and Unicode\n",
    "    special_pattern = re.compile(r\"[^a-zA-Z0-9\\s.,:!?;]\")\n",
    "\n",
    "    for i, sentence in enumerate(sentences):\n",
    "        sentences[i] = re.sub(special_pattern, \" unicode \", sentence)\n",
    "\n",
    "    # Punctuation\n",
    "    punctuation = re.compile(r\"[^\\w\\s]|_\")\n",
    "\n",
    "    for i, sentence in enumerate(sentences):\n",
    "        sentences[i] = re.sub(punctuation, \" \", sentence)\n",
    "\n",
    "    # Small words\n",
    "    small_words = re.compile(r\"\\b\\w{1,3}\\b\")\n",
    "    for i, sentence in enumerate(sentences):\n",
    "        sentences[i] = re.sub(small_words, \" \", sentence)\n",
    "\n",
    "    stop_words = [\n",
    "        \"ourselves\",\n",
    "        \"hers\",\n",
    "        \"between\",\n",
    "        \"yourself\",\n",
    "        \"but\",\n",
    "        \"again\",\n",
    "        \"there\",\n",
    "        \"about\",\n",
    "        \"once\",\n",
    "        \"during\",\n",
    "        \"out\",\n",
    "        \"very\",\n",
    "        \"having\",\n",
    "        \"with\",\n",
    "        \"they\",\n",
    "        \"own\",\n",
    "        \"an\",\n",
    "        \"be\",\n",
    "        \"some\",\n",
    "        \"for\",\n",
    "        \"do\",\n",
    "        \"its\",\n",
    "        \"yours\",\n",
    "        \"such\",\n",
    "        \"into\",\n",
    "        \"of\",\n",
    "        \"most\",\n",
    "        \"itself\",\n",
    "        \"other\",\n",
    "        \"off\",\n",
    "        \"is\",\n",
    "        \"s\",\n",
    "        \"am\",\n",
    "        \"or\",\n",
    "        \"who\",\n",
    "        \"as\",\n",
    "        \"from\",\n",
    "        \"him\",\n",
    "        \"each\",\n",
    "        \"the\",\n",
    "        \"themselves\",\n",
    "        \"until\",\n",
    "        \"below\",\n",
    "        \"are\",\n",
    "        \"we\",\n",
    "        \"these\",\n",
    "        \"your\",\n",
    "        \"his\",\n",
    "        \"through\",\n",
    "        \"don\",\n",
    "        \"nor\",\n",
    "        \"me\",\n",
    "        \"were\",\n",
    "        \"her\",\n",
    "        \"more\",\n",
    "        \"himself\",\n",
    "        \"this\",\n",
    "        \"down\",\n",
    "        \"should\",\n",
    "        \"our\",\n",
    "        \"their\",\n",
    "        \"while\",\n",
    "        \"above\",\n",
    "        \"both\",\n",
    "        \"up\",\n",
    "        \"to\",\n",
    "        \"ours\",\n",
    "        \"had\",\n",
    "        \"she\",\n",
    "        \"all\",\n",
    "        \"no\",\n",
    "        \"when\",\n",
    "        \"at\",\n",
    "        \"any\",\n",
    "        \"before\",\n",
    "        \"them\",\n",
    "        \"same\",\n",
    "        \"and\",\n",
    "        \"been\",\n",
    "        \"have\",\n",
    "        \"in\",\n",
    "        \"will\",\n",
    "        \"on\",\n",
    "        \"does\",\n",
    "        \"yourselves\",\n",
    "        \"then\",\n",
    "        \"that\",\n",
    "        \"because\",\n",
    "        \"what\",\n",
    "        \"over\",\n",
    "        \"why\",\n",
    "        \"so\",\n",
    "        \"can\",\n",
    "        \"did\",\n",
    "        \"not\",\n",
    "        \"now\",\n",
    "        \"under\",\n",
    "        \"he\",\n",
    "        \"you\",\n",
    "        \"herself\",\n",
    "        \"has\",\n",
    "        \"just\",\n",
    "        \"where\",\n",
    "        \"too\",\n",
    "        \"only\",\n",
    "        \"myself\",\n",
    "        \"which\",\n",
    "        \"those\",\n",
    "        \"i\",\n",
    "        \"after\",\n",
    "        \"few\",\n",
    "        \"whom\",\n",
    "        \"t\",\n",
    "        \"being\",\n",
    "        \"if\",\n",
    "        \"theirs\",\n",
    "        \"my\",\n",
    "        \"against\",\n",
    "        \"a\",\n",
    "        \"by\",\n",
    "        \"doing\",\n",
    "        \"it\",\n",
    "        \"how\",\n",
    "        \"further\",\n",
    "        \"was\",\n",
    "        \"here\",\n",
    "        \"than\",\n",
    "    ]\n",
    "\n",
    "    # Tokenize\n",
    "    tokenized_docs = [doc.lower().split() for doc in sentences]\n",
    "\n",
    "    # Remove stop words\n",
    "    tokenized_docs = [\n",
    "        [word for word in doc if word not in stop_words] for doc in tokenized_docs\n",
    "    ]\n",
    "\n",
    "    # Create a dictionary from the tokenized sentences\n",
    "    dictionary = Dictionary(tokenized_docs)\n",
    "\n",
    "    # Create a bag of words (BoW) representation for each document\n",
    "    corpus = [dictionary.doc2bow(doc) for doc in tokenized_docs]\n",
    "\n",
    "    return corpus, dictionary"
   ]
  },
  {
   "cell_type": "code",
   "execution_count": 10,
   "id": "bfbc1b4b-118c-4a38-82e2-fb13e25a2c1e",
   "metadata": {
    "tags": []
   },
   "outputs": [],
   "source": [
    "corpus, dictionary = preprocess_text(sentences)"
   ]
  },
  {
   "cell_type": "code",
   "execution_count": 107,
   "id": "8f2038a0-f31b-4fb7-b858-085e3a01490a",
   "metadata": {
    "tags": []
   },
   "outputs": [
    {
     "name": "stdout",
     "output_type": "stream",
     "text": [
      "CPU times: total: 4.34 s\n",
      "Wall time: 5.16 s\n"
     ]
    },
    {
     "data": {
      "text/plain": [
       "[(0,\n",
       "  '0.032*\"best\" + 0.031*\"check\" + 0.023*\"playlist\" + 0.023*\"youtube\" + 0.021*\"2015\" + 0.021*\"like\" + 0.020*\"song\" + 0.015*\"watching\" + 0.014*\"ever\" + 0.014*\"please\"'),\n",
       " (1,\n",
       "  '0.055*\"check\" + 0.049*\"video\" + 0.037*\"youtube\" + 0.029*\"unicode\" + 0.029*\"http\" + 0.017*\"like\" + 0.015*\"views\" + 0.012*\"billion\" + 0.011*\"guys\" + 0.009*\"music\"'),\n",
       " (2,\n",
       "  '0.040*\"please\" + 0.034*\"subscribe\" + 0.030*\"song\" + 0.024*\"unicode\" + 0.023*\"love\" + 0.021*\"like\" + 0.020*\"check\" + 0.019*\"channel\" + 0.015*\"guys\" + 0.013*\"videos\"'),\n",
       " (3,\n",
       "  '0.507*\"unicode\" + 0.012*\"check\" + 0.009*\"http\" + 0.009*\"song\" + 0.009*\"video\" + 0.009*\"quot\" + 0.007*\"like\" + 0.006*\"subscribe\" + 0.006*\"youtube\" + 0.005*\"href\"'),\n",
       " (4,\n",
       "  '0.037*\"channel\" + 0.032*\"check\" + 0.029*\"unicode\" + 0.024*\"subscribe\" + 0.019*\"please\" + 0.011*\"music\" + 0.010*\"like\" + 0.010*\"video\" + 0.010*\"views\" + 0.008*\"help\"'),\n",
       " (5,\n",
       "  '0.054*\"katy\" + 0.042*\"perry\" + 0.024*\"song\" + 0.020*\"love\" + 0.013*\"million\" + 0.013*\"music\" + 0.012*\"megan\" + 0.007*\"video\" + 0.007*\"roar\" + 0.006*\"views\"')]"
      ]
     },
     "execution_count": 107,
     "metadata": {},
     "output_type": "execute_result"
    }
   ],
   "source": [
    "%%time\n",
    "num_topics = 6\n",
    "lda_model = gensim.models.ldamodel.LdaModel(\n",
    "    corpus=corpus,\n",
    "    id2word=dictionary,\n",
    "    num_topics=num_topics,\n",
    "    random_state=100,\n",
    "    update_every=1,\n",
    "    passes=10,\n",
    "    alpha=\"auto\",\n",
    "    eta=\"auto\",\n",
    "    per_word_topics=False,\n",
    ")\n",
    "\n",
    "lda_model.print_topics()"
   ]
  },
  {
   "cell_type": "code",
   "execution_count": 108,
   "id": "6267638f-d27c-4983-b727-fc64158c2c05",
   "metadata": {
    "tags": []
   },
   "outputs": [],
   "source": [
    "topics_polarities = np.array([0, 1, 1, 1, 1, 0])"
   ]
  },
  {
   "cell_type": "code",
   "execution_count": 109,
   "id": "223128d8-f41a-45d3-aa51-2823a3741297",
   "metadata": {
    "tags": []
   },
   "outputs": [],
   "source": [
    "def get_topics(df):\n",
    "    text = pd.DataFrame.from_dict(df[\"data\"].tolist())\n",
    "    sentences = list(text[\"text\"])\n",
    "    corpus, _ = preprocess_text(sentences)\n",
    "    # Get the topic distribution for each document in the corpus\n",
    "    topic_probabilities = pd.DataFrame(\n",
    "        [\n",
    "            [x[1] for x in sentence]\n",
    "            for sentence in lda_model.get_document_topics(corpus, minimum_probability=0)\n",
    "        ]\n",
    "    )\n",
    "    topic = pd.DataFrame(topic_probabilities).values.argmax(axis=1)\n",
    "    # Create a new dataframe with columns for all possible values\n",
    "    L_topic = pd.DataFrame(columns=[f\"topic_{i}\" for i in range(num_topics)])\n",
    "    # Set the values in each row based on the original column\n",
    "    for i, t in enumerate(list(topic)):\n",
    "        L_topic.loc[i, f\"topic_{t}\"] = 1\n",
    "    L_topic = L_topic.fillna(0)\n",
    "    return L_topic"
   ]
  },
  {
   "cell_type": "code",
   "execution_count": 110,
   "id": "564d9739-1e95-4765-a49b-d1a1670ca896",
   "metadata": {
    "tags": []
   },
   "outputs": [
    {
     "data": {
      "text/html": [
       "<div>\n",
       "<style scoped>\n",
       "    .dataframe tbody tr th:only-of-type {\n",
       "        vertical-align: middle;\n",
       "    }\n",
       "\n",
       "    .dataframe tbody tr th {\n",
       "        vertical-align: top;\n",
       "    }\n",
       "\n",
       "    .dataframe thead th {\n",
       "        text-align: right;\n",
       "    }\n",
       "</style>\n",
       "<table border=\"1\" class=\"dataframe\">\n",
       "  <thead>\n",
       "    <tr style=\"text-align: right;\">\n",
       "      <th></th>\n",
       "      <th>topic_0</th>\n",
       "      <th>topic_1</th>\n",
       "      <th>topic_2</th>\n",
       "      <th>topic_3</th>\n",
       "      <th>topic_4</th>\n",
       "      <th>topic_5</th>\n",
       "    </tr>\n",
       "  </thead>\n",
       "  <tbody>\n",
       "    <tr>\n",
       "      <th>0</th>\n",
       "      <td>0</td>\n",
       "      <td>0</td>\n",
       "      <td>1</td>\n",
       "      <td>0</td>\n",
       "      <td>0</td>\n",
       "      <td>0</td>\n",
       "    </tr>\n",
       "    <tr>\n",
       "      <th>1</th>\n",
       "      <td>0</td>\n",
       "      <td>1</td>\n",
       "      <td>0</td>\n",
       "      <td>0</td>\n",
       "      <td>0</td>\n",
       "      <td>0</td>\n",
       "    </tr>\n",
       "    <tr>\n",
       "      <th>2</th>\n",
       "      <td>0</td>\n",
       "      <td>1</td>\n",
       "      <td>0</td>\n",
       "      <td>0</td>\n",
       "      <td>0</td>\n",
       "      <td>0</td>\n",
       "    </tr>\n",
       "    <tr>\n",
       "      <th>3</th>\n",
       "      <td>0</td>\n",
       "      <td>0</td>\n",
       "      <td>0</td>\n",
       "      <td>0</td>\n",
       "      <td>1</td>\n",
       "      <td>0</td>\n",
       "    </tr>\n",
       "    <tr>\n",
       "      <th>4</th>\n",
       "      <td>0</td>\n",
       "      <td>0</td>\n",
       "      <td>0</td>\n",
       "      <td>0</td>\n",
       "      <td>0</td>\n",
       "      <td>1</td>\n",
       "    </tr>\n",
       "    <tr>\n",
       "      <th>...</th>\n",
       "      <td>...</td>\n",
       "      <td>...</td>\n",
       "      <td>...</td>\n",
       "      <td>...</td>\n",
       "      <td>...</td>\n",
       "      <td>...</td>\n",
       "    </tr>\n",
       "    <tr>\n",
       "      <th>1581</th>\n",
       "      <td>1</td>\n",
       "      <td>0</td>\n",
       "      <td>0</td>\n",
       "      <td>0</td>\n",
       "      <td>0</td>\n",
       "      <td>0</td>\n",
       "    </tr>\n",
       "    <tr>\n",
       "      <th>1582</th>\n",
       "      <td>0</td>\n",
       "      <td>0</td>\n",
       "      <td>1</td>\n",
       "      <td>0</td>\n",
       "      <td>0</td>\n",
       "      <td>0</td>\n",
       "    </tr>\n",
       "    <tr>\n",
       "      <th>1583</th>\n",
       "      <td>0</td>\n",
       "      <td>0</td>\n",
       "      <td>0</td>\n",
       "      <td>1</td>\n",
       "      <td>0</td>\n",
       "      <td>0</td>\n",
       "    </tr>\n",
       "    <tr>\n",
       "      <th>1584</th>\n",
       "      <td>0</td>\n",
       "      <td>0</td>\n",
       "      <td>0</td>\n",
       "      <td>0</td>\n",
       "      <td>1</td>\n",
       "      <td>0</td>\n",
       "    </tr>\n",
       "    <tr>\n",
       "      <th>1585</th>\n",
       "      <td>0</td>\n",
       "      <td>1</td>\n",
       "      <td>0</td>\n",
       "      <td>0</td>\n",
       "      <td>0</td>\n",
       "      <td>0</td>\n",
       "    </tr>\n",
       "  </tbody>\n",
       "</table>\n",
       "<p>1586 rows × 6 columns</p>\n",
       "</div>"
      ],
      "text/plain": [
       "      topic_0  topic_1  topic_2  topic_3  topic_4  topic_5\n",
       "0           0        0        1        0        0        0\n",
       "1           0        1        0        0        0        0\n",
       "2           0        1        0        0        0        0\n",
       "3           0        0        0        0        1        0\n",
       "4           0        0        0        0        0        1\n",
       "...       ...      ...      ...      ...      ...      ...\n",
       "1581        1        0        0        0        0        0\n",
       "1582        0        0        1        0        0        0\n",
       "1583        0        0        0        1        0        0\n",
       "1584        0        0        0        0        1        0\n",
       "1585        0        1        0        0        0        0\n",
       "\n",
       "[1586 rows x 6 columns]"
      ]
     },
     "execution_count": 110,
     "metadata": {},
     "output_type": "execute_result"
    }
   ],
   "source": [
    "get_topics(train)"
   ]
  },
  {
   "cell_type": "code",
   "execution_count": 111,
   "id": "824fd2ca-2287-40a1-ae96-e13989be38c6",
   "metadata": {
    "tags": []
   },
   "outputs": [],
   "source": [
    "L_train = pd.concat([L_train0, get_topics(train)], axis=1)\n",
    "L_test = pd.concat([L_test0, get_topics(test)], axis=1)"
   ]
  },
  {
   "cell_type": "code",
   "execution_count": 112,
   "id": "cdae0d29-68d7-420f-8f17-63372234b046",
   "metadata": {
    "tags": []
   },
   "outputs": [],
   "source": [
    "from flippers.models import SnorkelModel"
   ]
  },
  {
   "cell_type": "code",
   "execution_count": 138,
   "id": "0cd61595-0ed8-45bd-a0d0-b4ce75a8a153",
   "metadata": {
    "tags": []
   },
   "outputs": [],
   "source": [
    "topics_polarities = np.ones(num_topics)\n",
    "m = SnorkelModel(\n",
    "    np.concatenate((polarities, topics_polarities), axis=0),\n",
    "    class_balances=class_balances,\n",
    "    cardinality=2,\n",
    ")\n",
    "m.fit(L_train, learning_rate=5e-4, balance_penalty=1e-3)"
   ]
  },
  {
   "cell_type": "code",
   "execution_count": 139,
   "id": "a0c859f7-77e8-4a69-806e-c4ad45a10be3",
   "metadata": {
    "jupyter": {
     "source_hidden": true
    },
    "tags": []
   },
   "outputs": [],
   "source": [
    "y_test = test[\"label\"].astype(int).values"
   ]
  },
  {
   "cell_type": "code",
   "execution_count": 140,
   "id": "31190279-33fe-45aa-92f4-c0b12e40700f",
   "metadata": {
    "jupyter": {
     "source_hidden": true
    },
    "tags": []
   },
   "outputs": [],
   "source": [
    "Metrics = {}\n",
    "\n",
    "\n",
    "def score(\n",
    "    model,\n",
    "    L=L_test,\n",
    "    y_true=y_test,\n",
    "    boxplots=True,\n",
    "    fill_proba=False,\n",
    "    name=\"\",\n",
    "    predict_proba_args={},\n",
    "):\n",
    "    y_pred = model.predict_proba(L, *predict_proba_args)[:, 1]\n",
    "\n",
    "    def fill_proba(proba):\n",
    "        proba = proba.copy()\n",
    "        proba[L.sum(axis=1) == 0] = class_balances[1]\n",
    "        return proba\n",
    "\n",
    "    if fill_proba:\n",
    "        y_pred = fill_proba(y_pred)\n",
    "\n",
    "    AP = metrics.average_precision_score(y_true, y_pred)\n",
    "    F1 = metrics.f1_score(y_true, y_pred.round())\n",
    "    AUC = metrics.roc_auc_score(y_true, y_pred)\n",
    "    Accuracy = metrics.accuracy_score(y_true, y_pred.round())\n",
    "    Balanced_Accuracy = metrics.balanced_accuracy_score(y_true, y_pred.round())\n",
    "    M = {\n",
    "        \"F1\": F1,\n",
    "        \"Average_Precision\": AP,\n",
    "        \"AUC\": AUC,\n",
    "        \"Accuracy\": Accuracy,\n",
    "        \"Balanced_Accuracy\": Balanced_Accuracy,\n",
    "    }\n",
    "    for key in M:\n",
    "        M[key] = round(M[key], 3)\n",
    "\n",
    "    if boxplots:\n",
    "        fig, axs = plt.subplots(1, 2, figsize=(8, 3))\n",
    "        plt.title(name)\n",
    "        pd.DataFrame({\"y_pred\": y_pred, \"y_true\": y_true}).boxplot(\n",
    "            by=\"y_true\", ax=axs[0]\n",
    "        )\n",
    "        axs[0].set_title(\"Predicted probabilities grouped by ground truth\")\n",
    "        axs[0].set_ylim([0, 1])\n",
    "        axs[0].get_figure().suptitle(\"\")\n",
    "        plt.ylabel(\"y_pred\")\n",
    "\n",
    "        pd.Series(y_pred).plot.box(ax=axs[1])\n",
    "        axs[1].set_title(\"Predicted probabilties\")\n",
    "        axs[1].set_ylim([0, 1])\n",
    "        axs[1].axhline(\n",
    "            y_true.mean(), color=\"g\", linestyle=\"--\", alpha=0.3, label=\"Mean of y_true\"\n",
    "        )\n",
    "\n",
    "        # Add a cross indicating the mean of y_pred\n",
    "        mean_y_pred = pd.Series(y_pred).mean()\n",
    "        axs[1].scatter(\n",
    "            [1], [mean_y_pred], marker=\"+\", color=\"r\", s=200, label=\"Mean of y_pred\"\n",
    "        )\n",
    "        axs[1].legend()\n",
    "\n",
    "        plt.ylabel(\"y_pred\")\n",
    "        plt.tight_layout()\n",
    "        plt.show()\n",
    "    if name:\n",
    "        global Metrics\n",
    "        Metrics[name] = M\n",
    "    return M"
   ]
  },
  {
   "cell_type": "markdown",
   "id": "fb5b6841-a11a-49f0-84ad-2c94e3682251",
   "metadata": {},
   "source": [
    "baseline f1 .817 accuracy .84"
   ]
  },
  {
   "cell_type": "code",
   "execution_count": 141,
   "id": "a447ce8f-99e6-4472-8ff0-954d04c98705",
   "metadata": {
    "tags": []
   },
   "outputs": [
    {
     "data": {
      "image/png": "[encoded data removed]",
      "text/plain": [
       "<Figure size 800x300 with 2 Axes>"
      ]
     },
     "metadata": {},
     "output_type": "display_data"
    },
    {
     "data": {
      "text/plain": [
       "{'F1': 0.841,\n",
       " 'Average_Precision': 0.929,\n",
       " 'AUC': 0.928,\n",
       " 'Accuracy': 0.856,\n",
       " 'Balanced_Accuracy': 0.853}"
      ]
     },
     "execution_count": 141,
     "metadata": {},
     "output_type": "execute_result"
    }
   ],
   "source": [
    "# This is the Uniform Marginals calculation the Snorkel and Metal libraries use\n",
    "# Performance should be very similar to the Snorkel model\n",
    "score(m, name=\"flippers\")"
   ]
  },
  {
   "cell_type": "code",
   "execution_count": 142,
   "id": "e931a8e1-ff9c-49f3-822d-15e9540344c2",
   "metadata": {
    "tags": []
   },
   "outputs": [
    {
     "data": {
      "text/plain": [
       "<Axes: >"
      ]
     },
     "execution_count": 142,
     "metadata": {},
     "output_type": "execute_result"
    },
    {
     "data": {
      "image/png": "[encoded data removed]",
      "text/plain": [
       "<Figure size 640x480 with 1 Axes>"
      ]
     },
     "metadata": {},
     "output_type": "display_data"
    }
   ],
   "source": [
    "pd.Series(m.loss_history).plot()"
   ]
  },
  {
   "cell_type": "code",
   "execution_count": null,
   "id": "4d967393-b069-4b94-8033-551e263764a1",
   "metadata": {},
   "outputs": [],
   "source": []
  },
  {
   "cell_type": "code",
   "execution_count": null,
   "id": "1e4c88dc-bd36-4d31-a727-93dac0609f07",
   "metadata": {},
   "outputs": [],
   "source": []
  },
  {
   "cell_type": "code",
   "execution_count": null,
   "id": "9f98b8de-30cd-4736-b49e-66d1548b4b05",
   "metadata": {},
   "outputs": [],
   "source": []
  },
  {
   "cell_type": "code",
   "execution_count": null,
   "id": "14f6e86b-bbb2-45fe-b2ce-0b85933b39b2",
   "metadata": {},
   "outputs": [],
   "source": []
  },
  {
   "cell_type": "code",
   "execution_count": null,
   "id": "99d92c14-d201-42d7-b34f-f9a1f452c9b5",
   "metadata": {},
   "outputs": [],
   "source": []
  }
 ],
 "metadata": {
  "kernelspec": {
   "display_name": "Python 3 (ipykernel)",
   "language": "python",
   "name": "python3"
  },
  "language_info": {
   "codemirror_mode": {
    "name": "ipython",
    "version": 3
   },
   "file_extension": ".py",
   "mimetype": "text/x-python",
   "name": "python",
   "nbconvert_exporter": "python",
   "pygments_lexer": "ipython3",
   "version": "3.10.9"
  }
 },
 "nbformat": 4,
 "nbformat_minor": 5
}
