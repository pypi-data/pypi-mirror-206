{
 "cells": [
  {
   "cell_type": "code",
   "execution_count": 1,
   "metadata": {},
   "outputs": [
    {
     "name": "stdout",
     "output_type": "stream",
     "text": [
      "Sequence Parameter set 'testSeq' initialized with 500 timepoint definitions\n",
      "Dictionary Parameter set 'testDict' initialized with 665 entries\n",
      "Simulating 1 batch(s) of ~665 dictionary entries\n",
      "Starting Batch: 0 (Entries 0->665)\n"
     ]
    }
   ],
   "source": [
    "from mrftools import *\n",
    "import numpy as np\n",
    "\n",
    "Testing.GenerateTestData()"
   ]
  },
  {
   "cell_type": "code",
   "execution_count": 7,
   "metadata": {},
   "outputs": [
    {
     "name": "stdout",
     "output_type": "stream",
     "text": [
      "(500, 256, 256)\n",
      "(500, 65536)\n",
      "(65536,)\n",
      "(256, 256)\n",
      "Pattern Match results equal source indices: True\n"
     ]
    }
   ],
   "source": [
    "simulation = Simulation.Import(\"testdata/test.mrf\",Simulation.GetAvailableSimulations(\"testdata/test.mrf\")[0])\n",
    "indexImage = np.random.randint(0, high=len(simulation.dictionaryParameters.entries)-1, size=(256,256))\n",
    "randomMRFImage = simulation.results[:,indexImage]\n",
    "SheppLogan_3T = GenerateRelaxationPhantom(256, PhantomType.SHEPP_LOGAN, fieldStrengthTesla=3)\n",
    "\n",
    "print(np.shape(randomMRFImage))\n",
    "linearizedSimulatedMRFImage = np.reshape(randomMRFImage, (np.shape(simulation.results)[0],-1))\n",
    "print(np.shape(linearizedSimulatedMRFImage))\n",
    "\n",
    "linearizedPatternMatchResults = simulation.FindPatternMatches(linearizedSimulatedMRFImage, useSVD=True)\n",
    "print(np.shape(linearizedPatternMatchResults))\n",
    "patternMatchResults = np.reshape(linearizedPatternMatchResults, (np.shape(indexImage)[0], -1))\n",
    "print(np.shape(patternMatchResults))\n",
    "print(\"Pattern Match results equal source indices: \" + str((patternMatchResults == indexImage).all()))\n"
   ]
  }
 ],
 "metadata": {
  "kernelspec": {
   "display_name": "Python 3.8.10 64-bit",
   "language": "python",
   "name": "python3"
  },
  "language_info": {
   "codemirror_mode": {
    "name": "ipython",
    "version": 3
   },
   "file_extension": ".py",
   "mimetype": "text/x-python",
   "name": "python",
   "nbconvert_exporter": "python",
   "pygments_lexer": "ipython3",
   "version": "3.8.10"
  },
  "orig_nbformat": 4,
  "vscode": {
   "interpreter": {
    "hash": "916dbcbb3f70747c44a77c7bcd40155683ae19c65e1c03b4aa3499c5328201f1"
   }
  }
 },
 "nbformat": 4,
 "nbformat_minor": 2
}
