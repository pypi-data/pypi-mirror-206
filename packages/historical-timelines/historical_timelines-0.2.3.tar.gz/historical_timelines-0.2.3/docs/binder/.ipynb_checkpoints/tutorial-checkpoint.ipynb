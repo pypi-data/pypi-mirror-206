{
 "cells": [
  {
   "cell_type": "markdown",
   "id": "9f8d6e67",
   "metadata": {},
   "source": [
    "# historical-timelines Tutorial\n",
    "\n",
    "This tutorial will teach you the basic features of how to use the historical-timelines library"
   ]
  },
  {
   "cell_type": "code",
   "execution_count": null,
   "id": "f02c46f9",
   "metadata": {},
   "outputs": [],
   "source": [
    "# Install the historical-timelines package\n",
    "import sys\n",
    "!{sys.executable} -m pip install historical-timelines"
   ]
  },
  {
   "cell_type": "code",
   "execution_count": null,
   "id": "c2b9af96",
   "metadata": {},
   "outputs": [],
   "source": [
    "# Import the module\n",
    "import historical_timelines\n",
    "\n",
    "# Import the HistoricalTimeline object\n",
    "from historical_timelines import HistoricalTimeline, HistoricalEvent, HistoricalDate\n",
    "\n",
    "# Allow notebooks to be displayed in jupyter\n",
    "from historical_timelines import output_notebook\n",
    "output_notebook()"
   ]
  },
  {
   "cell_type": "markdown",
   "id": "3c52f22a",
   "metadata": {},
   "source": [
    "## Using historical-timelines"
   ]
  },
  {
   "cell_type": "markdown",
   "id": "c53a14bd",
   "metadata": {},
   "source": [
    "### Creating a random timeline"
   ]
  },
  {
   "cell_type": "code",
   "execution_count": 3,
   "id": "723fc744",
   "metadata": {},
   "outputs": [],
   "source": [
    "# Populate the timeline with data\n",
    "rt = HistoricalTimeline(\"Random Timeline\")\n",
    "rt.populate_random_timeline()"
   ]
  },
  {
   "cell_type": "code",
   "execution_count": 4,
   "id": "eb64f5e9",
   "metadata": {},
   "outputs": [
    {
     "data": {
      "text/html": [
       "\n",
       "  <div id=\"be64028e-6df6-44bd-b36a-f9fcf43cf516\" data-root-id=\"p1005\" style=\"display: contents;\"></div>\n"
      ]
     },
     "metadata": {},
     "output_type": "display_data"
    },
    {
     "data": {
      "application/javascript": [
       "(function(root) {\n",
       "  function embed_document(root) {\n",
       "  const docs_json = {\"203ab04d-3ea5-4676-9d4b-8e24fa5246eb\":{\"version\":\"3.1.0\",\"title\":\"Bokeh Application\",\"defs\":[],\"roots\":[{\"type\":\"object\",\"name\":\"Figure\",\"id\":\"p1005\",\"attributes\":{\"width\":1600,\"height\":400,\"x_range\":{\"type\":\"object\",\"name\":\"DataRange1d\",\"id\":\"p1007\"},\"y_range\":{\"type\":\"object\",\"name\":\"FactorRange\",\"id\":\"p1017\",\"attributes\":{\"factors\":[\"p0\",\"p1\",\"p2\",\"p3\",\"default\"]}},\"x_scale\":{\"type\":\"object\",\"name\":\"LinearScale\",\"id\":\"p1019\"},\"y_scale\":{\"type\":\"object\",\"name\":\"CategoricalScale\",\"id\":\"p1021\"},\"title\":{\"type\":\"object\",\"name\":\"Title\",\"id\":\"p1008\",\"attributes\":{\"text\":\"Random Timeline\"}},\"renderers\":[{\"type\":\"object\",\"name\":\"GlyphRenderer\",\"id\":\"p1058\",\"attributes\":{\"data_source\":{\"type\":\"object\",\"name\":\"ColumnDataSource\",\"id\":\"p1002\",\"attributes\":{\"selected\":{\"type\":\"object\",\"name\":\"Selection\",\"id\":\"p1003\",\"attributes\":{\"indices\":[],\"line_indices\":[]}},\"selection_policy\":{\"type\":\"object\",\"name\":\"UnionRenderers\",\"id\":\"p1004\"},\"data\":{\"type\":\"map\",\"entries\":[[\"dates\",[-639,-331,-317,556,1433]],[\"title\",[\"jnnyg55\",\"9gmua4y\",\"uvlbsa1\",\"buopynj\",\"cqxzr8c\"]],[\"description\",[\"kcp6ey7\",\"r7xf69l\",\"g13hoyn\",\"efxam09\",\"aqfsk0m\"]],[\"label\",[\"default\",\"default\",\"default\",\"default\",\"default\"]]]}}},\"view\":{\"type\":\"object\",\"name\":\"CDSView\",\"id\":\"p1059\",\"attributes\":{\"filter\":{\"type\":\"object\",\"name\":\"AllIndices\",\"id\":\"p1060\"}}},\"glyph\":{\"type\":\"object\",\"name\":\"Scatter\",\"id\":\"p1055\",\"attributes\":{\"x\":{\"type\":\"field\",\"field\":\"dates\"},\"y\":{\"type\":\"field\",\"field\":\"label\"},\"size\":{\"type\":\"value\",\"value\":20},\"line_color\":{\"type\":\"value\",\"value\":\"#1f77b4\"},\"fill_color\":{\"type\":\"value\",\"value\":\"#1f77b4\"}}},\"nonselection_glyph\":{\"type\":\"object\",\"name\":\"Scatter\",\"id\":\"p1056\",\"attributes\":{\"x\":{\"type\":\"field\",\"field\":\"dates\"},\"y\":{\"type\":\"field\",\"field\":\"label\"},\"size\":{\"type\":\"value\",\"value\":20},\"line_color\":{\"type\":\"value\",\"value\":\"#1f77b4\"},\"line_alpha\":{\"type\":\"value\",\"value\":0.1},\"fill_color\":{\"type\":\"value\",\"value\":\"#1f77b4\"},\"fill_alpha\":{\"type\":\"value\",\"value\":0.1},\"hatch_alpha\":{\"type\":\"value\",\"value\":0.1}}},\"muted_glyph\":{\"type\":\"object\",\"name\":\"Scatter\",\"id\":\"p1057\",\"attributes\":{\"x\":{\"type\":\"field\",\"field\":\"dates\"},\"y\":{\"type\":\"field\",\"field\":\"label\"},\"size\":{\"type\":\"value\",\"value\":20},\"line_color\":{\"type\":\"value\",\"value\":\"#1f77b4\"},\"line_alpha\":{\"type\":\"value\",\"value\":0.2},\"fill_color\":{\"type\":\"value\",\"value\":\"#1f77b4\"},\"fill_alpha\":{\"type\":\"value\",\"value\":0.2},\"hatch_alpha\":{\"type\":\"value\",\"value\":0.2}}}}},{\"type\":\"object\",\"name\":\"GlyphRenderer\",\"id\":\"p1070\",\"attributes\":{\"data_source\":{\"type\":\"object\",\"name\":\"ColumnDataSource\",\"id\":\"p1061\",\"attributes\":{\"selected\":{\"type\":\"object\",\"name\":\"Selection\",\"id\":\"p1062\",\"attributes\":{\"indices\":[],\"line_indices\":[]}},\"selection_policy\":{\"type\":\"object\",\"name\":\"UnionRenderers\",\"id\":\"p1063\"},\"data\":{\"type\":\"map\",\"entries\":[[\"start\",[-1994]],[\"end\",[693]],[\"mid\",[-650.5]],[\"title\",[\"ecbgk36\"]],[\"description\",[\"rsteaoz\"]],[\"label\",[null]]]}}},\"view\":{\"type\":\"object\",\"name\":\"CDSView\",\"id\":\"p1071\",\"attributes\":{\"filter\":{\"type\":\"object\",\"name\":\"AllIndices\",\"id\":\"p1072\"}}},\"glyph\":{\"type\":\"object\",\"name\":\"HBar\",\"id\":\"p1067\",\"attributes\":{\"y\":{\"type\":\"value\",\"value\":\"p0\"},\"height\":{\"type\":\"value\",\"value\":0.3},\"left\":{\"type\":\"field\",\"field\":\"end\"},\"right\":{\"type\":\"field\",\"field\":\"start\"},\"line_color\":{\"type\":\"value\",\"value\":\"red\"},\"fill_color\":{\"type\":\"value\",\"value\":\"red\"},\"hatch_color\":{\"type\":\"value\",\"value\":\"red\"}}},\"nonselection_glyph\":{\"type\":\"object\",\"name\":\"HBar\",\"id\":\"p1068\",\"attributes\":{\"y\":{\"type\":\"value\",\"value\":\"p0\"},\"height\":{\"type\":\"value\",\"value\":0.3},\"left\":{\"type\":\"field\",\"field\":\"end\"},\"right\":{\"type\":\"field\",\"field\":\"start\"},\"line_color\":{\"type\":\"value\",\"value\":\"red\"},\"line_alpha\":{\"type\":\"value\",\"value\":0.1},\"fill_color\":{\"type\":\"value\",\"value\":\"red\"},\"fill_alpha\":{\"type\":\"value\",\"value\":0.1},\"hatch_color\":{\"type\":\"value\",\"value\":\"red\"},\"hatch_alpha\":{\"type\":\"value\",\"value\":0.1}}},\"muted_glyph\":{\"type\":\"object\",\"name\":\"HBar\",\"id\":\"p1069\",\"attributes\":{\"y\":{\"type\":\"value\",\"value\":\"p0\"},\"height\":{\"type\":\"value\",\"value\":0.3},\"left\":{\"type\":\"field\",\"field\":\"end\"},\"right\":{\"type\":\"field\",\"field\":\"start\"},\"line_color\":{\"type\":\"value\",\"value\":\"red\"},\"line_alpha\":{\"type\":\"value\",\"value\":0.2},\"fill_color\":{\"type\":\"value\",\"value\":\"red\"},\"fill_alpha\":{\"type\":\"value\",\"value\":0.2},\"hatch_color\":{\"type\":\"value\",\"value\":\"red\"},\"hatch_alpha\":{\"type\":\"value\",\"value\":0.2}}}}},{\"type\":\"object\",\"name\":\"GlyphRenderer\",\"id\":\"p1082\",\"attributes\":{\"data_source\":{\"type\":\"object\",\"name\":\"ColumnDataSource\",\"id\":\"p1073\",\"attributes\":{\"selected\":{\"type\":\"object\",\"name\":\"Selection\",\"id\":\"p1074\",\"attributes\":{\"indices\":[],\"line_indices\":[]}},\"selection_policy\":{\"type\":\"object\",\"name\":\"UnionRenderers\",\"id\":\"p1075\"},\"data\":{\"type\":\"map\",\"entries\":[[\"start\",[-1615,-501]],[\"end\",[-1386,61]],[\"mid\",[-1500.5,-220.0]],[\"title\",[\"x8ybaxx\",\"6q3veww\"]],[\"description\",[\"ffoyut1\",\"hwqm4ra\"]],[\"label\",[null,null]]]}}},\"view\":{\"type\":\"object\",\"name\":\"CDSView\",\"id\":\"p1083\",\"attributes\":{\"filter\":{\"type\":\"object\",\"name\":\"AllIndices\",\"id\":\"p1084\"}}},\"glyph\":{\"type\":\"object\",\"name\":\"HBar\",\"id\":\"p1079\",\"attributes\":{\"y\":{\"type\":\"value\",\"value\":\"p1\"},\"height\":{\"type\":\"value\",\"value\":0.3},\"left\":{\"type\":\"field\",\"field\":\"end\"},\"right\":{\"type\":\"field\",\"field\":\"start\"},\"line_color\":{\"type\":\"value\",\"value\":\"red\"},\"fill_color\":{\"type\":\"value\",\"value\":\"red\"},\"hatch_color\":{\"type\":\"value\",\"value\":\"red\"}}},\"nonselection_glyph\":{\"type\":\"object\",\"name\":\"HBar\",\"id\":\"p1080\",\"attributes\":{\"y\":{\"type\":\"value\",\"value\":\"p1\"},\"height\":{\"type\":\"value\",\"value\":0.3},\"left\":{\"type\":\"field\",\"field\":\"end\"},\"right\":{\"type\":\"field\",\"field\":\"start\"},\"line_color\":{\"type\":\"value\",\"value\":\"red\"},\"line_alpha\":{\"type\":\"value\",\"value\":0.1},\"fill_color\":{\"type\":\"value\",\"value\":\"red\"},\"fill_alpha\":{\"type\":\"value\",\"value\":0.1},\"hatch_color\":{\"type\":\"value\",\"value\":\"red\"},\"hatch_alpha\":{\"type\":\"value\",\"value\":0.1}}},\"muted_glyph\":{\"type\":\"object\",\"name\":\"HBar\",\"id\":\"p1081\",\"attributes\":{\"y\":{\"type\":\"value\",\"value\":\"p1\"},\"height\":{\"type\":\"value\",\"value\":0.3},\"left\":{\"type\":\"field\",\"field\":\"end\"},\"right\":{\"type\":\"field\",\"field\":\"start\"},\"line_color\":{\"type\":\"value\",\"value\":\"red\"},\"line_alpha\":{\"type\":\"value\",\"value\":0.2},\"fill_color\":{\"type\":\"value\",\"value\":\"red\"},\"fill_alpha\":{\"type\":\"value\",\"value\":0.2},\"hatch_color\":{\"type\":\"value\",\"value\":\"red\"},\"hatch_alpha\":{\"type\":\"value\",\"value\":0.2}}}}},{\"type\":\"object\",\"name\":\"GlyphRenderer\",\"id\":\"p1094\",\"attributes\":{\"data_source\":{\"type\":\"object\",\"name\":\"ColumnDataSource\",\"id\":\"p1085\",\"attributes\":{\"selected\":{\"type\":\"object\",\"name\":\"Selection\",\"id\":\"p1086\",\"attributes\":{\"indices\":[],\"line_indices\":[]}},\"selection_policy\":{\"type\":\"object\",\"name\":\"UnionRenderers\",\"id\":\"p1087\"},\"data\":{\"type\":\"map\",\"entries\":[[\"start\",[-327]],[\"end\",[-18]],[\"mid\",[-172.5]],[\"title\",[\"098suxi\"]],[\"description\",[\"yzaxf4h\"]],[\"label\",[null]]]}}},\"view\":{\"type\":\"object\",\"name\":\"CDSView\",\"id\":\"p1095\",\"attributes\":{\"filter\":{\"type\":\"object\",\"name\":\"AllIndices\",\"id\":\"p1096\"}}},\"glyph\":{\"type\":\"object\",\"name\":\"HBar\",\"id\":\"p1091\",\"attributes\":{\"y\":{\"type\":\"value\",\"value\":\"p2\"},\"height\":{\"type\":\"value\",\"value\":0.3},\"left\":{\"type\":\"field\",\"field\":\"end\"},\"right\":{\"type\":\"field\",\"field\":\"start\"},\"line_color\":{\"type\":\"value\",\"value\":\"red\"},\"fill_color\":{\"type\":\"value\",\"value\":\"red\"},\"hatch_color\":{\"type\":\"value\",\"value\":\"red\"}}},\"nonselection_glyph\":{\"type\":\"object\",\"name\":\"HBar\",\"id\":\"p1092\",\"attributes\":{\"y\":{\"type\":\"value\",\"value\":\"p2\"},\"height\":{\"type\":\"value\",\"value\":0.3},\"left\":{\"type\":\"field\",\"field\":\"end\"},\"right\":{\"type\":\"field\",\"field\":\"start\"},\"line_color\":{\"type\":\"value\",\"value\":\"red\"},\"line_alpha\":{\"type\":\"value\",\"value\":0.1},\"fill_color\":{\"type\":\"value\",\"value\":\"red\"},\"fill_alpha\":{\"type\":\"value\",\"value\":0.1},\"hatch_color\":{\"type\":\"value\",\"value\":\"red\"},\"hatch_alpha\":{\"type\":\"value\",\"value\":0.1}}},\"muted_glyph\":{\"type\":\"object\",\"name\":\"HBar\",\"id\":\"p1093\",\"attributes\":{\"y\":{\"type\":\"value\",\"value\":\"p2\"},\"height\":{\"type\":\"value\",\"value\":0.3},\"left\":{\"type\":\"field\",\"field\":\"end\"},\"right\":{\"type\":\"field\",\"field\":\"start\"},\"line_color\":{\"type\":\"value\",\"value\":\"red\"},\"line_alpha\":{\"type\":\"value\",\"value\":0.2},\"fill_color\":{\"type\":\"value\",\"value\":\"red\"},\"fill_alpha\":{\"type\":\"value\",\"value\":0.2},\"hatch_color\":{\"type\":\"value\",\"value\":\"red\"},\"hatch_alpha\":{\"type\":\"value\",\"value\":0.2}}}}},{\"type\":\"object\",\"name\":\"GlyphRenderer\",\"id\":\"p1106\",\"attributes\":{\"data_source\":{\"type\":\"object\",\"name\":\"ColumnDataSource\",\"id\":\"p1097\",\"attributes\":{\"selected\":{\"type\":\"object\",\"name\":\"Selection\",\"id\":\"p1098\",\"attributes\":{\"indices\":[],\"line_indices\":[]}},\"selection_policy\":{\"type\":\"object\",\"name\":\"UnionRenderers\",\"id\":\"p1099\"},\"data\":{\"type\":\"map\",\"entries\":[[\"start\",[-149]],[\"end\",[1172]],[\"mid\",[511.5]],[\"title\",[\"9z1mklq\"]],[\"description\",[\"hnku5j5\"]],[\"label\",[null]]]}}},\"view\":{\"type\":\"object\",\"name\":\"CDSView\",\"id\":\"p1107\",\"attributes\":{\"filter\":{\"type\":\"object\",\"name\":\"AllIndices\",\"id\":\"p1108\"}}},\"glyph\":{\"type\":\"object\",\"name\":\"HBar\",\"id\":\"p1103\",\"attributes\":{\"y\":{\"type\":\"value\",\"value\":\"p3\"},\"height\":{\"type\":\"value\",\"value\":0.3},\"left\":{\"type\":\"field\",\"field\":\"end\"},\"right\":{\"type\":\"field\",\"field\":\"start\"},\"line_color\":{\"type\":\"value\",\"value\":\"red\"},\"fill_color\":{\"type\":\"value\",\"value\":\"red\"},\"hatch_color\":{\"type\":\"value\",\"value\":\"red\"}}},\"nonselection_glyph\":{\"type\":\"object\",\"name\":\"HBar\",\"id\":\"p1104\",\"attributes\":{\"y\":{\"type\":\"value\",\"value\":\"p3\"},\"height\":{\"type\":\"value\",\"value\":0.3},\"left\":{\"type\":\"field\",\"field\":\"end\"},\"right\":{\"type\":\"field\",\"field\":\"start\"},\"line_color\":{\"type\":\"value\",\"value\":\"red\"},\"line_alpha\":{\"type\":\"value\",\"value\":0.1},\"fill_color\":{\"type\":\"value\",\"value\":\"red\"},\"fill_alpha\":{\"type\":\"value\",\"value\":0.1},\"hatch_color\":{\"type\":\"value\",\"value\":\"red\"},\"hatch_alpha\":{\"type\":\"value\",\"value\":0.1}}},\"muted_glyph\":{\"type\":\"object\",\"name\":\"HBar\",\"id\":\"p1105\",\"attributes\":{\"y\":{\"type\":\"value\",\"value\":\"p3\"},\"height\":{\"type\":\"value\",\"value\":0.3},\"left\":{\"type\":\"field\",\"field\":\"end\"},\"right\":{\"type\":\"field\",\"field\":\"start\"},\"line_color\":{\"type\":\"value\",\"value\":\"red\"},\"line_alpha\":{\"type\":\"value\",\"value\":0.2},\"fill_color\":{\"type\":\"value\",\"value\":\"red\"},\"fill_alpha\":{\"type\":\"value\",\"value\":0.2},\"hatch_color\":{\"type\":\"value\",\"value\":\"red\"},\"hatch_alpha\":{\"type\":\"value\",\"value\":0.2}}}}}],\"toolbar\":{\"type\":\"object\",\"name\":\"Toolbar\",\"id\":\"p1011\",\"attributes\":{\"tools\":[{\"type\":\"object\",\"name\":\"HoverTool\",\"id\":\"p1036\",\"attributes\":{\"renderers\":\"auto\",\"tooltips\":[[\"title\",\"@title\"],[\"description\",\"@description\"]]}},{\"type\":\"object\",\"name\":\"PanTool\",\"id\":\"p1037\"},{\"type\":\"object\",\"name\":\"WheelZoomTool\",\"id\":\"p1038\"},{\"type\":\"object\",\"name\":\"BoxZoomTool\",\"id\":\"p1039\",\"attributes\":{\"overlay\":{\"type\":\"object\",\"name\":\"BoxAnnotation\",\"id\":\"p1040\",\"attributes\":{\"syncable\":false,\"level\":\"overlay\",\"visible\":false,\"left_units\":\"canvas\",\"right_units\":\"canvas\",\"bottom_units\":\"canvas\",\"top_units\":\"canvas\",\"line_color\":\"black\",\"line_alpha\":1.0,\"line_width\":2,\"line_dash\":[4,4],\"fill_color\":\"lightgrey\",\"fill_alpha\":0.5}}}},{\"type\":\"object\",\"name\":\"ResetTool\",\"id\":\"p1041\"},{\"type\":\"object\",\"name\":\"SaveTool\",\"id\":\"p1042\"}]}},\"left\":[{\"type\":\"object\",\"name\":\"CategoricalAxis\",\"id\":\"p1030\",\"attributes\":{\"ticker\":{\"type\":\"object\",\"name\":\"CategoricalTicker\",\"id\":\"p1033\"},\"formatter\":{\"type\":\"object\",\"name\":\"CategoricalTickFormatter\",\"id\":\"p1031\"},\"axis_label\":\"category\",\"major_label_policy\":{\"type\":\"object\",\"name\":\"AllLabels\",\"id\":\"p1032\"}}}],\"below\":[{\"type\":\"object\",\"name\":\"LinearAxis\",\"id\":\"p1023\",\"attributes\":{\"ticker\":{\"type\":\"object\",\"name\":\"BasicTicker\",\"id\":\"p1026\",\"attributes\":{\"mantissas\":[1,2,5]}},\"formatter\":{\"type\":\"object\",\"name\":\"CustomJSTickFormatter\",\"id\":\"p1141\",\"attributes\":{\"code\":\"return tick < 0 ? Math.abs(tick) + \\\" BC\\\" : tick +  \\\" AD\\\"\"}},\"axis_label\":\"year\",\"major_label_policy\":{\"type\":\"object\",\"name\":\"AllLabels\",\"id\":\"p1025\"}}}],\"center\":[{\"type\":\"object\",\"name\":\"Grid\",\"id\":\"p1029\",\"attributes\":{\"axis\":{\"id\":\"p1023\"}}},{\"type\":\"object\",\"name\":\"Grid\",\"id\":\"p1035\",\"attributes\":{\"dimension\":1,\"axis\":{\"id\":\"p1030\"}}},{\"type\":\"object\",\"name\":\"LabelSet\",\"id\":\"p1112\",\"attributes\":{\"source\":{\"type\":\"object\",\"name\":\"ColumnDataSource\",\"id\":\"p1109\",\"attributes\":{\"selected\":{\"type\":\"object\",\"name\":\"Selection\",\"id\":\"p1110\",\"attributes\":{\"indices\":[],\"line_indices\":[]}},\"selection_policy\":{\"type\":\"object\",\"name\":\"UnionRenderers\",\"id\":\"p1111\"},\"data\":{\"type\":\"map\",\"entries\":[[\"start\",[-1994]],[\"end\",[693]],[\"mid\",[-650.5]],[\"title\",[\"ecbgk36\"]],[\"description\",[\"rsteaoz\"]],[\"label\",[null]]]}}},\"x\":{\"type\":\"field\",\"field\":\"mid\"},\"y\":{\"type\":\"value\",\"value\":\"p0\"},\"text\":{\"type\":\"field\",\"field\":\"title\"},\"y_offset\":{\"type\":\"value\",\"value\":-8},\"text_color\":{\"type\":\"value\",\"value\":\"#555555\"},\"text_font_size\":{\"type\":\"value\",\"value\":\"11px\"},\"text_align\":{\"type\":\"value\",\"value\":\"center\"}}},{\"type\":\"object\",\"name\":\"LabelSet\",\"id\":\"p1119\",\"attributes\":{\"source\":{\"type\":\"object\",\"name\":\"ColumnDataSource\",\"id\":\"p1116\",\"attributes\":{\"selected\":{\"type\":\"object\",\"name\":\"Selection\",\"id\":\"p1117\",\"attributes\":{\"indices\":[],\"line_indices\":[]}},\"selection_policy\":{\"type\":\"object\",\"name\":\"UnionRenderers\",\"id\":\"p1118\"},\"data\":{\"type\":\"map\",\"entries\":[[\"start\",[-1615,-501]],[\"end\",[-1386,61]],[\"mid\",[-1500.5,-220.0]],[\"title\",[\"x8ybaxx\",\"6q3veww\"]],[\"description\",[\"ffoyut1\",\"hwqm4ra\"]],[\"label\",[null,null]]]}}},\"x\":{\"type\":\"field\",\"field\":\"mid\"},\"y\":{\"type\":\"value\",\"value\":\"p1\"},\"text\":{\"type\":\"field\",\"field\":\"title\"},\"y_offset\":{\"type\":\"value\",\"value\":-8},\"text_color\":{\"type\":\"value\",\"value\":\"#555555\"},\"text_font_size\":{\"type\":\"value\",\"value\":\"11px\"},\"text_align\":{\"type\":\"value\",\"value\":\"center\"}}},{\"type\":\"object\",\"name\":\"LabelSet\",\"id\":\"p1126\",\"attributes\":{\"source\":{\"type\":\"object\",\"name\":\"ColumnDataSource\",\"id\":\"p1123\",\"attributes\":{\"selected\":{\"type\":\"object\",\"name\":\"Selection\",\"id\":\"p1124\",\"attributes\":{\"indices\":[],\"line_indices\":[]}},\"selection_policy\":{\"type\":\"object\",\"name\":\"UnionRenderers\",\"id\":\"p1125\"},\"data\":{\"type\":\"map\",\"entries\":[[\"start\",[-327]],[\"end\",[-18]],[\"mid\",[-172.5]],[\"title\",[\"098suxi\"]],[\"description\",[\"yzaxf4h\"]],[\"label\",[null]]]}}},\"x\":{\"type\":\"field\",\"field\":\"mid\"},\"y\":{\"type\":\"value\",\"value\":\"p2\"},\"text\":{\"type\":\"field\",\"field\":\"title\"},\"y_offset\":{\"type\":\"value\",\"value\":-8},\"text_color\":{\"type\":\"value\",\"value\":\"#555555\"},\"text_font_size\":{\"type\":\"value\",\"value\":\"11px\"},\"text_align\":{\"type\":\"value\",\"value\":\"center\"}}},{\"type\":\"object\",\"name\":\"LabelSet\",\"id\":\"p1133\",\"attributes\":{\"source\":{\"type\":\"object\",\"name\":\"ColumnDataSource\",\"id\":\"p1130\",\"attributes\":{\"selected\":{\"type\":\"object\",\"name\":\"Selection\",\"id\":\"p1131\",\"attributes\":{\"indices\":[],\"line_indices\":[]}},\"selection_policy\":{\"type\":\"object\",\"name\":\"UnionRenderers\",\"id\":\"p1132\"},\"data\":{\"type\":\"map\",\"entries\":[[\"start\",[-149]],[\"end\",[1172]],[\"mid\",[511.5]],[\"title\",[\"9z1mklq\"]],[\"description\",[\"hnku5j5\"]],[\"label\",[null]]]}}},\"x\":{\"type\":\"field\",\"field\":\"mid\"},\"y\":{\"type\":\"value\",\"value\":\"p3\"},\"text\":{\"type\":\"field\",\"field\":\"title\"},\"y_offset\":{\"type\":\"value\",\"value\":-8},\"text_color\":{\"type\":\"value\",\"value\":\"#555555\"},\"text_font_size\":{\"type\":\"value\",\"value\":\"11px\"},\"text_align\":{\"type\":\"value\",\"value\":\"center\"}}},{\"type\":\"object\",\"name\":\"LabelSet\",\"id\":\"p1137\",\"attributes\":{\"source\":{\"id\":\"p1002\"},\"x\":{\"type\":\"field\",\"field\":\"dates\"},\"y\":{\"type\":\"field\",\"field\":\"label\"},\"text\":{\"type\":\"field\",\"field\":\"title\"},\"text_color\":{\"type\":\"value\",\"value\":\"#555555\"},\"text_font_size\":{\"type\":\"value\",\"value\":\"11px\"},\"text_align\":{\"type\":\"value\",\"value\":\"center\"}}}]}}],\"callbacks\":{\"type\":\"map\"}}};\n",
       "  const render_items = [{\"docid\":\"203ab04d-3ea5-4676-9d4b-8e24fa5246eb\",\"roots\":{\"p1005\":\"be64028e-6df6-44bd-b36a-f9fcf43cf516\"},\"root_ids\":[\"p1005\"]}];\n",
       "  root.Bokeh.embed.embed_items_notebook(docs_json, render_items);\n",
       "  }\n",
       "  if (root.Bokeh !== undefined) {\n",
       "    embed_document(root);\n",
       "  } else {\n",
       "    let attempts = 0;\n",
       "    const timer = setInterval(function(root) {\n",
       "      if (root.Bokeh !== undefined) {\n",
       "        clearInterval(timer);\n",
       "        embed_document(root);\n",
       "      } else {\n",
       "        attempts++;\n",
       "        if (attempts > 100) {\n",
       "          clearInterval(timer);\n",
       "          console.log(\"Bokeh: ERROR: Unable to run BokehJS code because BokehJS library is missing\");\n",
       "        }\n",
       "      }\n",
       "    }, 10, root)\n",
       "  }\n",
       "})(window);"
      ],
      "application/vnd.bokehjs_exec.v0+json": ""
     },
     "metadata": {
      "application/vnd.bokehjs_exec.v0+json": {
       "id": "p1005"
      }
     },
     "output_type": "display_data"
    }
   ],
   "source": [
    "# Render the timeline\n",
    "rt.render_timeline(\"timeline.html\", True)"
   ]
  },
  {
   "cell_type": "markdown",
   "id": "5005da04",
   "metadata": {},
   "source": [
    "### Creating a timeline from csv\n",
    "\n",
    "Now we can create a timeline based on a csv. In this case, we'll use `timeline_egypt.csv`, which is included in this folder."
   ]
  },
  {
   "cell_type": "code",
   "execution_count": 29,
   "id": "e80e0d90",
   "metadata": {},
   "outputs": [
    {
     "data": {
      "text/html": [
       "\n",
       "  <div id=\"096f0006-4f4d-487e-8498-3106e2dbbc45\" data-root-id=\"p5677\" style=\"display: contents;\"></div>\n"
      ]
     },
     "metadata": {},
     "output_type": "display_data"
    },
    {
     "data": {
      "application/javascript": [
       "(function(root) {\n",
       "  function embed_document(root) {\n",
       "  const docs_json = {\"77b1b0bc-a81d-4969-aada-234bf973782c\":{\"version\":\"3.1.0\",\"title\":\"Bokeh Application\",\"defs\":[],\"roots\":[{\"type\":\"object\",\"name\":\"Figure\",\"id\":\"p5677\",\"attributes\":{\"width\":1600,\"height\":400,\"x_range\":{\"type\":\"object\",\"name\":\"DataRange1d\",\"id\":\"p5679\"},\"y_range\":{\"type\":\"object\",\"name\":\"FactorRange\",\"id\":\"p5689\",\"attributes\":{\"factors\":[\"p0\",\"p1\",\"p2\",\"Event\",\"Person\"]}},\"x_scale\":{\"type\":\"object\",\"name\":\"LinearScale\",\"id\":\"p5691\"},\"y_scale\":{\"type\":\"object\",\"name\":\"CategoricalScale\",\"id\":\"p5693\"},\"title\":{\"type\":\"object\",\"name\":\"Title\",\"id\":\"p5680\",\"attributes\":{\"text\":\"Timeline from csv\"}},\"renderers\":[{\"type\":\"object\",\"name\":\"GlyphRenderer\",\"id\":\"p5730\",\"attributes\":{\"data_source\":{\"type\":\"object\",\"name\":\"ColumnDataSource\",\"id\":\"p5674\",\"attributes\":{\"selected\":{\"type\":\"object\",\"name\":\"Selection\",\"id\":\"p5675\",\"attributes\":{\"indices\":[],\"line_indices\":[]}},\"selection_policy\":{\"type\":\"object\",\"name\":\"UnionRenderers\",\"id\":\"p5676\"},\"data\":{\"type\":\"map\",\"entries\":[[\"dates\",[-1210,-1207,-1200,-1198,-1197,-1185,-1179,-1177,-1175,-1174,-1161,-1152,-1141,-1107,-1092,-1088]],[\"title\",[\"Merneptah\\nShips Grain\",\"Sea\\nPeoples\",\"Drought in\\nItaly\",\"Neferhotep\\nDies\",\"Heria\\nSteals\",\"Ugarit\\nDestroyed\",\"Unusual\\noffering to\\nthe Nile\",\"Sea\\nPeoples\",\"Paneb Dies\",\"Sea\\nPeoples\",\"Wheat\\nRations\\nStop Coming\",\"Strike\",\"Work\\nCancelled\",\"Tomb\\nRobbers\\nPunished\",\"Tombs\\nExamined\",\"Grain Riot\"]],[\"description\",[\"Merneptah donates grain to the Hittitles\",\"Earlier wave of Sea Peoples\",\"Massive drought in Europe\",\"Neferhotep is killed by the enemy\",\"Heria steals tools from the Workmen's viilage\",\"Ugarit is destroyed\",\"Ramessess III makes an unual offering to the Nile in the hopes of getting it to cooperate\",\"Sea Peoples invade Egypt and are fought off\",\"Paneb is executed for theft\",\"Ramesses III defeats sea peoples\",\"Wheat rations begin to stop being properly paid\",\"Workers strike due to nonayment of grain\",\"Once instance of work being canceled due to violence\",\"An itial set of tomb robbers are punished\",\"Tombs are examined for robberies\",\"People riot due to lack of food\"]],[\"label\",[\"Event\",\"Event\",\"Event\",\"Person\",\"Person\",\"Event\",\"Event\",\"Event\",\"Person\",\"Event\",\"Event\",\"Event\",\"Event\",\"Event\",\"Event\",\"Event\"]]]}}},\"view\":{\"type\":\"object\",\"name\":\"CDSView\",\"id\":\"p5731\",\"attributes\":{\"filter\":{\"type\":\"object\",\"name\":\"AllIndices\",\"id\":\"p5732\"}}},\"glyph\":{\"type\":\"object\",\"name\":\"Scatter\",\"id\":\"p5727\",\"attributes\":{\"x\":{\"type\":\"field\",\"field\":\"dates\"},\"y\":{\"type\":\"field\",\"field\":\"label\"},\"size\":{\"type\":\"value\",\"value\":20},\"line_color\":{\"type\":\"value\",\"value\":\"#1f77b4\"},\"fill_color\":{\"type\":\"value\",\"value\":\"#1f77b4\"}}},\"nonselection_glyph\":{\"type\":\"object\",\"name\":\"Scatter\",\"id\":\"p5728\",\"attributes\":{\"x\":{\"type\":\"field\",\"field\":\"dates\"},\"y\":{\"type\":\"field\",\"field\":\"label\"},\"size\":{\"type\":\"value\",\"value\":20},\"line_color\":{\"type\":\"value\",\"value\":\"#1f77b4\"},\"line_alpha\":{\"type\":\"value\",\"value\":0.1},\"fill_color\":{\"type\":\"value\",\"value\":\"#1f77b4\"},\"fill_alpha\":{\"type\":\"value\",\"value\":0.1},\"hatch_alpha\":{\"type\":\"value\",\"value\":0.1}}},\"muted_glyph\":{\"type\":\"object\",\"name\":\"Scatter\",\"id\":\"p5729\",\"attributes\":{\"x\":{\"type\":\"field\",\"field\":\"dates\"},\"y\":{\"type\":\"field\",\"field\":\"label\"},\"size\":{\"type\":\"value\",\"value\":20},\"line_color\":{\"type\":\"value\",\"value\":\"#1f77b4\"},\"line_alpha\":{\"type\":\"value\",\"value\":0.2},\"fill_color\":{\"type\":\"value\",\"value\":\"#1f77b4\"},\"fill_alpha\":{\"type\":\"value\",\"value\":0.2},\"hatch_alpha\":{\"type\":\"value\",\"value\":0.2}}}}},{\"type\":\"object\",\"name\":\"GlyphRenderer\",\"id\":\"p5742\",\"attributes\":{\"data_source\":{\"type\":\"object\",\"name\":\"ColumnDataSource\",\"id\":\"p5733\",\"attributes\":{\"selected\":{\"type\":\"object\",\"name\":\"Selection\",\"id\":\"p5734\",\"attributes\":{\"indices\":[],\"line_indices\":[]}},\"selection_policy\":{\"type\":\"object\",\"name\":\"UnionRenderers\",\"id\":\"p5735\"},\"data\":{\"type\":\"map\",\"entries\":[[\"start\",[-1279,-1203,-1191,-1186,-1149,-1136,-1111]],[\"end\",[-1213,-1197,-1189,-1155,-1145,-1129,-1107]],[\"mid\",[-1246.0,-1200.0,-1190.0,-1170.5,-1147.0,-1132.5,-1109.0]],[\"title\",[\"Ramesses\\nII\",\"Seti II\",\"Twosret\",\"Ramesses\\nIII\",\"Ramesses V\",\"Ramesses\\nVII\",\"Ramesses X\"]],[\"description\",[\"Reign of Ramesses II\",\"Reign of Seti II\",\"Reign of Twosret\",\"Reign of Ramesses III\",\"Reign of Ramesses V\",\"Reign of Ramesses VII\",\"Reign of Ramesses X\"]],[\"label\",[\"Ruler\",\"Ruler\",\"Ruler\",\"Ruler\",\"Ruler\",\"Ruler\",\"Ruler\"]]]}}},\"view\":{\"type\":\"object\",\"name\":\"CDSView\",\"id\":\"p5743\",\"attributes\":{\"filter\":{\"type\":\"object\",\"name\":\"AllIndices\",\"id\":\"p5744\"}}},\"glyph\":{\"type\":\"object\",\"name\":\"HBar\",\"id\":\"p5739\",\"attributes\":{\"y\":{\"type\":\"value\",\"value\":\"p0\"},\"height\":{\"type\":\"value\",\"value\":0.3},\"left\":{\"type\":\"field\",\"field\":\"end\"},\"right\":{\"type\":\"field\",\"field\":\"start\"},\"line_color\":{\"type\":\"value\",\"value\":\"red\"},\"fill_color\":{\"type\":\"value\",\"value\":\"red\"},\"hatch_color\":{\"type\":\"value\",\"value\":\"red\"}}},\"nonselection_glyph\":{\"type\":\"object\",\"name\":\"HBar\",\"id\":\"p5740\",\"attributes\":{\"y\":{\"type\":\"value\",\"value\":\"p0\"},\"height\":{\"type\":\"value\",\"value\":0.3},\"left\":{\"type\":\"field\",\"field\":\"end\"},\"right\":{\"type\":\"field\",\"field\":\"start\"},\"line_color\":{\"type\":\"value\",\"value\":\"red\"},\"line_alpha\":{\"type\":\"value\",\"value\":0.1},\"fill_color\":{\"type\":\"value\",\"value\":\"red\"},\"fill_alpha\":{\"type\":\"value\",\"value\":0.1},\"hatch_color\":{\"type\":\"value\",\"value\":\"red\"},\"hatch_alpha\":{\"type\":\"value\",\"value\":0.1}}},\"muted_glyph\":{\"type\":\"object\",\"name\":\"HBar\",\"id\":\"p5741\",\"attributes\":{\"y\":{\"type\":\"value\",\"value\":\"p0\"},\"height\":{\"type\":\"value\",\"value\":0.3},\"left\":{\"type\":\"field\",\"field\":\"end\"},\"right\":{\"type\":\"field\",\"field\":\"start\"},\"line_color\":{\"type\":\"value\",\"value\":\"red\"},\"line_alpha\":{\"type\":\"value\",\"value\":0.2},\"fill_color\":{\"type\":\"value\",\"value\":\"red\"},\"fill_alpha\":{\"type\":\"value\",\"value\":0.2},\"hatch_color\":{\"type\":\"value\",\"value\":\"red\"},\"hatch_alpha\":{\"type\":\"value\",\"value\":0.2}}}}},{\"type\":\"object\",\"name\":\"GlyphRenderer\",\"id\":\"p5754\",\"attributes\":{\"data_source\":{\"type\":\"object\",\"name\":\"ColumnDataSource\",\"id\":\"p5745\",\"attributes\":{\"selected\":{\"type\":\"object\",\"name\":\"Selection\",\"id\":\"p5746\",\"attributes\":{\"indices\":[],\"line_indices\":[]}},\"selection_policy\":{\"type\":\"object\",\"name\":\"UnionRenderers\",\"id\":\"p5747\"},\"data\":{\"type\":\"map\",\"entries\":[[\"start\",[-1225,-1155,-1145,-1130,-1107]],[\"end\",[-1175,-1149,-1137,-1129,-1077]],[\"mid\",[-1200.0,-1152.0,-1141.0,-1129.5,-1092.0]],[\"title\",[\"Earthquakes\\n\",\"Ramesses\\nIV\",\"Ramesses\\nVI\",\"Ramesses\\nVIII\",\"Ramesses\\nXI\"]],[\"description\",[\"Earthquakes in mainlaind Greece\",\"Reign of Ramesses IV\",\"Reign of Ramesses VI\",\"Reign of Ramesses VIII\",\"Reign of Ramesses XI\"]],[\"label\",[\"Event\",\"Ruler\",\"Ruler\",\"Ruler\",\"Ruler\"]]]}}},\"view\":{\"type\":\"object\",\"name\":\"CDSView\",\"id\":\"p5755\",\"attributes\":{\"filter\":{\"type\":\"object\",\"name\":\"AllIndices\",\"id\":\"p5756\"}}},\"glyph\":{\"type\":\"object\",\"name\":\"HBar\",\"id\":\"p5751\",\"attributes\":{\"y\":{\"type\":\"value\",\"value\":\"p1\"},\"height\":{\"type\":\"value\",\"value\":0.3},\"left\":{\"type\":\"field\",\"field\":\"end\"},\"right\":{\"type\":\"field\",\"field\":\"start\"},\"line_color\":{\"type\":\"value\",\"value\":\"red\"},\"fill_color\":{\"type\":\"value\",\"value\":\"red\"},\"hatch_color\":{\"type\":\"value\",\"value\":\"red\"}}},\"nonselection_glyph\":{\"type\":\"object\",\"name\":\"HBar\",\"id\":\"p5752\",\"attributes\":{\"y\":{\"type\":\"value\",\"value\":\"p1\"},\"height\":{\"type\":\"value\",\"value\":0.3},\"left\":{\"type\":\"field\",\"field\":\"end\"},\"right\":{\"type\":\"field\",\"field\":\"start\"},\"line_color\":{\"type\":\"value\",\"value\":\"red\"},\"line_alpha\":{\"type\":\"value\",\"value\":0.1},\"fill_color\":{\"type\":\"value\",\"value\":\"red\"},\"fill_alpha\":{\"type\":\"value\",\"value\":0.1},\"hatch_color\":{\"type\":\"value\",\"value\":\"red\"},\"hatch_alpha\":{\"type\":\"value\",\"value\":0.1}}},\"muted_glyph\":{\"type\":\"object\",\"name\":\"HBar\",\"id\":\"p5753\",\"attributes\":{\"y\":{\"type\":\"value\",\"value\":\"p1\"},\"height\":{\"type\":\"value\",\"value\":0.3},\"left\":{\"type\":\"field\",\"field\":\"end\"},\"right\":{\"type\":\"field\",\"field\":\"start\"},\"line_color\":{\"type\":\"value\",\"value\":\"red\"},\"line_alpha\":{\"type\":\"value\",\"value\":0.2},\"fill_color\":{\"type\":\"value\",\"value\":\"red\"},\"fill_alpha\":{\"type\":\"value\",\"value\":0.2},\"hatch_color\":{\"type\":\"value\",\"value\":\"red\"},\"hatch_alpha\":{\"type\":\"value\",\"value\":0.2}}}}},{\"type\":\"object\",\"name\":\"GlyphRenderer\",\"id\":\"p5766\",\"attributes\":{\"data_source\":{\"type\":\"object\",\"name\":\"ColumnDataSource\",\"id\":\"p5757\",\"attributes\":{\"selected\":{\"type\":\"object\",\"name\":\"Selection\",\"id\":\"p5758\",\"attributes\":{\"indices\":[],\"line_indices\":[]}},\"selection_policy\":{\"type\":\"object\",\"name\":\"UnionRenderers\",\"id\":\"p5759\"},\"data\":{\"type\":\"map\",\"entries\":[[\"start\",[-1213,-1201,-1197,-1189,-1129]],[\"end\",[-1203,-1198,-1191,-1186,-1111]],[\"mid\",[-1208.0,-1199.5,-1194.0,-1187.5,-1120.0]],[\"title\",[\"Merneptah\",\"Amenmesse\",\"Siptah\",\"Setnakhte\",\"Ramesses\\nIX\"]],[\"description\",[\"Reign of Merneptah\",\"Reign of Amenmesse\",\"Reign of Siptah\",\"Reign of Setnakhte\",\"Reign of Ramesses IX\"]],[\"label\",[\"Ruler\",\"Ruler\",\"Ruler\",\"Ruler\",\"Ruler\"]]]}}},\"view\":{\"type\":\"object\",\"name\":\"CDSView\",\"id\":\"p5767\",\"attributes\":{\"filter\":{\"type\":\"object\",\"name\":\"AllIndices\",\"id\":\"p5768\"}}},\"glyph\":{\"type\":\"object\",\"name\":\"HBar\",\"id\":\"p5763\",\"attributes\":{\"y\":{\"type\":\"value\",\"value\":\"p2\"},\"height\":{\"type\":\"value\",\"value\":0.3},\"left\":{\"type\":\"field\",\"field\":\"end\"},\"right\":{\"type\":\"field\",\"field\":\"start\"},\"line_color\":{\"type\":\"value\",\"value\":\"red\"},\"fill_color\":{\"type\":\"value\",\"value\":\"red\"},\"hatch_color\":{\"type\":\"value\",\"value\":\"red\"}}},\"nonselection_glyph\":{\"type\":\"object\",\"name\":\"HBar\",\"id\":\"p5764\",\"attributes\":{\"y\":{\"type\":\"value\",\"value\":\"p2\"},\"height\":{\"type\":\"value\",\"value\":0.3},\"left\":{\"type\":\"field\",\"field\":\"end\"},\"right\":{\"type\":\"field\",\"field\":\"start\"},\"line_color\":{\"type\":\"value\",\"value\":\"red\"},\"line_alpha\":{\"type\":\"value\",\"value\":0.1},\"fill_color\":{\"type\":\"value\",\"value\":\"red\"},\"fill_alpha\":{\"type\":\"value\",\"value\":0.1},\"hatch_color\":{\"type\":\"value\",\"value\":\"red\"},\"hatch_alpha\":{\"type\":\"value\",\"value\":0.1}}},\"muted_glyph\":{\"type\":\"object\",\"name\":\"HBar\",\"id\":\"p5765\",\"attributes\":{\"y\":{\"type\":\"value\",\"value\":\"p2\"},\"height\":{\"type\":\"value\",\"value\":0.3},\"left\":{\"type\":\"field\",\"field\":\"end\"},\"right\":{\"type\":\"field\",\"field\":\"start\"},\"line_color\":{\"type\":\"value\",\"value\":\"red\"},\"line_alpha\":{\"type\":\"value\",\"value\":0.2},\"fill_color\":{\"type\":\"value\",\"value\":\"red\"},\"fill_alpha\":{\"type\":\"value\",\"value\":0.2},\"hatch_color\":{\"type\":\"value\",\"value\":\"red\"},\"hatch_alpha\":{\"type\":\"value\",\"value\":0.2}}}}}],\"toolbar\":{\"type\":\"object\",\"name\":\"Toolbar\",\"id\":\"p5683\",\"attributes\":{\"tools\":[{\"type\":\"object\",\"name\":\"HoverTool\",\"id\":\"p5708\",\"attributes\":{\"renderers\":\"auto\",\"tooltips\":[[\"title\",\"@title\"],[\"description\",\"@description\"]]}},{\"type\":\"object\",\"name\":\"PanTool\",\"id\":\"p5709\"},{\"type\":\"object\",\"name\":\"WheelZoomTool\",\"id\":\"p5710\"},{\"type\":\"object\",\"name\":\"BoxZoomTool\",\"id\":\"p5711\",\"attributes\":{\"overlay\":{\"type\":\"object\",\"name\":\"BoxAnnotation\",\"id\":\"p5712\",\"attributes\":{\"syncable\":false,\"level\":\"overlay\",\"visible\":false,\"left_units\":\"canvas\",\"right_units\":\"canvas\",\"bottom_units\":\"canvas\",\"top_units\":\"canvas\",\"line_color\":\"black\",\"line_alpha\":1.0,\"line_width\":2,\"line_dash\":[4,4],\"fill_color\":\"lightgrey\",\"fill_alpha\":0.5}}}},{\"type\":\"object\",\"name\":\"ResetTool\",\"id\":\"p5713\"},{\"type\":\"object\",\"name\":\"SaveTool\",\"id\":\"p5714\"}]}},\"left\":[{\"type\":\"object\",\"name\":\"CategoricalAxis\",\"id\":\"p5702\",\"attributes\":{\"ticker\":{\"type\":\"object\",\"name\":\"CategoricalTicker\",\"id\":\"p5705\"},\"formatter\":{\"type\":\"object\",\"name\":\"CategoricalTickFormatter\",\"id\":\"p5703\"},\"axis_label\":\"category\",\"major_label_policy\":{\"type\":\"object\",\"name\":\"AllLabels\",\"id\":\"p5704\"}}}],\"below\":[{\"type\":\"object\",\"name\":\"LinearAxis\",\"id\":\"p5695\",\"attributes\":{\"ticker\":{\"type\":\"object\",\"name\":\"BasicTicker\",\"id\":\"p5698\",\"attributes\":{\"mantissas\":[1,2,5]}},\"formatter\":{\"type\":\"object\",\"name\":\"CustomJSTickFormatter\",\"id\":\"p5794\",\"attributes\":{\"code\":\"return tick < 0 ? Math.abs(tick) + \\\" BC\\\" : tick +  \\\" AD\\\"\"}},\"axis_label\":\"year\",\"major_label_policy\":{\"type\":\"object\",\"name\":\"AllLabels\",\"id\":\"p5697\"}}}],\"center\":[{\"type\":\"object\",\"name\":\"Grid\",\"id\":\"p5701\",\"attributes\":{\"axis\":{\"id\":\"p5695\"}}},{\"type\":\"object\",\"name\":\"Grid\",\"id\":\"p5707\",\"attributes\":{\"dimension\":1,\"axis\":{\"id\":\"p5702\"}}},{\"type\":\"object\",\"name\":\"LabelSet\",\"id\":\"p5772\",\"attributes\":{\"source\":{\"type\":\"object\",\"name\":\"ColumnDataSource\",\"id\":\"p5769\",\"attributes\":{\"selected\":{\"type\":\"object\",\"name\":\"Selection\",\"id\":\"p5770\",\"attributes\":{\"indices\":[],\"line_indices\":[]}},\"selection_policy\":{\"type\":\"object\",\"name\":\"UnionRenderers\",\"id\":\"p5771\"},\"data\":{\"type\":\"map\",\"entries\":[[\"start\",[-1279,-1203,-1191,-1186,-1149,-1136,-1111]],[\"end\",[-1213,-1197,-1189,-1155,-1145,-1129,-1107]],[\"mid\",[-1246.0,-1200.0,-1190.0,-1170.5,-1147.0,-1132.5,-1109.0]],[\"title\",[\"Ramesses\\nII\",\"Seti II\",\"Twosret\",\"Ramesses\\nIII\",\"Ramesses V\",\"Ramesses\\nVII\",\"Ramesses X\"]],[\"description\",[\"Reign of Ramesses II\",\"Reign of Seti II\",\"Reign of Twosret\",\"Reign of Ramesses III\",\"Reign of Ramesses V\",\"Reign of Ramesses VII\",\"Reign of Ramesses X\"]],[\"label\",[\"Ruler\",\"Ruler\",\"Ruler\",\"Ruler\",\"Ruler\",\"Ruler\",\"Ruler\"]]]}}},\"x\":{\"type\":\"field\",\"field\":\"mid\"},\"y\":{\"type\":\"value\",\"value\":\"p0\"},\"text\":{\"type\":\"field\",\"field\":\"title\"},\"y_offset\":{\"type\":\"value\",\"value\":-8},\"text_color\":{\"type\":\"value\",\"value\":\"#555555\"},\"text_font_size\":{\"type\":\"value\",\"value\":\"11px\"},\"text_align\":{\"type\":\"value\",\"value\":\"center\"}}},{\"type\":\"object\",\"name\":\"LabelSet\",\"id\":\"p5779\",\"attributes\":{\"source\":{\"type\":\"object\",\"name\":\"ColumnDataSource\",\"id\":\"p5776\",\"attributes\":{\"selected\":{\"type\":\"object\",\"name\":\"Selection\",\"id\":\"p5777\",\"attributes\":{\"indices\":[],\"line_indices\":[]}},\"selection_policy\":{\"type\":\"object\",\"name\":\"UnionRenderers\",\"id\":\"p5778\"},\"data\":{\"type\":\"map\",\"entries\":[[\"start\",[-1225,-1155,-1145,-1130,-1107]],[\"end\",[-1175,-1149,-1137,-1129,-1077]],[\"mid\",[-1200.0,-1152.0,-1141.0,-1129.5,-1092.0]],[\"title\",[\"Earthquakes\\n\",\"Ramesses\\nIV\",\"Ramesses\\nVI\",\"Ramesses\\nVIII\",\"Ramesses\\nXI\"]],[\"description\",[\"Earthquakes in mainlaind Greece\",\"Reign of Ramesses IV\",\"Reign of Ramesses VI\",\"Reign of Ramesses VIII\",\"Reign of Ramesses XI\"]],[\"label\",[\"Event\",\"Ruler\",\"Ruler\",\"Ruler\",\"Ruler\"]]]}}},\"x\":{\"type\":\"field\",\"field\":\"mid\"},\"y\":{\"type\":\"value\",\"value\":\"p1\"},\"text\":{\"type\":\"field\",\"field\":\"title\"},\"y_offset\":{\"type\":\"value\",\"value\":-8},\"text_color\":{\"type\":\"value\",\"value\":\"#555555\"},\"text_font_size\":{\"type\":\"value\",\"value\":\"11px\"},\"text_align\":{\"type\":\"value\",\"value\":\"center\"}}},{\"type\":\"object\",\"name\":\"LabelSet\",\"id\":\"p5786\",\"attributes\":{\"source\":{\"type\":\"object\",\"name\":\"ColumnDataSource\",\"id\":\"p5783\",\"attributes\":{\"selected\":{\"type\":\"object\",\"name\":\"Selection\",\"id\":\"p5784\",\"attributes\":{\"indices\":[],\"line_indices\":[]}},\"selection_policy\":{\"type\":\"object\",\"name\":\"UnionRenderers\",\"id\":\"p5785\"},\"data\":{\"type\":\"map\",\"entries\":[[\"start\",[-1213,-1201,-1197,-1189,-1129]],[\"end\",[-1203,-1198,-1191,-1186,-1111]],[\"mid\",[-1208.0,-1199.5,-1194.0,-1187.5,-1120.0]],[\"title\",[\"Merneptah\",\"Amenmesse\",\"Siptah\",\"Setnakhte\",\"Ramesses\\nIX\"]],[\"description\",[\"Reign of Merneptah\",\"Reign of Amenmesse\",\"Reign of Siptah\",\"Reign of Setnakhte\",\"Reign of Ramesses IX\"]],[\"label\",[\"Ruler\",\"Ruler\",\"Ruler\",\"Ruler\",\"Ruler\"]]]}}},\"x\":{\"type\":\"field\",\"field\":\"mid\"},\"y\":{\"type\":\"value\",\"value\":\"p2\"},\"text\":{\"type\":\"field\",\"field\":\"title\"},\"y_offset\":{\"type\":\"value\",\"value\":-8},\"text_color\":{\"type\":\"value\",\"value\":\"#555555\"},\"text_font_size\":{\"type\":\"value\",\"value\":\"11px\"},\"text_align\":{\"type\":\"value\",\"value\":\"center\"}}},{\"type\":\"object\",\"name\":\"LabelSet\",\"id\":\"p5790\",\"attributes\":{\"source\":{\"id\":\"p5674\"},\"x\":{\"type\":\"field\",\"field\":\"dates\"},\"y\":{\"type\":\"field\",\"field\":\"label\"},\"text\":{\"type\":\"field\",\"field\":\"title\"},\"text_color\":{\"type\":\"value\",\"value\":\"#555555\"},\"text_font_size\":{\"type\":\"value\",\"value\":\"11px\"},\"text_align\":{\"type\":\"value\",\"value\":\"center\"}}}]}}],\"callbacks\":{\"type\":\"map\"}}};\n",
       "  const render_items = [{\"docid\":\"77b1b0bc-a81d-4969-aada-234bf973782c\",\"roots\":{\"p5677\":\"096f0006-4f4d-487e-8498-3106e2dbbc45\"},\"root_ids\":[\"p5677\"]}];\n",
       "  root.Bokeh.embed.embed_items_notebook(docs_json, render_items);\n",
       "  }\n",
       "  if (root.Bokeh !== undefined) {\n",
       "    embed_document(root);\n",
       "  } else {\n",
       "    let attempts = 0;\n",
       "    const timer = setInterval(function(root) {\n",
       "      if (root.Bokeh !== undefined) {\n",
       "        clearInterval(timer);\n",
       "        embed_document(root);\n",
       "      } else {\n",
       "        attempts++;\n",
       "        if (attempts > 100) {\n",
       "          clearInterval(timer);\n",
       "          console.log(\"Bokeh: ERROR: Unable to run BokehJS code because BokehJS library is missing\");\n",
       "        }\n",
       "      }\n",
       "    }, 10, root)\n",
       "  }\n",
       "})(window);"
      ],
      "application/vnd.bokehjs_exec.v0+json": ""
     },
     "metadata": {
      "application/vnd.bokehjs_exec.v0+json": {
       "id": "p5677"
      }
     },
     "output_type": "display_data"
    }
   ],
   "source": [
    "et = HistoricalTimeline(\"Timeline from csv\")\n",
    "timeline_json = HistoricalTimeline.json_from_csv(\n",
    "    \"timeline_egypt.csv\",\n",
    "    \"Event\",\n",
    "    \"Description\",\n",
    "    \"Label\",\n",
    "    \"Start\",\n",
    "    \"End\",\n",
    "    historical_timelines.Era.BCE\n",
    ")\n",
    "\n",
    "et.populate_timeline_from_dict(timeline_json)\n",
    "et.render_timeline(\"timeline_egypt.html\", True)"
   ]
  },
  {
   "cell_type": "markdown",
   "id": "41ef3b2c",
   "metadata": {},
   "source": [
    "### Adding Entries Manually\n",
    "\n",
    "We can also create timelines manually"
   ]
  },
  {
   "cell_type": "code",
   "execution_count": 34,
   "id": "f92d4839",
   "metadata": {},
   "outputs": [],
   "source": [
    "mt = HistoricalTimeline(\"Timeline from manual creation\") "
   ]
  },
  {
   "cell_type": "code",
   "execution_count": 35,
   "id": "56f0fcf9",
   "metadata": {},
   "outputs": [
    {
     "data": {
      "text/html": [
       "\n",
       "  <div id=\"7a110fce-3b01-4cbb-888f-b49e9c068881\" data-root-id=\"p7841\" style=\"display: contents;\"></div>\n"
      ]
     },
     "metadata": {},
     "output_type": "display_data"
    },
    {
     "data": {
      "application/javascript": [
       "(function(root) {\n",
       "  function embed_document(root) {\n",
       "  const docs_json = {\"3ad5440a-e0ff-40bf-bc81-6f03234f0a5e\":{\"version\":\"3.1.0\",\"title\":\"Bokeh Application\",\"defs\":[],\"roots\":[{\"type\":\"object\",\"name\":\"Figure\",\"id\":\"p7841\",\"attributes\":{\"width\":1600,\"height\":400,\"x_range\":{\"type\":\"object\",\"name\":\"DataRange1d\",\"id\":\"p7843\"},\"y_range\":{\"type\":\"object\",\"name\":\"FactorRange\",\"id\":\"p7853\",\"attributes\":{\"factors\":[\"p0\",\"p1\",\"default\"]}},\"x_scale\":{\"type\":\"object\",\"name\":\"LinearScale\",\"id\":\"p7855\"},\"y_scale\":{\"type\":\"object\",\"name\":\"CategoricalScale\",\"id\":\"p7857\"},\"title\":{\"type\":\"object\",\"name\":\"Title\",\"id\":\"p7844\",\"attributes\":{\"text\":\"Timeline from manual creation\"}},\"renderers\":[{\"type\":\"object\",\"name\":\"GlyphRenderer\",\"id\":\"p7894\",\"attributes\":{\"data_source\":{\"type\":\"object\",\"name\":\"ColumnDataSource\",\"id\":\"p7838\",\"attributes\":{\"selected\":{\"type\":\"object\",\"name\":\"Selection\",\"id\":\"p7839\",\"attributes\":{\"indices\":[],\"line_indices\":[]}},\"selection_policy\":{\"type\":\"object\",\"name\":\"UnionRenderers\",\"id\":\"p7840\"},\"data\":{\"type\":\"map\",\"entries\":[[\"dates\",[100]],[\"title\",[\"Sample\\nEvent 1\"]],[\"description\",[\"An example event\"]],[\"label\",[\"default\"]]]}}},\"view\":{\"type\":\"object\",\"name\":\"CDSView\",\"id\":\"p7895\",\"attributes\":{\"filter\":{\"type\":\"object\",\"name\":\"AllIndices\",\"id\":\"p7896\"}}},\"glyph\":{\"type\":\"object\",\"name\":\"Scatter\",\"id\":\"p7891\",\"attributes\":{\"x\":{\"type\":\"field\",\"field\":\"dates\"},\"y\":{\"type\":\"field\",\"field\":\"label\"},\"size\":{\"type\":\"value\",\"value\":20},\"line_color\":{\"type\":\"value\",\"value\":\"#1f77b4\"},\"fill_color\":{\"type\":\"value\",\"value\":\"#1f77b4\"}}},\"nonselection_glyph\":{\"type\":\"object\",\"name\":\"Scatter\",\"id\":\"p7892\",\"attributes\":{\"x\":{\"type\":\"field\",\"field\":\"dates\"},\"y\":{\"type\":\"field\",\"field\":\"label\"},\"size\":{\"type\":\"value\",\"value\":20},\"line_color\":{\"type\":\"value\",\"value\":\"#1f77b4\"},\"line_alpha\":{\"type\":\"value\",\"value\":0.1},\"fill_color\":{\"type\":\"value\",\"value\":\"#1f77b4\"},\"fill_alpha\":{\"type\":\"value\",\"value\":0.1},\"hatch_alpha\":{\"type\":\"value\",\"value\":0.1}}},\"muted_glyph\":{\"type\":\"object\",\"name\":\"Scatter\",\"id\":\"p7893\",\"attributes\":{\"x\":{\"type\":\"field\",\"field\":\"dates\"},\"y\":{\"type\":\"field\",\"field\":\"label\"},\"size\":{\"type\":\"value\",\"value\":20},\"line_color\":{\"type\":\"value\",\"value\":\"#1f77b4\"},\"line_alpha\":{\"type\":\"value\",\"value\":0.2},\"fill_color\":{\"type\":\"value\",\"value\":\"#1f77b4\"},\"fill_alpha\":{\"type\":\"value\",\"value\":0.2},\"hatch_alpha\":{\"type\":\"value\",\"value\":0.2}}}}},{\"type\":\"object\",\"name\":\"GlyphRenderer\",\"id\":\"p7906\",\"attributes\":{\"data_source\":{\"type\":\"object\",\"name\":\"ColumnDataSource\",\"id\":\"p7897\",\"attributes\":{\"selected\":{\"type\":\"object\",\"name\":\"Selection\",\"id\":\"p7898\",\"attributes\":{\"indices\":[],\"line_indices\":[]}},\"selection_policy\":{\"type\":\"object\",\"name\":\"UnionRenderers\",\"id\":\"p7899\"},\"data\":{\"type\":\"map\",\"entries\":[[\"start\",[100]],[\"end\",[200]],[\"mid\",[150.0]],[\"title\",[\"Sample\\nPeriod 1\"]],[\"description\",[\"An example time period\"]],[\"label\",[null]]]}}},\"view\":{\"type\":\"object\",\"name\":\"CDSView\",\"id\":\"p7907\",\"attributes\":{\"filter\":{\"type\":\"object\",\"name\":\"AllIndices\",\"id\":\"p7908\"}}},\"glyph\":{\"type\":\"object\",\"name\":\"HBar\",\"id\":\"p7903\",\"attributes\":{\"y\":{\"type\":\"value\",\"value\":\"p0\"},\"height\":{\"type\":\"value\",\"value\":0.3},\"left\":{\"type\":\"field\",\"field\":\"end\"},\"right\":{\"type\":\"field\",\"field\":\"start\"},\"line_color\":{\"type\":\"value\",\"value\":\"red\"},\"fill_color\":{\"type\":\"value\",\"value\":\"red\"},\"hatch_color\":{\"type\":\"value\",\"value\":\"red\"}}},\"nonselection_glyph\":{\"type\":\"object\",\"name\":\"HBar\",\"id\":\"p7904\",\"attributes\":{\"y\":{\"type\":\"value\",\"value\":\"p0\"},\"height\":{\"type\":\"value\",\"value\":0.3},\"left\":{\"type\":\"field\",\"field\":\"end\"},\"right\":{\"type\":\"field\",\"field\":\"start\"},\"line_color\":{\"type\":\"value\",\"value\":\"red\"},\"line_alpha\":{\"type\":\"value\",\"value\":0.1},\"fill_color\":{\"type\":\"value\",\"value\":\"red\"},\"fill_alpha\":{\"type\":\"value\",\"value\":0.1},\"hatch_color\":{\"type\":\"value\",\"value\":\"red\"},\"hatch_alpha\":{\"type\":\"value\",\"value\":0.1}}},\"muted_glyph\":{\"type\":\"object\",\"name\":\"HBar\",\"id\":\"p7905\",\"attributes\":{\"y\":{\"type\":\"value\",\"value\":\"p0\"},\"height\":{\"type\":\"value\",\"value\":0.3},\"left\":{\"type\":\"field\",\"field\":\"end\"},\"right\":{\"type\":\"field\",\"field\":\"start\"},\"line_color\":{\"type\":\"value\",\"value\":\"red\"},\"line_alpha\":{\"type\":\"value\",\"value\":0.2},\"fill_color\":{\"type\":\"value\",\"value\":\"red\"},\"fill_alpha\":{\"type\":\"value\",\"value\":0.2},\"hatch_color\":{\"type\":\"value\",\"value\":\"red\"},\"hatch_alpha\":{\"type\":\"value\",\"value\":0.2}}}}},{\"type\":\"object\",\"name\":\"GlyphRenderer\",\"id\":\"p7918\",\"attributes\":{\"data_source\":{\"type\":\"object\",\"name\":\"ColumnDataSource\",\"id\":\"p7909\",\"attributes\":{\"selected\":{\"type\":\"object\",\"name\":\"Selection\",\"id\":\"p7910\",\"attributes\":{\"indices\":[],\"line_indices\":[]}},\"selection_policy\":{\"type\":\"object\",\"name\":\"UnionRenderers\",\"id\":\"p7911\"},\"data\":{\"type\":\"map\",\"entries\":[[\"start\",[140]],[\"end\",[300]],[\"mid\",[220.0]],[\"title\",[\"Sample\\nPeriod From\\nDict\"]],[\"description\",[\"Also created from dict\"]],[\"label\",[\"random\"]]]}}},\"view\":{\"type\":\"object\",\"name\":\"CDSView\",\"id\":\"p7919\",\"attributes\":{\"filter\":{\"type\":\"object\",\"name\":\"AllIndices\",\"id\":\"p7920\"}}},\"glyph\":{\"type\":\"object\",\"name\":\"HBar\",\"id\":\"p7915\",\"attributes\":{\"y\":{\"type\":\"value\",\"value\":\"p1\"},\"height\":{\"type\":\"value\",\"value\":0.3},\"left\":{\"type\":\"field\",\"field\":\"end\"},\"right\":{\"type\":\"field\",\"field\":\"start\"},\"line_color\":{\"type\":\"value\",\"value\":\"red\"},\"fill_color\":{\"type\":\"value\",\"value\":\"red\"},\"hatch_color\":{\"type\":\"value\",\"value\":\"red\"}}},\"nonselection_glyph\":{\"type\":\"object\",\"name\":\"HBar\",\"id\":\"p7916\",\"attributes\":{\"y\":{\"type\":\"value\",\"value\":\"p1\"},\"height\":{\"type\":\"value\",\"value\":0.3},\"left\":{\"type\":\"field\",\"field\":\"end\"},\"right\":{\"type\":\"field\",\"field\":\"start\"},\"line_color\":{\"type\":\"value\",\"value\":\"red\"},\"line_alpha\":{\"type\":\"value\",\"value\":0.1},\"fill_color\":{\"type\":\"value\",\"value\":\"red\"},\"fill_alpha\":{\"type\":\"value\",\"value\":0.1},\"hatch_color\":{\"type\":\"value\",\"value\":\"red\"},\"hatch_alpha\":{\"type\":\"value\",\"value\":0.1}}},\"muted_glyph\":{\"type\":\"object\",\"name\":\"HBar\",\"id\":\"p7917\",\"attributes\":{\"y\":{\"type\":\"value\",\"value\":\"p1\"},\"height\":{\"type\":\"value\",\"value\":0.3},\"left\":{\"type\":\"field\",\"field\":\"end\"},\"right\":{\"type\":\"field\",\"field\":\"start\"},\"line_color\":{\"type\":\"value\",\"value\":\"red\"},\"line_alpha\":{\"type\":\"value\",\"value\":0.2},\"fill_color\":{\"type\":\"value\",\"value\":\"red\"},\"fill_alpha\":{\"type\":\"value\",\"value\":0.2},\"hatch_color\":{\"type\":\"value\",\"value\":\"red\"},\"hatch_alpha\":{\"type\":\"value\",\"value\":0.2}}}}}],\"toolbar\":{\"type\":\"object\",\"name\":\"Toolbar\",\"id\":\"p7847\",\"attributes\":{\"tools\":[{\"type\":\"object\",\"name\":\"HoverTool\",\"id\":\"p7872\",\"attributes\":{\"renderers\":\"auto\",\"tooltips\":[[\"title\",\"@title\"],[\"description\",\"@description\"]]}},{\"type\":\"object\",\"name\":\"PanTool\",\"id\":\"p7873\"},{\"type\":\"object\",\"name\":\"WheelZoomTool\",\"id\":\"p7874\"},{\"type\":\"object\",\"name\":\"BoxZoomTool\",\"id\":\"p7875\",\"attributes\":{\"overlay\":{\"type\":\"object\",\"name\":\"BoxAnnotation\",\"id\":\"p7876\",\"attributes\":{\"syncable\":false,\"level\":\"overlay\",\"visible\":false,\"left_units\":\"canvas\",\"right_units\":\"canvas\",\"bottom_units\":\"canvas\",\"top_units\":\"canvas\",\"line_color\":\"black\",\"line_alpha\":1.0,\"line_width\":2,\"line_dash\":[4,4],\"fill_color\":\"lightgrey\",\"fill_alpha\":0.5}}}},{\"type\":\"object\",\"name\":\"ResetTool\",\"id\":\"p7877\"},{\"type\":\"object\",\"name\":\"SaveTool\",\"id\":\"p7878\"}]}},\"left\":[{\"type\":\"object\",\"name\":\"CategoricalAxis\",\"id\":\"p7866\",\"attributes\":{\"ticker\":{\"type\":\"object\",\"name\":\"CategoricalTicker\",\"id\":\"p7869\"},\"formatter\":{\"type\":\"object\",\"name\":\"CategoricalTickFormatter\",\"id\":\"p7867\"},\"axis_label\":\"category\",\"major_label_policy\":{\"type\":\"object\",\"name\":\"AllLabels\",\"id\":\"p7868\"}}}],\"below\":[{\"type\":\"object\",\"name\":\"LinearAxis\",\"id\":\"p7859\",\"attributes\":{\"ticker\":{\"type\":\"object\",\"name\":\"BasicTicker\",\"id\":\"p7862\",\"attributes\":{\"mantissas\":[1,2,5]}},\"formatter\":{\"type\":\"object\",\"name\":\"CustomJSTickFormatter\",\"id\":\"p7939\",\"attributes\":{\"code\":\"return tick < 0 ? Math.abs(tick) + \\\" BC\\\" : tick +  \\\" AD\\\"\"}},\"axis_label\":\"year\",\"major_label_policy\":{\"type\":\"object\",\"name\":\"AllLabels\",\"id\":\"p7861\"}}}],\"center\":[{\"type\":\"object\",\"name\":\"Grid\",\"id\":\"p7865\",\"attributes\":{\"axis\":{\"id\":\"p7859\"}}},{\"type\":\"object\",\"name\":\"Grid\",\"id\":\"p7871\",\"attributes\":{\"dimension\":1,\"axis\":{\"id\":\"p7866\"}}},{\"type\":\"object\",\"name\":\"LabelSet\",\"id\":\"p7924\",\"attributes\":{\"source\":{\"type\":\"object\",\"name\":\"ColumnDataSource\",\"id\":\"p7921\",\"attributes\":{\"selected\":{\"type\":\"object\",\"name\":\"Selection\",\"id\":\"p7922\",\"attributes\":{\"indices\":[],\"line_indices\":[]}},\"selection_policy\":{\"type\":\"object\",\"name\":\"UnionRenderers\",\"id\":\"p7923\"},\"data\":{\"type\":\"map\",\"entries\":[[\"start\",[100]],[\"end\",[200]],[\"mid\",[150.0]],[\"title\",[\"Sample\\nPeriod 1\"]],[\"description\",[\"An example time period\"]],[\"label\",[null]]]}}},\"x\":{\"type\":\"field\",\"field\":\"mid\"},\"y\":{\"type\":\"value\",\"value\":\"p0\"},\"text\":{\"type\":\"field\",\"field\":\"title\"},\"y_offset\":{\"type\":\"value\",\"value\":-8},\"text_color\":{\"type\":\"value\",\"value\":\"#555555\"},\"text_font_size\":{\"type\":\"value\",\"value\":\"11px\"},\"text_align\":{\"type\":\"value\",\"value\":\"center\"}}},{\"type\":\"object\",\"name\":\"LabelSet\",\"id\":\"p7931\",\"attributes\":{\"source\":{\"type\":\"object\",\"name\":\"ColumnDataSource\",\"id\":\"p7928\",\"attributes\":{\"selected\":{\"type\":\"object\",\"name\":\"Selection\",\"id\":\"p7929\",\"attributes\":{\"indices\":[],\"line_indices\":[]}},\"selection_policy\":{\"type\":\"object\",\"name\":\"UnionRenderers\",\"id\":\"p7930\"},\"data\":{\"type\":\"map\",\"entries\":[[\"start\",[140]],[\"end\",[300]],[\"mid\",[220.0]],[\"title\",[\"Sample\\nPeriod From\\nDict\"]],[\"description\",[\"Also created from dict\"]],[\"label\",[\"random\"]]]}}},\"x\":{\"type\":\"field\",\"field\":\"mid\"},\"y\":{\"type\":\"value\",\"value\":\"p1\"},\"text\":{\"type\":\"field\",\"field\":\"title\"},\"y_offset\":{\"type\":\"value\",\"value\":-8},\"text_color\":{\"type\":\"value\",\"value\":\"#555555\"},\"text_font_size\":{\"type\":\"value\",\"value\":\"11px\"},\"text_align\":{\"type\":\"value\",\"value\":\"center\"}}},{\"type\":\"object\",\"name\":\"LabelSet\",\"id\":\"p7935\",\"attributes\":{\"source\":{\"id\":\"p7838\"},\"x\":{\"type\":\"field\",\"field\":\"dates\"},\"y\":{\"type\":\"field\",\"field\":\"label\"},\"text\":{\"type\":\"field\",\"field\":\"title\"},\"text_color\":{\"type\":\"value\",\"value\":\"#555555\"},\"text_font_size\":{\"type\":\"value\",\"value\":\"11px\"},\"text_align\":{\"type\":\"value\",\"value\":\"center\"}}}]}}],\"callbacks\":{\"type\":\"map\"}}};\n",
       "  const render_items = [{\"docid\":\"3ad5440a-e0ff-40bf-bc81-6f03234f0a5e\",\"roots\":{\"p7841\":\"7a110fce-3b01-4cbb-888f-b49e9c068881\"},\"root_ids\":[\"p7841\"]}];\n",
       "  root.Bokeh.embed.embed_items_notebook(docs_json, render_items);\n",
       "  }\n",
       "  if (root.Bokeh !== undefined) {\n",
       "    embed_document(root);\n",
       "  } else {\n",
       "    let attempts = 0;\n",
       "    const timer = setInterval(function(root) {\n",
       "      if (root.Bokeh !== undefined) {\n",
       "        clearInterval(timer);\n",
       "        embed_document(root);\n",
       "      } else {\n",
       "        attempts++;\n",
       "        if (attempts > 100) {\n",
       "          clearInterval(timer);\n",
       "          console.log(\"Bokeh: ERROR: Unable to run BokehJS code because BokehJS library is missing\");\n",
       "        }\n",
       "      }\n",
       "    }, 10, root)\n",
       "  }\n",
       "})(window);"
      ],
      "application/vnd.bokehjs_exec.v0+json": ""
     },
     "metadata": {
      "application/vnd.bokehjs_exec.v0+json": {
       "id": "p7841"
      }
     },
     "output_type": "display_data"
    }
   ],
   "source": [
    "# Create some events manually\n",
    "d1 = HistoricalDate(100)\n",
    "d2 = HistoricalDate(200)\n",
    "\n",
    "e1 = HistoricalEvent(\"Sample Event 1\", \"An example event\", d1)\n",
    "e2 = HistoricalEvent(\"Sample Period 1\", \"An example time period\", d1, d2)\n",
    "\n",
    "event_dict = {\"title\": \"Sample Period From Dict\", \"description\": \"Also created from dict\", \"start\": 140, \"end\": 300, \"era\": historical_timelines.Era.CE, \"label\": \"random\"}\n",
    "\n",
    "e3 = HistoricalEvent.event_from_dict(event_dict)\n",
    "\n",
    "mt.add_event(e1)\n",
    "mt.add_event(e2)\n",
    "mt.add_event(e3)\n",
    "mt.sort()\n",
    "\n",
    "mt.render_timeline(\"timeline.html\", True)"
   ]
  },
  {
   "cell_type": "code",
   "execution_count": 36,
   "id": "f88b562a",
   "metadata": {},
   "outputs": [
    {
     "data": {
      "text/html": [
       "\n",
       "  <div id=\"f5709dd7-a7a1-4040-b1b9-ea96e658b68f\" data-root-id=\"p8543\" style=\"display: contents;\"></div>\n"
      ]
     },
     "metadata": {},
     "output_type": "display_data"
    },
    {
     "data": {
      "application/javascript": [
       "(function(root) {\n",
       "  function embed_document(root) {\n",
       "  const docs_json = {\"e0bd141a-0f05-4efa-afbf-b1ff658fbc10\":{\"version\":\"3.1.0\",\"title\":\"Bokeh Application\",\"defs\":[],\"roots\":[{\"type\":\"object\",\"name\":\"Figure\",\"id\":\"p8543\",\"attributes\":{\"width\":1600,\"height\":400,\"x_range\":{\"type\":\"object\",\"name\":\"DataRange1d\",\"id\":\"p8545\"},\"y_range\":{\"type\":\"object\",\"name\":\"FactorRange\",\"id\":\"p8555\",\"attributes\":{\"factors\":[\"p0\",\"p1\",\"p2\",\"default\"]}},\"x_scale\":{\"type\":\"object\",\"name\":\"LinearScale\",\"id\":\"p8557\"},\"y_scale\":{\"type\":\"object\",\"name\":\"CategoricalScale\",\"id\":\"p8559\"},\"title\":{\"type\":\"object\",\"name\":\"Title\",\"id\":\"p8546\",\"attributes\":{\"text\":\"Timeline from manual creation\"}},\"renderers\":[{\"type\":\"object\",\"name\":\"GlyphRenderer\",\"id\":\"p8596\",\"attributes\":{\"data_source\":{\"type\":\"object\",\"name\":\"ColumnDataSource\",\"id\":\"p8540\",\"attributes\":{\"selected\":{\"type\":\"object\",\"name\":\"Selection\",\"id\":\"p8541\",\"attributes\":{\"indices\":[],\"line_indices\":[]}},\"selection_policy\":{\"type\":\"object\",\"name\":\"UnionRenderers\",\"id\":\"p8542\"},\"data\":{\"type\":\"map\",\"entries\":[[\"dates\",[-1098,100,100,129,247,778,1966]],[\"title\",[\"od6or7d\",\"Sample\\nEvent 1\",\"i0klvcp\",\"3jc4wil\",\"1qmueby\",\"sd53l8v\",\"o4t3427\"]],[\"description\",[\"7761co6\",\"An example event\",\"roi4nkt\",\"fghwhqq\",\"xq93ggk\",\"mibqpwu\",\"up9g05x\"]],[\"label\",[\"default\",\"default\",\"default\",\"default\",\"default\",\"default\",\"default\"]]]}}},\"view\":{\"type\":\"object\",\"name\":\"CDSView\",\"id\":\"p8597\",\"attributes\":{\"filter\":{\"type\":\"object\",\"name\":\"AllIndices\",\"id\":\"p8598\"}}},\"glyph\":{\"type\":\"object\",\"name\":\"Scatter\",\"id\":\"p8593\",\"attributes\":{\"x\":{\"type\":\"field\",\"field\":\"dates\"},\"y\":{\"type\":\"field\",\"field\":\"label\"},\"size\":{\"type\":\"value\",\"value\":20},\"line_color\":{\"type\":\"value\",\"value\":\"#1f77b4\"},\"fill_color\":{\"type\":\"value\",\"value\":\"#1f77b4\"}}},\"nonselection_glyph\":{\"type\":\"object\",\"name\":\"Scatter\",\"id\":\"p8594\",\"attributes\":{\"x\":{\"type\":\"field\",\"field\":\"dates\"},\"y\":{\"type\":\"field\",\"field\":\"label\"},\"size\":{\"type\":\"value\",\"value\":20},\"line_color\":{\"type\":\"value\",\"value\":\"#1f77b4\"},\"line_alpha\":{\"type\":\"value\",\"value\":0.1},\"fill_color\":{\"type\":\"value\",\"value\":\"#1f77b4\"},\"fill_alpha\":{\"type\":\"value\",\"value\":0.1},\"hatch_alpha\":{\"type\":\"value\",\"value\":0.1}}},\"muted_glyph\":{\"type\":\"object\",\"name\":\"Scatter\",\"id\":\"p8595\",\"attributes\":{\"x\":{\"type\":\"field\",\"field\":\"dates\"},\"y\":{\"type\":\"field\",\"field\":\"label\"},\"size\":{\"type\":\"value\",\"value\":20},\"line_color\":{\"type\":\"value\",\"value\":\"#1f77b4\"},\"line_alpha\":{\"type\":\"value\",\"value\":0.2},\"fill_color\":{\"type\":\"value\",\"value\":\"#1f77b4\"},\"fill_alpha\":{\"type\":\"value\",\"value\":0.2},\"hatch_alpha\":{\"type\":\"value\",\"value\":0.2}}}}},{\"type\":\"object\",\"name\":\"GlyphRenderer\",\"id\":\"p8608\",\"attributes\":{\"data_source\":{\"type\":\"object\",\"name\":\"ColumnDataSource\",\"id\":\"p8599\",\"attributes\":{\"selected\":{\"type\":\"object\",\"name\":\"Selection\",\"id\":\"p8600\",\"attributes\":{\"indices\":[],\"line_indices\":[]}},\"selection_policy\":{\"type\":\"object\",\"name\":\"UnionRenderers\",\"id\":\"p8601\"},\"data\":{\"type\":\"map\",\"entries\":[[\"start\",[-1783,1131]],[\"end\",[586,1830]],[\"mid\",[-598.5,1480.5]],[\"title\",[\"e1lc0hl\",\"9u3q5q6\"]],[\"description\",[\"tvqga2m\",\"c871izo\"]],[\"label\",[null,null]]]}}},\"view\":{\"type\":\"object\",\"name\":\"CDSView\",\"id\":\"p8609\",\"attributes\":{\"filter\":{\"type\":\"object\",\"name\":\"AllIndices\",\"id\":\"p8610\"}}},\"glyph\":{\"type\":\"object\",\"name\":\"HBar\",\"id\":\"p8605\",\"attributes\":{\"y\":{\"type\":\"value\",\"value\":\"p0\"},\"height\":{\"type\":\"value\",\"value\":0.3},\"left\":{\"type\":\"field\",\"field\":\"end\"},\"right\":{\"type\":\"field\",\"field\":\"start\"},\"line_color\":{\"type\":\"value\",\"value\":\"red\"},\"fill_color\":{\"type\":\"value\",\"value\":\"red\"},\"hatch_color\":{\"type\":\"value\",\"value\":\"red\"}}},\"nonselection_glyph\":{\"type\":\"object\",\"name\":\"HBar\",\"id\":\"p8606\",\"attributes\":{\"y\":{\"type\":\"value\",\"value\":\"p0\"},\"height\":{\"type\":\"value\",\"value\":0.3},\"left\":{\"type\":\"field\",\"field\":\"end\"},\"right\":{\"type\":\"field\",\"field\":\"start\"},\"line_color\":{\"type\":\"value\",\"value\":\"red\"},\"line_alpha\":{\"type\":\"value\",\"value\":0.1},\"fill_color\":{\"type\":\"value\",\"value\":\"red\"},\"fill_alpha\":{\"type\":\"value\",\"value\":0.1},\"hatch_color\":{\"type\":\"value\",\"value\":\"red\"},\"hatch_alpha\":{\"type\":\"value\",\"value\":0.1}}},\"muted_glyph\":{\"type\":\"object\",\"name\":\"HBar\",\"id\":\"p8607\",\"attributes\":{\"y\":{\"type\":\"value\",\"value\":\"p0\"},\"height\":{\"type\":\"value\",\"value\":0.3},\"left\":{\"type\":\"field\",\"field\":\"end\"},\"right\":{\"type\":\"field\",\"field\":\"start\"},\"line_color\":{\"type\":\"value\",\"value\":\"red\"},\"line_alpha\":{\"type\":\"value\",\"value\":0.2},\"fill_color\":{\"type\":\"value\",\"value\":\"red\"},\"fill_alpha\":{\"type\":\"value\",\"value\":0.2},\"hatch_color\":{\"type\":\"value\",\"value\":\"red\"},\"hatch_alpha\":{\"type\":\"value\",\"value\":0.2}}}}},{\"type\":\"object\",\"name\":\"GlyphRenderer\",\"id\":\"p8620\",\"attributes\":{\"data_source\":{\"type\":\"object\",\"name\":\"ColumnDataSource\",\"id\":\"p8611\",\"attributes\":{\"selected\":{\"type\":\"object\",\"name\":\"Selection\",\"id\":\"p8612\",\"attributes\":{\"indices\":[],\"line_indices\":[]}},\"selection_policy\":{\"type\":\"object\",\"name\":\"UnionRenderers\",\"id\":\"p8613\"},\"data\":{\"type\":\"map\",\"entries\":[[\"start\",[-1641,-50,100]],[\"end\",[-366,-47,200]],[\"mid\",[-1003.5,-48.5,150.0]],[\"title\",[\"1f5assz\",\"qkv5fah\",\"Sample\\nPeriod 1\"]],[\"description\",[\"l7qhwmj\",\"pxrwfec\",\"An example time period\"]],[\"label\",[null,null,null]]]}}},\"view\":{\"type\":\"object\",\"name\":\"CDSView\",\"id\":\"p8621\",\"attributes\":{\"filter\":{\"type\":\"object\",\"name\":\"AllIndices\",\"id\":\"p8622\"}}},\"glyph\":{\"type\":\"object\",\"name\":\"HBar\",\"id\":\"p8617\",\"attributes\":{\"y\":{\"type\":\"value\",\"value\":\"p1\"},\"height\":{\"type\":\"value\",\"value\":0.3},\"left\":{\"type\":\"field\",\"field\":\"end\"},\"right\":{\"type\":\"field\",\"field\":\"start\"},\"line_color\":{\"type\":\"value\",\"value\":\"red\"},\"fill_color\":{\"type\":\"value\",\"value\":\"red\"},\"hatch_color\":{\"type\":\"value\",\"value\":\"red\"}}},\"nonselection_glyph\":{\"type\":\"object\",\"name\":\"HBar\",\"id\":\"p8618\",\"attributes\":{\"y\":{\"type\":\"value\",\"value\":\"p1\"},\"height\":{\"type\":\"value\",\"value\":0.3},\"left\":{\"type\":\"field\",\"field\":\"end\"},\"right\":{\"type\":\"field\",\"field\":\"start\"},\"line_color\":{\"type\":\"value\",\"value\":\"red\"},\"line_alpha\":{\"type\":\"value\",\"value\":0.1},\"fill_color\":{\"type\":\"value\",\"value\":\"red\"},\"fill_alpha\":{\"type\":\"value\",\"value\":0.1},\"hatch_color\":{\"type\":\"value\",\"value\":\"red\"},\"hatch_alpha\":{\"type\":\"value\",\"value\":0.1}}},\"muted_glyph\":{\"type\":\"object\",\"name\":\"HBar\",\"id\":\"p8619\",\"attributes\":{\"y\":{\"type\":\"value\",\"value\":\"p1\"},\"height\":{\"type\":\"value\",\"value\":0.3},\"left\":{\"type\":\"field\",\"field\":\"end\"},\"right\":{\"type\":\"field\",\"field\":\"start\"},\"line_color\":{\"type\":\"value\",\"value\":\"red\"},\"line_alpha\":{\"type\":\"value\",\"value\":0.2},\"fill_color\":{\"type\":\"value\",\"value\":\"red\"},\"fill_alpha\":{\"type\":\"value\",\"value\":0.2},\"hatch_color\":{\"type\":\"value\",\"value\":\"red\"},\"hatch_alpha\":{\"type\":\"value\",\"value\":0.2}}}}},{\"type\":\"object\",\"name\":\"GlyphRenderer\",\"id\":\"p8632\",\"attributes\":{\"data_source\":{\"type\":\"object\",\"name\":\"ColumnDataSource\",\"id\":\"p8623\",\"attributes\":{\"selected\":{\"type\":\"object\",\"name\":\"Selection\",\"id\":\"p8624\",\"attributes\":{\"indices\":[],\"line_indices\":[]}},\"selection_policy\":{\"type\":\"object\",\"name\":\"UnionRenderers\",\"id\":\"p8625\"},\"data\":{\"type\":\"map\",\"entries\":[[\"start\",[140]],[\"end\",[300]],[\"mid\",[220.0]],[\"title\",[\"Sample\\nPeriod From\\nDict\"]],[\"description\",[\"Also created from dict\"]],[\"label\",[\"random\"]]]}}},\"view\":{\"type\":\"object\",\"name\":\"CDSView\",\"id\":\"p8633\",\"attributes\":{\"filter\":{\"type\":\"object\",\"name\":\"AllIndices\",\"id\":\"p8634\"}}},\"glyph\":{\"type\":\"object\",\"name\":\"HBar\",\"id\":\"p8629\",\"attributes\":{\"y\":{\"type\":\"value\",\"value\":\"p2\"},\"height\":{\"type\":\"value\",\"value\":0.3},\"left\":{\"type\":\"field\",\"field\":\"end\"},\"right\":{\"type\":\"field\",\"field\":\"start\"},\"line_color\":{\"type\":\"value\",\"value\":\"red\"},\"fill_color\":{\"type\":\"value\",\"value\":\"red\"},\"hatch_color\":{\"type\":\"value\",\"value\":\"red\"}}},\"nonselection_glyph\":{\"type\":\"object\",\"name\":\"HBar\",\"id\":\"p8630\",\"attributes\":{\"y\":{\"type\":\"value\",\"value\":\"p2\"},\"height\":{\"type\":\"value\",\"value\":0.3},\"left\":{\"type\":\"field\",\"field\":\"end\"},\"right\":{\"type\":\"field\",\"field\":\"start\"},\"line_color\":{\"type\":\"value\",\"value\":\"red\"},\"line_alpha\":{\"type\":\"value\",\"value\":0.1},\"fill_color\":{\"type\":\"value\",\"value\":\"red\"},\"fill_alpha\":{\"type\":\"value\",\"value\":0.1},\"hatch_color\":{\"type\":\"value\",\"value\":\"red\"},\"hatch_alpha\":{\"type\":\"value\",\"value\":0.1}}},\"muted_glyph\":{\"type\":\"object\",\"name\":\"HBar\",\"id\":\"p8631\",\"attributes\":{\"y\":{\"type\":\"value\",\"value\":\"p2\"},\"height\":{\"type\":\"value\",\"value\":0.3},\"left\":{\"type\":\"field\",\"field\":\"end\"},\"right\":{\"type\":\"field\",\"field\":\"start\"},\"line_color\":{\"type\":\"value\",\"value\":\"red\"},\"line_alpha\":{\"type\":\"value\",\"value\":0.2},\"fill_color\":{\"type\":\"value\",\"value\":\"red\"},\"fill_alpha\":{\"type\":\"value\",\"value\":0.2},\"hatch_color\":{\"type\":\"value\",\"value\":\"red\"},\"hatch_alpha\":{\"type\":\"value\",\"value\":0.2}}}}}],\"toolbar\":{\"type\":\"object\",\"name\":\"Toolbar\",\"id\":\"p8549\",\"attributes\":{\"tools\":[{\"type\":\"object\",\"name\":\"HoverTool\",\"id\":\"p8574\",\"attributes\":{\"renderers\":\"auto\",\"tooltips\":[[\"title\",\"@title\"],[\"description\",\"@description\"]]}},{\"type\":\"object\",\"name\":\"PanTool\",\"id\":\"p8575\"},{\"type\":\"object\",\"name\":\"WheelZoomTool\",\"id\":\"p8576\"},{\"type\":\"object\",\"name\":\"BoxZoomTool\",\"id\":\"p8577\",\"attributes\":{\"overlay\":{\"type\":\"object\",\"name\":\"BoxAnnotation\",\"id\":\"p8578\",\"attributes\":{\"syncable\":false,\"level\":\"overlay\",\"visible\":false,\"left_units\":\"canvas\",\"right_units\":\"canvas\",\"bottom_units\":\"canvas\",\"top_units\":\"canvas\",\"line_color\":\"black\",\"line_alpha\":1.0,\"line_width\":2,\"line_dash\":[4,4],\"fill_color\":\"lightgrey\",\"fill_alpha\":0.5}}}},{\"type\":\"object\",\"name\":\"ResetTool\",\"id\":\"p8579\"},{\"type\":\"object\",\"name\":\"SaveTool\",\"id\":\"p8580\"}]}},\"left\":[{\"type\":\"object\",\"name\":\"CategoricalAxis\",\"id\":\"p8568\",\"attributes\":{\"ticker\":{\"type\":\"object\",\"name\":\"CategoricalTicker\",\"id\":\"p8571\"},\"formatter\":{\"type\":\"object\",\"name\":\"CategoricalTickFormatter\",\"id\":\"p8569\"},\"axis_label\":\"category\",\"major_label_policy\":{\"type\":\"object\",\"name\":\"AllLabels\",\"id\":\"p8570\"}}}],\"below\":[{\"type\":\"object\",\"name\":\"LinearAxis\",\"id\":\"p8561\",\"attributes\":{\"ticker\":{\"type\":\"object\",\"name\":\"BasicTicker\",\"id\":\"p8564\",\"attributes\":{\"mantissas\":[1,2,5]}},\"formatter\":{\"type\":\"object\",\"name\":\"CustomJSTickFormatter\",\"id\":\"p8660\",\"attributes\":{\"code\":\"return tick < 0 ? Math.abs(tick) + \\\" BC\\\" : tick +  \\\" AD\\\"\"}},\"axis_label\":\"year\",\"major_label_policy\":{\"type\":\"object\",\"name\":\"AllLabels\",\"id\":\"p8563\"}}}],\"center\":[{\"type\":\"object\",\"name\":\"Grid\",\"id\":\"p8567\",\"attributes\":{\"axis\":{\"id\":\"p8561\"}}},{\"type\":\"object\",\"name\":\"Grid\",\"id\":\"p8573\",\"attributes\":{\"dimension\":1,\"axis\":{\"id\":\"p8568\"}}},{\"type\":\"object\",\"name\":\"LabelSet\",\"id\":\"p8638\",\"attributes\":{\"source\":{\"type\":\"object\",\"name\":\"ColumnDataSource\",\"id\":\"p8635\",\"attributes\":{\"selected\":{\"type\":\"object\",\"name\":\"Selection\",\"id\":\"p8636\",\"attributes\":{\"indices\":[],\"line_indices\":[]}},\"selection_policy\":{\"type\":\"object\",\"name\":\"UnionRenderers\",\"id\":\"p8637\"},\"data\":{\"type\":\"map\",\"entries\":[[\"start\",[-1783,1131]],[\"end\",[586,1830]],[\"mid\",[-598.5,1480.5]],[\"title\",[\"e1lc0hl\",\"9u3q5q6\"]],[\"description\",[\"tvqga2m\",\"c871izo\"]],[\"label\",[null,null]]]}}},\"x\":{\"type\":\"field\",\"field\":\"mid\"},\"y\":{\"type\":\"value\",\"value\":\"p0\"},\"text\":{\"type\":\"field\",\"field\":\"title\"},\"y_offset\":{\"type\":\"value\",\"value\":-8},\"text_color\":{\"type\":\"value\",\"value\":\"#555555\"},\"text_font_size\":{\"type\":\"value\",\"value\":\"11px\"},\"text_align\":{\"type\":\"value\",\"value\":\"center\"}}},{\"type\":\"object\",\"name\":\"LabelSet\",\"id\":\"p8645\",\"attributes\":{\"source\":{\"type\":\"object\",\"name\":\"ColumnDataSource\",\"id\":\"p8642\",\"attributes\":{\"selected\":{\"type\":\"object\",\"name\":\"Selection\",\"id\":\"p8643\",\"attributes\":{\"indices\":[],\"line_indices\":[]}},\"selection_policy\":{\"type\":\"object\",\"name\":\"UnionRenderers\",\"id\":\"p8644\"},\"data\":{\"type\":\"map\",\"entries\":[[\"start\",[-1641,-50,100]],[\"end\",[-366,-47,200]],[\"mid\",[-1003.5,-48.5,150.0]],[\"title\",[\"1f5assz\",\"qkv5fah\",\"Sample\\nPeriod 1\"]],[\"description\",[\"l7qhwmj\",\"pxrwfec\",\"An example time period\"]],[\"label\",[null,null,null]]]}}},\"x\":{\"type\":\"field\",\"field\":\"mid\"},\"y\":{\"type\":\"value\",\"value\":\"p1\"},\"text\":{\"type\":\"field\",\"field\":\"title\"},\"y_offset\":{\"type\":\"value\",\"value\":-8},\"text_color\":{\"type\":\"value\",\"value\":\"#555555\"},\"text_font_size\":{\"type\":\"value\",\"value\":\"11px\"},\"text_align\":{\"type\":\"value\",\"value\":\"center\"}}},{\"type\":\"object\",\"name\":\"LabelSet\",\"id\":\"p8652\",\"attributes\":{\"source\":{\"type\":\"object\",\"name\":\"ColumnDataSource\",\"id\":\"p8649\",\"attributes\":{\"selected\":{\"type\":\"object\",\"name\":\"Selection\",\"id\":\"p8650\",\"attributes\":{\"indices\":[],\"line_indices\":[]}},\"selection_policy\":{\"type\":\"object\",\"name\":\"UnionRenderers\",\"id\":\"p8651\"},\"data\":{\"type\":\"map\",\"entries\":[[\"start\",[140]],[\"end\",[300]],[\"mid\",[220.0]],[\"title\",[\"Sample\\nPeriod From\\nDict\"]],[\"description\",[\"Also created from dict\"]],[\"label\",[\"random\"]]]}}},\"x\":{\"type\":\"field\",\"field\":\"mid\"},\"y\":{\"type\":\"value\",\"value\":\"p2\"},\"text\":{\"type\":\"field\",\"field\":\"title\"},\"y_offset\":{\"type\":\"value\",\"value\":-8},\"text_color\":{\"type\":\"value\",\"value\":\"#555555\"},\"text_font_size\":{\"type\":\"value\",\"value\":\"11px\"},\"text_align\":{\"type\":\"value\",\"value\":\"center\"}}},{\"type\":\"object\",\"name\":\"LabelSet\",\"id\":\"p8656\",\"attributes\":{\"source\":{\"id\":\"p8540\"},\"x\":{\"type\":\"field\",\"field\":\"dates\"},\"y\":{\"type\":\"field\",\"field\":\"label\"},\"text\":{\"type\":\"field\",\"field\":\"title\"},\"text_color\":{\"type\":\"value\",\"value\":\"#555555\"},\"text_font_size\":{\"type\":\"value\",\"value\":\"11px\"},\"text_align\":{\"type\":\"value\",\"value\":\"center\"}}}]}}],\"callbacks\":{\"type\":\"map\"}}};\n",
       "  const render_items = [{\"docid\":\"e0bd141a-0f05-4efa-afbf-b1ff658fbc10\",\"roots\":{\"p8543\":\"f5709dd7-a7a1-4040-b1b9-ea96e658b68f\"},\"root_ids\":[\"p8543\"]}];\n",
       "  root.Bokeh.embed.embed_items_notebook(docs_json, render_items);\n",
       "  }\n",
       "  if (root.Bokeh !== undefined) {\n",
       "    embed_document(root);\n",
       "  } else {\n",
       "    let attempts = 0;\n",
       "    const timer = setInterval(function(root) {\n",
       "      if (root.Bokeh !== undefined) {\n",
       "        clearInterval(timer);\n",
       "        embed_document(root);\n",
       "      } else {\n",
       "        attempts++;\n",
       "        if (attempts > 100) {\n",
       "          clearInterval(timer);\n",
       "          console.log(\"Bokeh: ERROR: Unable to run BokehJS code because BokehJS library is missing\");\n",
       "        }\n",
       "      }\n",
       "    }, 10, root)\n",
       "  }\n",
       "})(window);"
      ],
      "application/vnd.bokehjs_exec.v0+json": ""
     },
     "metadata": {
      "application/vnd.bokehjs_exec.v0+json": {
       "id": "p8543"
      }
     },
     "output_type": "display_data"
    }
   ],
   "source": [
    "# Add an array of events\n",
    "events = []\n",
    "\n",
    "for i in range(10):\n",
    "    events.append(HistoricalEvent.get_random_event())\n",
    "mt.add_events(events)\n",
    "mt.sort()\n",
    "\n",
    "mt.render_timeline(\"timeline.html\", True)"
   ]
  }
 ],
 "metadata": {
  "kernelspec": {
   "display_name": "Python 3 (ipykernel)",
   "language": "python",
   "name": "python3"
  },
  "language_info": {
   "codemirror_mode": {
    "name": "ipython",
    "version": 3
   },
   "file_extension": ".py",
   "mimetype": "text/x-python",
   "name": "python",
   "nbconvert_exporter": "python",
   "pygments_lexer": "ipython3",
   "version": "3.10.6"
  }
 },
 "nbformat": 4,
 "nbformat_minor": 5
}
